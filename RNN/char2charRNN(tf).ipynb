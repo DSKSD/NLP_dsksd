{
 "cells": [
  {
   "cell_type": "code",
   "execution_count": 1,
   "metadata": {
    "collapsed": true
   },
   "outputs": [],
   "source": [
    "# Recurrent Neural Network\n",
    "import numpy as np\n",
    "import tensorflow as tf"
   ]
  },
  {
   "cell_type": "code",
   "execution_count": 2,
   "metadata": {
    "collapsed": false
   },
   "outputs": [
    {
     "data": {
      "text/plain": [
       "'0.10.0'"
      ]
     },
     "execution_count": 2,
     "metadata": {},
     "output_type": "execute_result"
    }
   ],
   "source": [
    "tf.__version__"
   ]
  },
  {
   "cell_type": "code",
   "execution_count": 3,
   "metadata": {
    "collapsed": true
   },
   "outputs": [],
   "source": [
    "char_rdic = list('helo')  # id -> char\n",
    "char_dic = {w: i for i, w in enumerate(char_rdic)}  # char -> id"
   ]
  },
  {
   "cell_type": "code",
   "execution_count": 4,
   "metadata": {
    "collapsed": true
   },
   "outputs": [],
   "source": [
    "x_data = np.array([\n",
    "    [1, 0, 0, 0],  # h\n",
    "    [0, 1, 0, 0],  # e\n",
    "    [0, 0, 1, 0],  # l\n",
    "    [0, 0, 1, 0],  # l\n",
    "],\n",
    "    dtype='f')\n",
    "\n",
    "sample = [char_dic[c] for c in \"hello\"]  # to index"
   ]
  },
  {
   "cell_type": "code",
   "execution_count": 5,
   "metadata": {
    "collapsed": true
   },
   "outputs": [],
   "source": [
    "# Configuration\n",
    "char_vocab_size = len(char_dic)\n",
    "rnn_size = char_vocab_size  # 1 hot coding (one of 4)\n",
    "time_step_size = 4  # 'hell' -> predict 'ello'\n",
    "batch_size = 1  # one sample"
   ]
  },
  {
   "cell_type": "code",
   "execution_count": 6,
   "metadata": {
    "collapsed": false
   },
   "outputs": [],
   "source": [
    "# RNN model\n",
    "rnn_cell = tf.nn.rnn_cell.BasicRNNCell(rnn_size)\n",
    "state = tf.zeros([batch_size, rnn_cell.state_size])\n",
    "X_split = tf.split(0, time_step_size, x_data)\n",
    "outputs, state = tf.nn.rnn(rnn_cell, X_split, state)"
   ]
  },
  {
   "cell_type": "code",
   "execution_count": 7,
   "metadata": {
    "collapsed": true
   },
   "outputs": [],
   "source": [
    "# logits: list of 2D Tensors of shape [batch_size x num_decoder_symbols]\n",
    "# targets: list of 1D batch-sized int32 Tensors of the same length as logits.\n",
    "# weights: list of 1D batch-sized float-Tensors of the same length as logits.\n",
    "logits = tf.reshape(tf.concat(1, outputs), [-1, rnn_size])\n",
    "targets = tf.reshape(sample[1:], [-1])\n",
    "weights = tf.ones([time_step_size * batch_size])"
   ]
  },
  {
   "cell_type": "code",
   "execution_count": 8,
   "metadata": {
    "collapsed": false
   },
   "outputs": [],
   "source": [
    "loss = tf.nn.seq2seq.sequence_loss_by_example([logits], [targets], [weights])\n",
    "cost = tf.reduce_sum(loss) / batch_size\n",
    "train_op = tf.train.RMSPropOptimizer(0.01, 0.9).minimize(cost)"
   ]
  },
  {
   "cell_type": "code",
   "execution_count": 9,
   "metadata": {
    "collapsed": false
   },
   "outputs": [
    {
     "name": "stdout",
     "output_type": "stream",
     "text": [
      "array([3, 2, 3, 1]), ['o', 'l', 'o', 'e']\n",
      "array([3, 2, 3, 1]), ['o', 'l', 'o', 'e']\n",
      "array([3, 2, 3, 1]), ['o', 'l', 'o', 'e']\n",
      "array([3, 2, 3, 1]), ['o', 'l', 'o', 'e']\n",
      "array([1, 2, 3, 1]), ['e', 'l', 'o', 'e']\n",
      "array([1, 2, 3, 1]), ['e', 'l', 'o', 'e']\n",
      "array([1, 2, 3, 1]), ['e', 'l', 'o', 'e']\n",
      "array([1, 2, 3, 1]), ['e', 'l', 'o', 'e']\n",
      "array([1, 2, 3, 1]), ['e', 'l', 'o', 'e']\n",
      "array([1, 2, 3, 3]), ['e', 'l', 'o', 'o']\n",
      "array([1, 2, 3, 3]), ['e', 'l', 'o', 'o']\n",
      "array([1, 2, 3, 3]), ['e', 'l', 'o', 'o']\n",
      "array([1, 2, 3, 3]), ['e', 'l', 'o', 'o']\n",
      "array([1, 2, 3, 3]), ['e', 'l', 'o', 'o']\n",
      "array([1, 2, 3, 3]), ['e', 'l', 'o', 'o']\n",
      "array([1, 2, 3, 3]), ['e', 'l', 'o', 'o']\n",
      "array([1, 2, 3, 3]), ['e', 'l', 'o', 'o']\n",
      "array([1, 2, 3, 3]), ['e', 'l', 'o', 'o']\n",
      "array([1, 2, 3, 3]), ['e', 'l', 'o', 'o']\n",
      "array([1, 2, 3, 3]), ['e', 'l', 'o', 'o']\n",
      "array([1, 2, 3, 3]), ['e', 'l', 'o', 'o']\n",
      "array([1, 2, 3, 3]), ['e', 'l', 'o', 'o']\n",
      "array([1, 2, 3, 3]), ['e', 'l', 'o', 'o']\n",
      "array([1, 2, 3, 3]), ['e', 'l', 'o', 'o']\n",
      "array([1, 2, 2, 3]), ['e', 'l', 'l', 'o']\n",
      "array([1, 2, 2, 3]), ['e', 'l', 'l', 'o']\n",
      "array([1, 2, 2, 3]), ['e', 'l', 'l', 'o']\n",
      "array([1, 2, 2, 3]), ['e', 'l', 'l', 'o']\n",
      "array([1, 2, 2, 3]), ['e', 'l', 'l', 'o']\n",
      "array([1, 2, 2, 3]), ['e', 'l', 'l', 'o']\n",
      "array([1, 2, 2, 3]), ['e', 'l', 'l', 'o']\n",
      "array([1, 2, 2, 3]), ['e', 'l', 'l', 'o']\n",
      "array([1, 2, 2, 3]), ['e', 'l', 'l', 'o']\n",
      "array([1, 2, 2, 3]), ['e', 'l', 'l', 'o']\n",
      "array([1, 2, 2, 3]), ['e', 'l', 'l', 'o']\n",
      "array([1, 2, 2, 3]), ['e', 'l', 'l', 'o']\n",
      "array([1, 2, 2, 3]), ['e', 'l', 'l', 'o']\n",
      "array([1, 2, 2, 3]), ['e', 'l', 'l', 'o']\n",
      "array([1, 2, 2, 3]), ['e', 'l', 'l', 'o']\n",
      "array([1, 2, 2, 3]), ['e', 'l', 'l', 'o']\n",
      "array([1, 2, 2, 3]), ['e', 'l', 'l', 'o']\n",
      "array([1, 2, 2, 3]), ['e', 'l', 'l', 'o']\n",
      "array([1, 2, 2, 3]), ['e', 'l', 'l', 'o']\n",
      "array([1, 2, 2, 3]), ['e', 'l', 'l', 'o']\n",
      "array([1, 2, 2, 3]), ['e', 'l', 'l', 'o']\n",
      "array([1, 2, 2, 3]), ['e', 'l', 'l', 'o']\n",
      "array([1, 2, 2, 3]), ['e', 'l', 'l', 'o']\n",
      "array([1, 2, 2, 3]), ['e', 'l', 'l', 'o']\n",
      "array([1, 2, 2, 3]), ['e', 'l', 'l', 'o']\n",
      "array([1, 2, 2, 3]), ['e', 'l', 'l', 'o']\n",
      "array([1, 2, 2, 3]), ['e', 'l', 'l', 'o']\n",
      "array([1, 2, 2, 3]), ['e', 'l', 'l', 'o']\n",
      "array([1, 2, 2, 3]), ['e', 'l', 'l', 'o']\n",
      "array([1, 2, 2, 3]), ['e', 'l', 'l', 'o']\n",
      "array([1, 2, 2, 3]), ['e', 'l', 'l', 'o']\n",
      "array([1, 2, 2, 3]), ['e', 'l', 'l', 'o']\n",
      "array([1, 2, 2, 3]), ['e', 'l', 'l', 'o']\n",
      "array([1, 2, 2, 3]), ['e', 'l', 'l', 'o']\n",
      "array([1, 2, 2, 3]), ['e', 'l', 'l', 'o']\n",
      "array([1, 2, 2, 3]), ['e', 'l', 'l', 'o']\n",
      "array([1, 2, 2, 3]), ['e', 'l', 'l', 'o']\n",
      "array([1, 2, 2, 3]), ['e', 'l', 'l', 'o']\n",
      "array([1, 2, 2, 3]), ['e', 'l', 'l', 'o']\n",
      "array([1, 2, 2, 3]), ['e', 'l', 'l', 'o']\n",
      "array([1, 2, 2, 3]), ['e', 'l', 'l', 'o']\n",
      "array([1, 2, 2, 3]), ['e', 'l', 'l', 'o']\n",
      "array([1, 2, 2, 3]), ['e', 'l', 'l', 'o']\n",
      "array([1, 2, 2, 3]), ['e', 'l', 'l', 'o']\n",
      "array([1, 2, 2, 3]), ['e', 'l', 'l', 'o']\n",
      "array([1, 2, 2, 3]), ['e', 'l', 'l', 'o']\n",
      "array([1, 2, 2, 3]), ['e', 'l', 'l', 'o']\n",
      "array([1, 2, 2, 3]), ['e', 'l', 'l', 'o']\n",
      "array([1, 2, 2, 3]), ['e', 'l', 'l', 'o']\n",
      "array([1, 2, 2, 3]), ['e', 'l', 'l', 'o']\n",
      "array([1, 2, 2, 3]), ['e', 'l', 'l', 'o']\n",
      "array([1, 2, 2, 3]), ['e', 'l', 'l', 'o']\n",
      "array([1, 2, 2, 3]), ['e', 'l', 'l', 'o']\n",
      "array([1, 2, 2, 3]), ['e', 'l', 'l', 'o']\n",
      "array([1, 2, 2, 3]), ['e', 'l', 'l', 'o']\n",
      "array([1, 2, 2, 3]), ['e', 'l', 'l', 'o']\n",
      "array([1, 2, 2, 3]), ['e', 'l', 'l', 'o']\n",
      "array([1, 2, 2, 3]), ['e', 'l', 'l', 'o']\n",
      "array([1, 2, 2, 3]), ['e', 'l', 'l', 'o']\n",
      "array([1, 2, 2, 3]), ['e', 'l', 'l', 'o']\n",
      "array([1, 2, 2, 3]), ['e', 'l', 'l', 'o']\n",
      "array([1, 2, 2, 3]), ['e', 'l', 'l', 'o']\n",
      "array([1, 2, 2, 3]), ['e', 'l', 'l', 'o']\n",
      "array([1, 2, 2, 3]), ['e', 'l', 'l', 'o']\n",
      "array([1, 2, 2, 3]), ['e', 'l', 'l', 'o']\n",
      "array([1, 2, 2, 3]), ['e', 'l', 'l', 'o']\n",
      "array([1, 2, 2, 3]), ['e', 'l', 'l', 'o']\n",
      "array([1, 2, 2, 3]), ['e', 'l', 'l', 'o']\n",
      "array([1, 2, 2, 3]), ['e', 'l', 'l', 'o']\n",
      "array([1, 2, 2, 3]), ['e', 'l', 'l', 'o']\n",
      "array([1, 2, 2, 3]), ['e', 'l', 'l', 'o']\n",
      "array([1, 2, 2, 3]), ['e', 'l', 'l', 'o']\n",
      "array([1, 2, 2, 3]), ['e', 'l', 'l', 'o']\n",
      "array([1, 2, 2, 3]), ['e', 'l', 'l', 'o']\n",
      "array([1, 2, 2, 3]), ['e', 'l', 'l', 'o']\n",
      "array([1, 2, 2, 3]), ['e', 'l', 'l', 'o']\n"
     ]
    }
   ],
   "source": [
    "# Launch the graph in a session\n",
    "with tf.Session() as sess:\n",
    "    # you need to initialize all variables\n",
    "    tf.initialize_all_variables().run()\n",
    "    for i in range(100):\n",
    "        sess.run(train_op)\n",
    "        result = sess.run(tf.arg_max(logits, 1))\n",
    "        print(\"%r, %r\" % (result, [char_rdic[t] for t in result]))\n"
   ]
  },
  {
   "cell_type": "code",
   "execution_count": null,
   "metadata": {
    "collapsed": true
   },
   "outputs": [],
   "source": []
  }
 ],
 "metadata": {
  "kernelspec": {
   "display_name": "Python 2",
   "language": "python",
   "name": "python2"
  },
  "language_info": {
   "codemirror_mode": {
    "name": "ipython",
    "version": 2
   },
   "file_extension": ".py",
   "mimetype": "text/x-python",
   "name": "python",
   "nbconvert_exporter": "python",
   "pygments_lexer": "ipython2",
   "version": "2.7.6"
  }
 },
 "nbformat": 4,
 "nbformat_minor": 0
}
