{
 "cells": [
  {
   "cell_type": "code",
   "execution_count": 1,
   "metadata": {
    "collapsed": true
   },
   "outputs": [],
   "source": [
    "import random"
   ]
  },
  {
   "cell_type": "code",
   "execution_count": 2,
   "metadata": {
    "collapsed": true
   },
   "outputs": [],
   "source": [
    "chapter = {0 : '123 (265~270 5p)', 1 : '4(271~276 5p)', 2 : '56(277~280 3p)', \n",
    "           3 : '7(282~286 4p)', 4: '8-1(287~292 5p)', 5: '8-2(293~297 4p)'}"
   ]
  },
  {
   "cell_type": "code",
   "execution_count": 3,
   "metadata": {
    "collapsed": true
   },
   "outputs": [],
   "source": [
    "x = [0,1,2,3,4,5]"
   ]
  },
  {
   "cell_type": "code",
   "execution_count": 4,
   "metadata": {
    "collapsed": true
   },
   "outputs": [],
   "source": [
    "name = ['소영', '수연', '성동', '지원', '우영', '소현']"
   ]
  },
  {
   "cell_type": "code",
   "execution_count": 5,
   "metadata": {
    "collapsed": false
   },
   "outputs": [
    {
     "name": "stdout",
     "output_type": "stream",
     "text": [
      "소영 8-2(293~297 4p)\n",
      "수연 7(282~286 4p)\n",
      "성동 4(271~276 5p)\n",
      "지원 56(277~280 3p)\n",
      "우영 123 (265~270 5p)\n",
      "소현 8-1(287~292 5p)\n"
     ]
    }
   ],
   "source": [
    "for step in range(6):\n",
    "    ind = x.pop(x.index(random.choice(x)))\n",
    "    print name[step], chapter[ind]"
   ]
  },
  {
   "cell_type": "code",
   "execution_count": null,
   "metadata": {
    "collapsed": true
   },
   "outputs": [],
   "source": []
  }
 ],
 "metadata": {
  "kernelspec": {
   "display_name": "Python 2",
   "language": "python",
   "name": "python2"
  },
  "language_info": {
   "codemirror_mode": {
    "name": "ipython",
    "version": 2
   },
   "file_extension": ".py",
   "mimetype": "text/x-python",
   "name": "python",
   "nbconvert_exporter": "python",
   "pygments_lexer": "ipython2",
   "version": "2.7.6"
  }
 },
 "nbformat": 4,
 "nbformat_minor": 0
}
