{
 "cells": [
  {
   "cell_type": "markdown",
   "metadata": {},
   "source": [
    "# 파이썬을 이용한 자연어 처리 기초"
   ]
  },
  {
   "cell_type": "markdown",
   "metadata": {},
   "source": [
    "* 참고 : https://www.lucypark.kr/courses/2015-dm/text-mining.html\n",
    "* 발표 : 딥사이어인 파트3 김성동"
   ]
  },
  {
   "cell_type": "markdown",
   "metadata": {},
   "source": [
    "## 패키지 임포트 "
   ]
  },
  {
   "cell_type": "code",
   "execution_count": 3,
   "metadata": {
    "collapsed": true
   },
   "outputs": [],
   "source": [
    "# coding=utf-8\n",
    "from __future__ import unicode_literals\n",
    "from konlpy.utils import pprint\n",
    "%matplotlib inline"
   ]
  },
  {
   "cell_type": "markdown",
   "metadata": {},
   "source": [
    "## NLP 용어 정리 "
   ]
  },
  {
   "cell_type": "markdown",
   "metadata": {},
   "source": [
    "* Document : 문서\n",
    "* Copus : 말뭉치(문서들의 집합)\n",
    "* Token : 토큰(단어, 어절, 상징과 같은 텍스트의 의미있는 원소)\n",
    "* Morphemes : 형태소 (언어의 가장 작으면서 의미있는 단위)\n",
    "* Phoneme : 음소/음절\n",
    "* Syntax : 구문론(문법)\n",
    "* Semantic : 의미론\n",
    "* POS : 품사 (Part-Of-Speech) ex. Noun/명사"
   ]
  },
  {
   "cell_type": "markdown",
   "metadata": {},
   "source": [
    "# Language Modeling "
   ]
  },
  {
   "cell_type": "markdown",
   "metadata": {},
   "source": [
    "__Probabilistic language model__ : 문장에 확률을 부여한다.<br>\n",
    "\n",
    "<br>\n",
    "$$ P(S) = P(w_1,w_2,w_3,...w_n) $$"
   ]
  },
  {
   "cell_type": "markdown",
   "metadata": {},
   "source": [
    "* 다음 단어 예측 :  $ P(w_n|w_1,w_2,...,w_{n-1}) $ <br>\n"
   ]
  },
  {
   "cell_type": "markdown",
   "metadata": {},
   "source": [
    "### Uses of Lanuage Models"
   ]
  },
  {
   "cell_type": "markdown",
   "metadata": {},
   "source": [
    "- Speech recognition\n",
    "- Text generation\n",
    "- Spelling correction\n",
    "- Machine translation\n",
    "- Other uses(Document classification, summarization, OCR)\n",
    "\n",
    "<br>\n",
    "후에 translation model로 연결된다."
   ]
  },
  {
   "cell_type": "markdown",
   "metadata": {},
   "source": [
    "문장의 확률을 chain rule을 이용해 구해낸다. 하지만 이는 많은 양의 연산을 요구한다."
   ]
  },
  {
   "cell_type": "markdown",
   "metadata": {},
   "source": [
    "## N-gram Models "
   ]
  },
  {
   "cell_type": "markdown",
   "metadata": {},
   "source": [
    "* 이전 단어들에 기반하여 단어의 확률을 예측한다.<br> ex. P(square | Let's meet in Times)\n",
    "* Markov assumption : Only look at limited history\n",
    "* N-gram models\n",
    "<br>\n",
    "Unigram - no context: P(square) <br>\n",
    "Bigram: P(sqaure | Times) <br>\n",
    "Trigram: P(square | in Times)\n",
    "<hr>\n",
    "N-grams are just one way to represent weighted regular languages. ( HMM's are equivalent to weighted finite state transitions)"
   ]
  },
  {
   "cell_type": "markdown",
   "metadata": {},
   "source": [
    "### 셰익스피어  "
   ]
  },
  {
   "cell_type": "markdown",
   "metadata": {},
   "source": [
    "- unigrams : 29,524개의 타입, 대략 900,000 토큰\n",
    "- bigrams: 346,097 타입, 대략 900,000 토큰\n",
    "<br>\n",
    "__Notice - very saprse data!__"
   ]
  },
  {
   "cell_type": "markdown",
   "metadata": {},
   "source": [
    "### Estimation"
   ]
  },
  {
   "cell_type": "markdown",
   "metadata": {},
   "source": [
    "데이터가 매우 sparse하기 때문에 곧바로 조건부 확률을 계산해낼 수는 없고,\n",
    "마코프 가정을 통해 추정\n",
    "<br>\n",
    "하지만 트레이닝 코퍼스에만 적합하는 경향이 있고 일반화하기 어렵다..!<br>\n",
    "<br>\n",
    "* Engineering Trick : MLE은 보통 10^-6 정도이다. 이를 단어별로 다 곱하면 (예를 들어 단어 20개) 10^-120을 얻을 것이다. 이는 언더 플로우를 발생시킨다. 이를 위해 __logarithm__을 사용하라.\n",
    "ex) 10^-6 -> -6 (products 대신 sums을 사용)"
   ]
  },
  {
   "cell_type": "markdown",
   "metadata": {},
   "source": [
    "### Smoothing"
   ]
  },
  {
   "cell_type": "markdown",
   "metadata": {},
   "source": [
    "만약 단어의 사이즈가 약 백만개라면 unigram으로 추정할 파라미터들이 너무 많아진다. 또한 처음 보는 데이터(문장)에 대해 MLE는 거의 0의 값을 할당할 것이다. 만약 bigram, trigram을 사용하면 그 수는 더욱 증가할 것이다.\n",
    "<br>\n",
    "<br>\n",
    "* Smoothing(regularization) : unseen data(본 적 없는 데이터)에 대해 어떤 확률로 재할당하는 것.\n",
    "<br>\n",
    "* Add-one (Laplace) smoothing:\n",
    "<br>  Bigrams: $$ P(w_i | w_{i-1}) = (c(w_{i-1},w_i)+1)/(c(w_{i-1})+V) $$ <br>\n",
    "하지만 이러한 방식은 unseen data에 대해 많은 value를 주게 될 수도"
   ]
  },
  {
   "cell_type": "markdown",
   "metadata": {},
   "source": [
    "### Example "
   ]
  },
  {
   "cell_type": "markdown",
   "metadata": {},
   "source": [
    "* Corpus : \"cat dog cat rabbit mouse fish fish mouse hamster hamster fish turtle tiger cat rabbit cat dog dog fox lion\"\n",
    "<br><br>\n",
    "* 다음 아이템이 \"mouse\"일 확률? : $P_{MLE}(mouse)$ = 2/20\n",
    "* 본 적 없는 \"elephant\" 같은 단어가 다음 아이템일 확률은? : 0/20??, 하지만 P(next animal is unseen) > 0 는 확실, 그렇기에 우리는 봤던 동물의 확률 역시 낮출 필요가 있다..? $P_{MLE}(mouse)$ < 2/20 <br>\n",
    "<br> => Good Turing"
   ]
  },
  {
   "cell_type": "markdown",
   "metadata": {},
   "source": [
    "### 데이터가 sparse할 때 => Backoff, Interpolation"
   ]
  },
  {
   "cell_type": "markdown",
   "metadata": {},
   "source": [
    "### Evaluation of LM"
   ]
  },
  {
   "cell_type": "markdown",
   "metadata": {},
   "source": [
    "* Extrinsic : Use in an application\n",
    "* Intrinsic : Cheaper\n",
    "* Correlate the two for validation purposes(하나가 다른 하나를 완전히 대체할 순 없다. 상호보완적으로 사용해야 함)"
   ]
  },
  {
   "cell_type": "markdown",
   "metadata": {},
   "source": [
    "### Perplexity(Intrinsic)"
   ]
  },
  {
   "cell_type": "markdown",
   "metadata": {},
   "source": [
    "* Does the model fit the data? : A good model will give a high probability to a real sentence <br>\n",
    "* Perplexity : Average __branching factor__ in predicting the next word, 작을수록 좋다. (lower perplexity -> higher probability),\n",
    "N = number of words\n",
    "\n",
    "$$ Per = n\\sqrt{\\frac{1}{P(w_1,w_2,...,w_n)}} $$\n",
    "<br>\n",
    "<br>\n",
    "$$ Per = 2^{-(1/N) \\sum_xlog_2 p(w_i)} $$\n",
    "<br>\n",
    "<br>\n",
    "$$ Cross-entory : H(p,q) = \\sum_x p(x)logq(x) $$"
   ]
  },
  {
   "cell_type": "markdown",
   "metadata": {},
   "source": [
    "### Word Error Rate"
   ]
  },
  {
   "cell_type": "markdown",
   "metadata": {},
   "source": [
    "실제와 예측 문장을 비교하여 서로 맞게 해줄 때 몇번을 삽입, 삭제, 대체해야하는지를 본다."
   ]
  },
  {
   "cell_type": "markdown",
   "metadata": {},
   "source": [
    "### Issues"
   ]
  },
  {
   "cell_type": "markdown",
   "metadata": {},
   "source": [
    "* out of vocabulary : <unk> 사용\n",
    "* Clustering : 날짜, 단위, 조직, 연도 등은 하나로 통일해준다.\n",
    "* Long (distance)term dependency : LM은 하나나 두 단어 앞만 보기 때문에 영향을 주는 단어 간의 거리가 멀어지면 예측에 실패한다..(구문적, 의미적 정보를 잊게 된다.)<br>\n",
    "ex) __The students__ who participated in the game __are__ tired"
   ]
  },
  {
   "cell_type": "markdown",
   "metadata": {},
   "source": [
    "## 리스트 자료구조"
   ]
  },
  {
   "cell_type": "markdown",
   "metadata": {},
   "source": [
    "### 선언 및 초기화 "
   ]
  },
  {
   "cell_type": "code",
   "execution_count": 15,
   "metadata": {
    "collapsed": false
   },
   "outputs": [
    {
     "name": "stdout",
     "output_type": "stream",
     "text": [
      "[1, 2, 3, 4]\n"
     ]
    }
   ],
   "source": [
    "myList = [1,2,3,4]\n",
    "print myList"
   ]
  },
  {
   "cell_type": "markdown",
   "metadata": {},
   "source": [
    "### 인덱싱 "
   ]
  },
  {
   "cell_type": "code",
   "execution_count": 14,
   "metadata": {
    "collapsed": false
   },
   "outputs": [
    {
     "name": "stdout",
     "output_type": "stream",
     "text": [
      "1\n",
      "[1, 2, 3]\n",
      "[1, 2, 3, 4]\n"
     ]
    }
   ],
   "source": [
    "print myList[0] # indexing\n",
    "print myList[0:3]\n",
    "print myList[:-1]"
   ]
  },
  {
   "cell_type": "markdown",
   "metadata": {},
   "source": [
    "### 관련 함수 "
   ]
  },
  {
   "cell_type": "markdown",
   "metadata": {},
   "source": [
    "https://wikidocs.net/14  # 더 자세한 내용은 링크 참고"
   ]
  },
  {
   "cell_type": "code",
   "execution_count": 17,
   "metadata": {
    "collapsed": false
   },
   "outputs": [
    {
     "name": "stdout",
     "output_type": "stream",
     "text": [
      "[1, 2, 3, 4, 5]\n"
     ]
    }
   ],
   "source": [
    "myList.append(5) # 리스트에 element 추가\n",
    "print myList"
   ]
  },
  {
   "cell_type": "code",
   "execution_count": 18,
   "metadata": {
    "collapsed": false
   },
   "outputs": [
    {
     "data": {
      "text/plain": [
       "5"
      ]
     },
     "execution_count": 18,
     "metadata": {},
     "output_type": "execute_result"
    }
   ],
   "source": [
    "myList.pop() # 해당 위치의 element 꺼내기(default = -1)"
   ]
  },
  {
   "cell_type": "code",
   "execution_count": 19,
   "metadata": {
    "collapsed": false
   },
   "outputs": [
    {
     "data": {
      "text/plain": [
       "4"
      ]
     },
     "execution_count": 19,
     "metadata": {},
     "output_type": "execute_result"
    }
   ],
   "source": [
    "len(myList) # 리스트의 element 갯수 "
   ]
  },
  {
   "cell_type": "markdown",
   "metadata": {},
   "source": [
    "### List Comprehension"
   ]
  },
  {
   "cell_type": "markdown",
   "metadata": {},
   "source": [
    "파이썬은 \"list comprehensions\"이라는 기능을 제공한다. list 전 element에 공통적 연산을 수행하는 것을 한 줄로 표현 가능"
   ]
  },
  {
   "cell_type": "code",
   "execution_count": 22,
   "metadata": {
    "collapsed": false
   },
   "outputs": [
    {
     "name": "stdout",
     "output_type": "stream",
     "text": [
      "[0, 1, 4, 9, 16, 25, 36, 49, 64, 81]\n"
     ]
    }
   ],
   "source": [
    "S = [x**2 for x in range(10)]\n",
    "print S"
   ]
  },
  {
   "cell_type": "code",
   "execution_count": 23,
   "metadata": {
    "collapsed": false
   },
   "outputs": [
    {
     "name": "stdout",
     "output_type": "stream",
     "text": [
      "[1, 2, 4, 8, 16, 32, 64, 128, 256, 512, 1024, 2048, 4096]\n"
     ]
    }
   ],
   "source": [
    "V = [2**i for i in range(13)]\n",
    "print V"
   ]
  },
  {
   "cell_type": "code",
   "execution_count": 24,
   "metadata": {
    "collapsed": false
   },
   "outputs": [
    {
     "name": "stdout",
     "output_type": "stream",
     "text": [
      "[0, 4, 16, 36, 64]\n"
     ]
    }
   ],
   "source": [
    "M = [x for x in S if x % 2 == 0]\n",
    "print M"
   ]
  },
  {
   "cell_type": "markdown",
   "metadata": {},
   "source": [
    "## 튜플 "
   ]
  },
  {
   "cell_type": "markdown",
   "metadata": {},
   "source": [
    "리스트와는 달리 생성, 수정 및 삭제가 안된다."
   ]
  },
  {
   "cell_type": "code",
   "execution_count": 42,
   "metadata": {
    "collapsed": true
   },
   "outputs": [],
   "source": [
    "tuple_ = (1,2,3)\n",
    "list_ = [1,2,3]"
   ]
  },
  {
   "cell_type": "code",
   "execution_count": 47,
   "metadata": {
    "collapsed": false
   },
   "outputs": [
    {
     "name": "stdout",
     "output_type": "stream",
     "text": [
      "tuple:  1  list:  1\n",
      "tuple:  2  list:  2\n",
      "tuple:  3  list:  3\n"
     ]
    }
   ],
   "source": [
    "for i in range(3):\n",
    "    print \"tuple: \", tuple_[i], \" list: \", list_[i]"
   ]
  },
  {
   "cell_type": "code",
   "execution_count": 49,
   "metadata": {
    "collapsed": false
   },
   "outputs": [
    {
     "data": {
      "text/plain": [
       "[4, 2, 3]"
      ]
     },
     "execution_count": 49,
     "metadata": {},
     "output_type": "execute_result"
    }
   ],
   "source": [
    "list_[0] = 4\n",
    "list_"
   ]
  },
  {
   "cell_type": "code",
   "execution_count": 50,
   "metadata": {
    "collapsed": false
   },
   "outputs": [
    {
     "ename": "TypeError",
     "evalue": "'tuple' object does not support item assignment",
     "output_type": "error",
     "traceback": [
      "\u001b[0;31m---------------------------------------------------------------------------\u001b[0m",
      "\u001b[0;31mTypeError\u001b[0m                                 Traceback (most recent call last)",
      "\u001b[0;32m<ipython-input-50-a7fa442c0cba>\u001b[0m in \u001b[0;36m<module>\u001b[0;34m()\u001b[0m\n\u001b[0;32m----> 1\u001b[0;31m \u001b[0mtuple_\u001b[0m\u001b[0;34m[\u001b[0m\u001b[0;36m0\u001b[0m\u001b[0;34m]\u001b[0m \u001b[0;34m=\u001b[0m \u001b[0;36m4\u001b[0m\u001b[0;34m\u001b[0m\u001b[0m\n\u001b[0m\u001b[1;32m      2\u001b[0m \u001b[0mtuple_\u001b[0m\u001b[0;34m\u001b[0m\u001b[0m\n",
      "\u001b[0;31mTypeError\u001b[0m: 'tuple' object does not support item assignment"
     ]
    }
   ],
   "source": [
    "tuple_[0] = 4\n",
    "tuple_"
   ]
  },
  {
   "cell_type": "markdown",
   "metadata": {},
   "source": [
    "## 딕셔너리 "
   ]
  },
  {
   "cell_type": "markdown",
   "metadata": {},
   "source": [
    "key와 value를 한 쌍으로 item을 구성하며, key는 중복될 수 없다."
   ]
  },
  {
   "cell_type": "code",
   "execution_count": 52,
   "metadata": {
    "collapsed": true
   },
   "outputs": [],
   "source": [
    "dic = {}\n",
    "dic = {'hi' : 1, 'hello' : 2}"
   ]
  },
  {
   "cell_type": "code",
   "execution_count": 53,
   "metadata": {
    "collapsed": false
   },
   "outputs": [
    {
     "data": {
      "text/plain": [
       "1"
      ]
     },
     "execution_count": 53,
     "metadata": {},
     "output_type": "execute_result"
    }
   ],
   "source": [
    "dic['hi']"
   ]
  },
  {
   "cell_type": "code",
   "execution_count": 54,
   "metadata": {
    "collapsed": false
   },
   "outputs": [
    {
     "data": {
      "text/plain": [
       "[(u'hi', 1), (u'hello', 2)]"
      ]
     },
     "execution_count": 54,
     "metadata": {},
     "output_type": "execute_result"
    }
   ],
   "source": [
    "dic.items()"
   ]
  },
  {
   "cell_type": "markdown",
   "metadata": {},
   "source": [
    "## Sentence as List"
   ]
  },
  {
   "cell_type": "markdown",
   "metadata": {},
   "source": [
    "자연어처리를 할 때는 문장을 리스트로 표현하여 처리한다."
   ]
  },
  {
   "cell_type": "code",
   "execution_count": 2,
   "metadata": {
    "collapsed": true
   },
   "outputs": [],
   "source": [
    "s1 = \"나는 파이썬을 공부하기 위해 파이썬을 설치하고 파이썬책을 구매했습니다.\""
   ]
  },
  {
   "cell_type": "code",
   "execution_count": 4,
   "metadata": {
    "collapsed": false
   },
   "outputs": [
    {
     "data": {
      "text/plain": [
       "unicode"
      ]
     },
     "execution_count": 4,
     "metadata": {},
     "output_type": "execute_result"
    }
   ],
   "source": [
    "type(s1)"
   ]
  },
  {
   "cell_type": "markdown",
   "metadata": {},
   "source": [
    "### Tokenize "
   ]
  },
  {
   "cell_type": "markdown",
   "metadata": {},
   "source": [
    "문장을 리스트로 표현하기 전 의미있는 단위인 토큰으로 나눠줘야 한다. 토큰을 어떤 단위로 할 것인가는 분석의 목적에 따라 달라지지만 보통 __어절(띄어쓰기 기준)__ 혹은 __형태소__를 기준으로 토큰화를 수행한다. <br>\n",
    "<br>\n",
    "또한 품사태깅을 통해 동음이의어의 문제를 피하고 좀 더 정교한 예측을 할 수 있다."
   ]
  },
  {
   "cell_type": "code",
   "execution_count": 5,
   "metadata": {
    "collapsed": false
   },
   "outputs": [
    {
     "name": "stdout",
     "output_type": "stream",
     "text": [
      "[나는,\n",
      " 파이썬을,\n",
      " 공부하기,\n",
      " 위해,\n",
      " 파이썬을,\n",
      " 설치하고,\n",
      " 파이썬책을,\n",
      " 구매했습니다.]\n"
     ]
    }
   ],
   "source": [
    "token1 = s1.split(' ') #띄어쓰기 기준으로 토큰화하기\n",
    "pprint(token1)"
   ]
  },
  {
   "cell_type": "code",
   "execution_count": 6,
   "metadata": {
    "collapsed": true
   },
   "outputs": [],
   "source": [
    "import nltk\n",
    "from konlpy.tag import Twitter \n",
    "t = Twitter()\n",
    "token2 = t.morphs(s1) # 형태소 기준으로 토큰화하기"
   ]
  },
  {
   "cell_type": "code",
   "execution_count": 7,
   "metadata": {
    "collapsed": false
   },
   "outputs": [
    {
     "name": "stdout",
     "output_type": "stream",
     "text": [
      "하이\n"
     ]
    }
   ],
   "source": [
    "print '하이'"
   ]
  },
  {
   "cell_type": "code",
   "execution_count": 18,
   "metadata": {
    "collapsed": false
   },
   "outputs": [
    {
     "name": "stdout",
     "output_type": "stream",
     "text": [
      "[나,\n",
      " 는,\n",
      " 파이썬,\n",
      " 을,\n",
      " 공부,\n",
      " 하기,\n",
      " 위해,\n",
      " 파이썬,\n",
      " 을,\n",
      " 설치하고,\n",
      " 파이썬,\n",
      " 책,\n",
      " 을,\n",
      " 구매,\n",
      " 했,\n",
      " 습니다,\n",
      " .]\n"
     ]
    }
   ],
   "source": [
    "pprint(token2)"
   ]
  },
  {
   "cell_type": "code",
   "execution_count": 9,
   "metadata": {
    "collapsed": true
   },
   "outputs": [],
   "source": [
    "bigram_tuples = list(nltk.bigrams(token2))\n",
    "trigram_tuples = list(nltk.trigrams(token2))"
   ]
  },
  {
   "cell_type": "code",
   "execution_count": 10,
   "metadata": {
    "collapsed": false
   },
   "outputs": [
    {
     "name": "stdout",
     "output_type": "stream",
     "text": [
      "[(나, 는),\n",
      " (는, 파이썬),\n",
      " (파이썬, 을),\n",
      " (을, 공부),\n",
      " (공부, 하기),\n",
      " (하기, 위해),\n",
      " (위해, 파이썬),\n",
      " (파이썬, 을),\n",
      " (을, 설치하고),\n",
      " (설치하고, 파이썬),\n",
      " (파이썬, 책),\n",
      " (책, 을),\n",
      " (을, 구매),\n",
      " (구매, 했),\n",
      " (했, 습니다),\n",
      " (습니다, .)]\n",
      "[(나, 는, 파이썬),\n",
      " (는, 파이썬, 을),\n",
      " (파이썬, 을, 공부),\n",
      " (을, 공부, 하기),\n",
      " (공부, 하기, 위해),\n",
      " (하기, 위해, 파이썬),\n",
      " (위해, 파이썬, 을),\n",
      " (파이썬, 을, 설치하고),\n",
      " (을, 설치하고, 파이썬),\n",
      " (설치하고, 파이썬, 책),\n",
      " (파이썬, 책, 을),\n",
      " (책, 을, 구매),\n",
      " (을, 구매, 했),\n",
      " (구매, 했, 습니다),\n",
      " (했, 습니다, .)]\n"
     ]
    }
   ],
   "source": [
    "pprint(bigram_tuples)\n",
    "pprint(trigram_tuples)"
   ]
  },
  {
   "cell_type": "code",
   "execution_count": 11,
   "metadata": {
    "collapsed": true
   },
   "outputs": [],
   "source": [
    "count = {item : bigram_tuples.count(item) for item in set(bigram_tuples)} "
   ]
  },
  {
   "cell_type": "code",
   "execution_count": 12,
   "metadata": {
    "collapsed": false
   },
   "outputs": [
    {
     "name": "stdout",
     "output_type": "stream",
     "text": [
      "[((구매, 했), 1),\n",
      " ((하기, 위해), 1),\n",
      " ((파이썬, 책), 1),\n",
      " ((공부, 하기), 1),\n",
      " ((파이썬, 을), 2),\n",
      " ((설치하고, 파이썬), 1),\n",
      " ((위해, 파이썬), 1),\n",
      " ((책, 을), 1),\n",
      " ((는, 파이썬), 1),\n",
      " ((습니다, .), 1),\n",
      " ((나, 는), 1),\n",
      " ((을, 구매), 1),\n",
      " ((을, 공부), 1),\n",
      " ((을, 설치하고), 1),\n",
      " ((했, 습니다), 1)]\n"
     ]
    }
   ],
   "source": [
    "pprint(count.items())"
   ]
  },
  {
   "cell_type": "code",
   "execution_count": 25,
   "metadata": {
    "collapsed": true
   },
   "outputs": [],
   "source": [
    "default_tagger = nltk.DefaultTagger('NN')\n",
    "tagged_sentence = default_tagger.tag(token2)"
   ]
  },
  {
   "cell_type": "code",
   "execution_count": 26,
   "metadata": {
    "collapsed": false
   },
   "outputs": [
    {
     "name": "stdout",
     "output_type": "stream",
     "text": [
      "[(나, NN),\n",
      " (는, NN),\n",
      " (파이썬, NN),\n",
      " (을, NN),\n",
      " (공부, NN),\n",
      " (하기, NN),\n",
      " (위해, NN),\n",
      " (파이썬, NN),\n",
      " (을, NN),\n",
      " (설치하고, NN),\n",
      " (파이썬, NN),\n",
      " (책, NN),\n",
      " (을, NN),\n",
      " (구매, NN),\n",
      " (했, NN),\n",
      " (습니다, NN),\n",
      " (., NN)]\n"
     ]
    }
   ],
   "source": [
    "pprint(tagged_sentence)"
   ]
  },
  {
   "cell_type": "code",
   "execution_count": 13,
   "metadata": {
    "collapsed": true
   },
   "outputs": [],
   "source": [
    "tags_ko = t.pos(s1)"
   ]
  },
  {
   "cell_type": "code",
   "execution_count": 14,
   "metadata": {
    "collapsed": false
   },
   "outputs": [
    {
     "name": "stdout",
     "output_type": "stream",
     "text": [
      "[(나, Noun),\n",
      " (는, Josa),\n",
      " (파이썬, Noun),\n",
      " (을, Josa),\n",
      " (공부, Noun),\n",
      " (하기, Verb),\n",
      " (위해, Noun),\n",
      " (파이썬, Noun),\n",
      " (을, Josa),\n",
      " (설치하고, Verb),\n",
      " (파이썬, Noun),\n",
      " (책, Noun),\n",
      " (을, Josa),\n",
      " (구매, Noun),\n",
      " (했, Verb),\n",
      " (습니다, Eomi),\n",
      " (., Punctuation)]\n"
     ]
    }
   ],
   "source": [
    "pprint(tags_ko)"
   ]
  },
  {
   "cell_type": "markdown",
   "metadata": {},
   "source": [
    "### 참고 : 품사의 종류 FROM 국립국어원 언어정보나눔터"
   ]
  },
  {
   "cell_type": "markdown",
   "metadata": {},
   "source": [
    "* NNG(일반 명사)\n",
    "* NNP(고유 명사)\n",
    "* NNB(의존 명사)\n",
    "* NR(수사)\n",
    "* NP(대명사)\n",
    "* VV(동사)\n",
    "* VA(형용사)\n",
    "* VX(보조 용언)\n",
    "* VCP(긍정 지정사)\n",
    "* VCN(부정 지정사)\n",
    "* MM(관형사)\n",
    "* MAG(일반 부사)\n",
    "* MAJ(접속 부사)\n",
    "* IC(감탄사)\n",
    "* JKS(주격 조사)\n",
    "* JKC(보격 조사)\n",
    "* JKG(관형격 조사)\n",
    "* JKO(목적격 조사)\n",
    "* JKB(부사격 조사)\n",
    "* JKV(호격 조사)\n",
    "* JKQ(인용격 조사)\n",
    "* JX(보조사)\n",
    "* JC(접속 조사)\n",
    "* EP(선어말 어미)\n",
    "* EC(연결 어미)\n",
    "* ETN(명사형 전성 어미)\n",
    "* ETM(관형형 전성 어미)\n",
    "* XPN(체언 접두사)\n",
    "* XSN(명사 파생 접미사)\n",
    "* XSV(동사 파생 접미사)\n",
    "* XSA(형용사 파생 접미사)\n",
    "* XR(어근)\n",
    "* SF(마침표, 물음표, 느낌표)\n",
    "* SP(쉼표, 가운뎃점, 콜론, 빗금)\n",
    "* SS(따옴표, 괄호표, 줄표)\n",
    "* SE(줄임표)\n",
    "* SO(붙임표(물결, 숨김, 빠짐))\n",
    "* SW(기타기호 (논리수학기호, 화폐기호))\n",
    "* NA(분석불능범주)\n",
    "* SL(외국어)\n",
    "* SH(한자)\n",
    "* SN(숫자)\n",
    "* NF(명사추정범주)\n",
    "* NV(용언추정범주)"
   ]
  },
  {
   "cell_type": "markdown",
   "metadata": {},
   "source": [
    "# Text exploration "
   ]
  },
  {
   "cell_type": "markdown",
   "metadata": {},
   "source": [
    "## 1. Read document "
   ]
  },
  {
   "cell_type": "markdown",
   "metadata": {},
   "source": [
    "이 튜토리얼에서는 NLTK, KoNLPy에서 제공하는 문서들을 사용합니다.\n",
    "* 한국어 : 대한민국 국회 제 1809890호 의안"
   ]
  },
  {
   "cell_type": "code",
   "execution_count": 15,
   "metadata": {
    "collapsed": true
   },
   "outputs": [],
   "source": [
    "from konlpy.corpus import kobill    # Docs from pokr.kr/bill\n",
    "files_ko = kobill.fileids()         # Get file ids\n",
    "doc_ko = kobill.open('1809890.txt').read()"
   ]
  },
  {
   "cell_type": "code",
   "execution_count": 16,
   "metadata": {
    "collapsed": false
   },
   "outputs": [
    {
     "name": "stdout",
     "output_type": "stream",
     "text": [
      "지방공무원법 일부개정법률안\n",
      "\n",
      "(정의화의원 대표발의 )\n",
      "\n",
      " 의 안\n",
      " 번 호\n",
      "\n",
      "9890\n",
      "\n",
      "발의연월일 : 2010.  11.  12.  \n",
      "\n",
      "발  의  자 : 정의화․이명수․김을동 \n",
      "\n",
      "이사철․여상규․안규백\n",
      "\n",
      "황영철․박영아․김정훈\n",
      "\n",
      "김학송 의원(10인)\n",
      "\n",
      "제안이유 및 주요내용\n",
      "\n",
      "  초등학교 저학년의 경우에도 부모의 따뜻한 사랑과 보살핌이 필요\n",
      "\n",
      "한 나이이나, 현재 공무원이 자녀를 양육하기 위하여 육아휴직을 할 \n",
      "\n",
      "수 있는 자녀의 나이는 만 6세 이하로 되어 있어 초등학교 저학년인 \n",
      "\n",
      "자녀를 돌보기 위해서는 해당 부모님은 일자리를 그만 두어야 하고 \n",
      "\n",
      "이는 곧 출산의욕을 저하시키는 문제로 이어질 수 있을 것임.\n",
      "\n",
      "  따라서 육아휴직이 가능한 자녀의 연령을 만 8세 이하로 개정하려\n",
      "\n",
      "는 것임(안 제63조제2항제4호).\n",
      "\n",
      "- 1 -\n",
      "\n",
      "\f",
      "법률  제        호\n",
      "\n",
      "지방공무원법 일부개정법률안\n",
      "\n",
      "지방공무원법 일부를 다음과 같이 개정한다.\n",
      "\n",
      "제63조제2항제4호 중 “만 6세 이하의 초등학교 취학 전 자\n"
     ]
    }
   ],
   "source": [
    "pprint(doc_ko[:500])"
   ]
  },
  {
   "cell_type": "markdown",
   "metadata": {},
   "source": [
    "## 2. Tokenize "
   ]
  },
  {
   "cell_type": "code",
   "execution_count": 17,
   "metadata": {
    "collapsed": true
   },
   "outputs": [],
   "source": [
    "tokens_ko = t.morphs(doc_ko)"
   ]
  },
  {
   "cell_type": "code",
   "execution_count": 18,
   "metadata": {
    "collapsed": false
   },
   "outputs": [
    {
     "data": {
      "text/plain": [
       "4201"
      ]
     },
     "execution_count": 18,
     "metadata": {},
     "output_type": "execute_result"
    }
   ],
   "source": [
    "len(doc_ko)"
   ]
  },
  {
   "cell_type": "code",
   "execution_count": 19,
   "metadata": {
    "collapsed": false
   },
   "outputs": [
    {
     "name": "stdout",
     "output_type": "stream",
     "text": [
      "[지방공무원법,\n",
      " 일부,\n",
      " 개정,\n",
      " 법률,\n",
      " 안,\n",
      " (,\n",
      " 정의화,\n",
      " 의원,\n",
      " 대표,\n",
      " 발의]\n"
     ]
    }
   ],
   "source": [
    "pprint(tokens_ko[:10])"
   ]
  },
  {
   "cell_type": "markdown",
   "metadata": {},
   "source": [
    "## 3. Load tokens with nltk.Text() "
   ]
  },
  {
   "cell_type": "code",
   "execution_count": 20,
   "metadata": {
    "collapsed": true
   },
   "outputs": [],
   "source": [
    "import nltk\n",
    "ko = nltk.Text(tokens_ko, name='대한민국 국회 의안 제 1809890호')"
   ]
  },
  {
   "cell_type": "code",
   "execution_count": 21,
   "metadata": {
    "collapsed": false
   },
   "outputs": [
    {
     "name": "stdout",
     "output_type": "stream",
     "text": [
      "1707\n",
      "476\n"
     ]
    }
   ],
   "source": [
    "print(len(ko.tokens))       # returns number of tokens (document length)\n",
    "print(len(set(ko.tokens)))  # returns number of unique tokens\n",
    "#ko.vocab()                  # returns frequency distribution"
   ]
  },
  {
   "cell_type": "code",
   "execution_count": 37,
   "metadata": {
    "collapsed": false
   },
   "outputs": [
    {
     "data": {
      "image/png": "[encoded data removed]",
      "text/plain": [
       "<matplotlib.figure.Figure at 0x7f34e0048e90>"
      ]
     },
     "metadata": {},
     "output_type": "display_data"
    }
   ],
   "source": [
    "ko.plot(50)     # Plot sorted frequency of top 50 tokens"
   ]
  },
  {
   "cell_type": "code",
   "execution_count": 64,
   "metadata": {
    "collapsed": true
   },
   "outputs": [],
   "source": [
    "from matplotlib import pylab\n",
    "pylab.show = lambda: pylab.savefig('some_filename.png')"
   ]
  },
  {
   "cell_type": "code",
   "execution_count": 22,
   "metadata": {
    "collapsed": false
   },
   "outputs": [
    {
     "data": {
      "text/plain": [
       "6"
      ]
     },
     "execution_count": 22,
     "metadata": {},
     "output_type": "execute_result"
    }
   ],
   "source": [
    "ko.count('초등학교') # 단어의 등장 횟수 카운트"
   ]
  },
  {
   "cell_type": "code",
   "execution_count": 23,
   "metadata": {
    "collapsed": false
   },
   "outputs": [
    {
     "name": "stdout",
     "output_type": "stream",
     "text": [
      "Displaying 6 of 6 matches:\n",
      " ․ 김정훈 김학송 의원 ( 10 인 ) 제안 이유 및 주요 내용 초등학교 저학년 의 경우 에도 부모 의 따뜻한 사랑 과 보살핌 이 필요 한\n",
      " 을 할 수 있는 자녀 의 나이 는 만 6 세 이하 로 되어 있어 초등학교 저학년 인 자녀 를 돌보기 위해서 는 해당 부모님 은 일자리 를 \n",
      " 다 . 제 63 조제 2 항제 4 호 중 “ 만 6 세 이하 의 초등학교 취학 전 자녀 를 ” 을 “ 만 8 세 이하 ( 취학 중인 경우 \n",
      " 전 자녀 를 ” 을 “ 만 8 세 이하 ( 취학 중인 경우 에는 초등학교 2 학년 이하 를 말한 다 ) 의 자녀 를 ” 로 한 다 . 부 \n",
      " . ∼ 3 . ( 현행 과 같 음 ) 4 . 만 6 세 이하 의 초등학교 취 4 . 만 8 세 이하 ( 취학 중인 경우 학 전 자녀 를 양\n",
      "세 이하 ( 취학 중인 경우 학 전 자녀 를 양육 하기 위하 에는 초등학교 2 학년 이하 를 여 필요하거 나 여자 공무원 이 말한 다 ) 의\n"
     ]
    }
   ],
   "source": [
    "ko.concordance('초등학교') # 용어 색인"
   ]
  },
  {
   "cell_type": "code",
   "execution_count": 24,
   "metadata": {
    "collapsed": false
   },
   "outputs": [
    {
     "name": "stdout",
     "output_type": "stream",
     "text": [
      "논의\n"
     ]
    }
   ],
   "source": [
    "ko.similar('자녀') # 비슷한 맥락에서 쓰인 단어"
   ]
  },
  {
   "cell_type": "code",
   "execution_count": 25,
   "metadata": {
    "collapsed": false
   },
   "outputs": [
    {
     "name": "stdout",
     "output_type": "stream",
     "text": [
      "초등학교 저학년; 육아휴직 대상자\n"
     ]
    }
   ],
   "source": [
    "ko.collocations() # 연어(함께 자주 등장하는 단어)"
   ]
  },
  {
   "cell_type": "markdown",
   "metadata": {},
   "source": [
    "# Tagging and chunking"
   ]
  },
  {
   "cell_type": "markdown",
   "metadata": {},
   "source": [
    "## 1. POS tagging "
   ]
  },
  {
   "cell_type": "markdown",
   "metadata": {},
   "source": [
    "__Open class:__ nouns, non-modal verbs, adjectives, adverbs<br>\n",
    "<br>\n",
    "__Closed class:__ prepositions, modal verbs, conjunctions, particles, determiners, pronouns\n",
    "<br>\n",
    "##### Penn Treebank tagset "
   ]
  },
  {
   "cell_type": "markdown",
   "metadata": {},
   "source": [
    "* ambiguity (동음이의어)\n",
    "* French pronunciation"
   ]
  },
  {
   "cell_type": "markdown",
   "metadata": {},
   "source": [
    "### 3가지 주요 테크닉 "
   ]
  },
  {
   "cell_type": "markdown",
   "metadata": {},
   "source": [
    "1. rule-based\n",
    "2. machine learning (CRF, maximum entropy, Markov models)\n",
    "3. transformation-based"
   ]
  },
  {
   "cell_type": "code",
   "execution_count": 26,
   "metadata": {
    "collapsed": true
   },
   "outputs": [],
   "source": [
    "from konlpy.tag import Twitter; t = Twitter()\n",
    "tags_ko = t.pos(\"작고 노란 강아지가 페르시안 고양이에게 짖었다\")"
   ]
  },
  {
   "cell_type": "markdown",
   "metadata": {},
   "source": [
    "텍스트에 태깅하는 방법에는 여러가지가 있지만 POS(품사) 태깅을 통해 분석을 해보겠다. 문서 전체에 태깅을 하면 오래 걸리니 하나의 문장에 대해서 진행하겠음!"
   ]
  },
  {
   "cell_type": "code",
   "execution_count": 27,
   "metadata": {
    "collapsed": false
   },
   "outputs": [
    {
     "name": "stdout",
     "output_type": "stream",
     "text": [
      "[(작고, Noun),\n",
      " (노란, Adjective),\n",
      " (강아지, Noun),\n",
      " (가, Josa),\n",
      " (페르시안, Noun),\n",
      " (고양이, Noun),\n",
      " (에게, Josa),\n",
      " (짖었, Noun),\n",
      " (다, Josa)]\n"
     ]
    }
   ],
   "source": [
    "pprint(tags_ko)"
   ]
  },
  {
   "cell_type": "markdown",
   "metadata": {},
   "source": [
    "## 2. Noun phrase chunking "
   ]
  },
  {
   "cell_type": "markdown",
   "metadata": {},
   "source": [
    "구절을 덩어리로 뽑아내는 것. (ex> 형용사 + 명사) 예쁜 얼굴"
   ]
  },
  {
   "cell_type": "markdown",
   "metadata": {},
   "source": [
    "__nlitk.RegexpParser()__를 이용해 청킹을 해보겠다..!"
   ]
  },
  {
   "cell_type": "code",
   "execution_count": 99,
   "metadata": {
    "collapsed": false
   },
   "outputs": [],
   "source": [
    "parser_ko = nltk.RegexpParser(\"NP: {<Adjective>*<Noun>*}\")\n",
    "chunks_ko = parser_ko.parse(tags_ko)\n",
    "#chunks_ko.draw()"
   ]
  },
  {
   "cell_type": "code",
   "execution_count": 28,
   "metadata": {
    "collapsed": true
   },
   "outputs": [],
   "source": [
    "bigram_ko = list(nltk.bigrams(tags_ko))"
   ]
  },
  {
   "cell_type": "code",
   "execution_count": 29,
   "metadata": {
    "collapsed": false
   },
   "outputs": [
    {
     "name": "stdout",
     "output_type": "stream",
     "text": [
      "[((작고, Noun), (노란, Adjective)),\n",
      " ((노란, Adjective), (강아지, Noun)),\n",
      " ((강아지, Noun), (가, Josa)),\n",
      " ((가, Josa), (페르시안, Noun)),\n",
      " ((페르시안, Noun), (고양이, Noun)),\n",
      " ((고양이, Noun), (에게, Josa)),\n",
      " ((에게, Josa), (짖었, Noun)),\n",
      " ((짖었, Noun), (다, Josa))]\n"
     ]
    }
   ],
   "source": [
    "pprint(bigram_ko)"
   ]
  },
  {
   "cell_type": "code",
   "execution_count": 30,
   "metadata": {
    "collapsed": false
   },
   "outputs": [
    {
     "name": "stdout",
     "output_type": "stream",
     "text": [
      "노란 강아지\n"
     ]
    }
   ],
   "source": [
    "for p,f in bigram_ko:\n",
    "    result = \"\"\n",
    "    if (p[1] =='Adjective') & (f[1] == 'Noun'):\n",
    "        result = p[0] + \" \" + f[0]\n",
    "        pprint(result)"
   ]
  },
  {
   "cell_type": "markdown",
   "metadata": {},
   "source": [
    "# Named Entity Recognition"
   ]
  },
  {
   "cell_type": "markdown",
   "metadata": {},
   "source": [
    "Named entities are phrases that contain the names of\n",
    "persons, organizations, locations, times, and quatities."
   ]
  },
  {
   "cell_type": "markdown",
   "metadata": {},
   "source": [
    "### 1. Rule based "
   ]
  },
  {
   "cell_type": "code",
   "execution_count": 31,
   "metadata": {
    "collapsed": true
   },
   "outputs": [],
   "source": [
    "import re"
   ]
  },
  {
   "cell_type": "code",
   "execution_count": 32,
   "metadata": {
    "collapsed": true
   },
   "outputs": [],
   "source": [
    "example1 = \"나는 오늘도 파이썬을 공부한다.\"\n",
    "example2 = \"오늘도 고기를 먹었다.\""
   ]
  },
  {
   "cell_type": "code",
   "execution_count": 33,
   "metadata": {
    "collapsed": true
   },
   "outputs": [],
   "source": [
    "def getObject(sentence):\n",
    "    checker1 = re.compile('[가-힣]+을')\n",
    "    checker2 = re.compile('[가-힣]+를')\n",
    "    \n",
    "    c1 = checker1.search(sentence)\n",
    "    c2 = checker2.search(sentence)\n",
    "    \n",
    "    if (c1 != None): return c1.group()[:-1]\n",
    "    elif(c2 != None): return c2.group()[:-1]\n",
    "    else: return False"
   ]
  },
  {
   "cell_type": "code",
   "execution_count": 34,
   "metadata": {
    "collapsed": false
   },
   "outputs": [
    {
     "name": "stdout",
     "output_type": "stream",
     "text": [
      "파이썬\n",
      "고기\n"
     ]
    }
   ],
   "source": [
    "pprint(getObject(example1))\n",
    "pprint(getObject(example2))"
   ]
  },
  {
   "cell_type": "markdown",
   "metadata": {},
   "source": [
    "### 2. CRF "
   ]
  },
  {
   "cell_type": "code",
   "execution_count": 31,
   "metadata": {
    "collapsed": false
   },
   "outputs": [
    {
     "ename": "LookupError",
     "evalue": "\n\n===========================================================================\n  NLTK was unable to find stanford-ner.jar! Set the CLASSPATH\n  environment variable.\n\n  For more information, on stanford-ner.jar, see:\n    <http://nlp.stanford.edu/software>\n===========================================================================",
     "output_type": "error",
     "traceback": [
      "\u001b[0;31m---------------------------------------------------------------------------\u001b[0m",
      "\u001b[0;31mLookupError\u001b[0m                               Traceback (most recent call last)",
      "\u001b[0;32m<ipython-input-31-adc41096c38f>\u001b[0m in \u001b[0;36m<module>\u001b[0;34m()\u001b[0m\n\u001b[1;32m      1\u001b[0m \u001b[0;32mfrom\u001b[0m \u001b[0mnltk\u001b[0m\u001b[0;34m.\u001b[0m\u001b[0mtag\u001b[0m \u001b[0;32mimport\u001b[0m \u001b[0mStanfordNERTagger\u001b[0m\u001b[0;34m\u001b[0m\u001b[0m\n\u001b[0;32m----> 2\u001b[0;31m \u001b[0mst\u001b[0m \u001b[0;34m=\u001b[0m \u001b[0mStanfordNERTagger\u001b[0m\u001b[0;34m(\u001b[0m\u001b[0;34m'english.all.3class.distsim.crf.ser.gz'\u001b[0m\u001b[0;34m)\u001b[0m\u001b[0;34m\u001b[0m\u001b[0m\n\u001b[0m\u001b[1;32m      3\u001b[0m \u001b[0mst\u001b[0m\u001b[0;34m.\u001b[0m\u001b[0mtag\u001b[0m\u001b[0;34m(\u001b[0m\u001b[0;34m'Rami Eid is studying at Stony Brook University in NY'\u001b[0m\u001b[0;34m.\u001b[0m\u001b[0msplit\u001b[0m\u001b[0;34m(\u001b[0m\u001b[0;34m)\u001b[0m\u001b[0;34m)\u001b[0m\u001b[0;34m\u001b[0m\u001b[0m\n",
      "\u001b[0;32m/usr/local/lib/python2.7/dist-packages/nltk/tag/stanford.pyc\u001b[0m in \u001b[0;36m__init__\u001b[0;34m(self, *args, **kwargs)\u001b[0m\n\u001b[1;32m    166\u001b[0m \u001b[0;34m\u001b[0m\u001b[0m\n\u001b[1;32m    167\u001b[0m     \u001b[0;32mdef\u001b[0m \u001b[0m__init__\u001b[0m\u001b[0;34m(\u001b[0m\u001b[0mself\u001b[0m\u001b[0;34m,\u001b[0m \u001b[0;34m*\u001b[0m\u001b[0margs\u001b[0m\u001b[0;34m,\u001b[0m \u001b[0;34m**\u001b[0m\u001b[0mkwargs\u001b[0m\u001b[0;34m)\u001b[0m\u001b[0;34m:\u001b[0m\u001b[0;34m\u001b[0m\u001b[0m\n\u001b[0;32m--> 168\u001b[0;31m         \u001b[0msuper\u001b[0m\u001b[0;34m(\u001b[0m\u001b[0mStanfordNERTagger\u001b[0m\u001b[0;34m,\u001b[0m \u001b[0mself\u001b[0m\u001b[0;34m)\u001b[0m\u001b[0;34m.\u001b[0m\u001b[0m__init__\u001b[0m\u001b[0;34m(\u001b[0m\u001b[0;34m*\u001b[0m\u001b[0margs\u001b[0m\u001b[0;34m,\u001b[0m \u001b[0;34m**\u001b[0m\u001b[0mkwargs\u001b[0m\u001b[0;34m)\u001b[0m\u001b[0;34m\u001b[0m\u001b[0m\n\u001b[0m\u001b[1;32m    169\u001b[0m \u001b[0;34m\u001b[0m\u001b[0m\n\u001b[1;32m    170\u001b[0m     \u001b[0;34m@\u001b[0m\u001b[0mproperty\u001b[0m\u001b[0;34m\u001b[0m\u001b[0m\n",
      "\u001b[0;32m/usr/local/lib/python2.7/dist-packages/nltk/tag/stanford.pyc\u001b[0m in \u001b[0;36m__init__\u001b[0;34m(self, model_filename, path_to_jar, encoding, verbose, java_options)\u001b[0m\n\u001b[1;32m     51\u001b[0m                 \u001b[0mself\u001b[0m\u001b[0;34m.\u001b[0m\u001b[0m_JAR\u001b[0m\u001b[0;34m,\u001b[0m \u001b[0mpath_to_jar\u001b[0m\u001b[0;34m,\u001b[0m\u001b[0;34m\u001b[0m\u001b[0m\n\u001b[1;32m     52\u001b[0m                 \u001b[0msearchpath\u001b[0m\u001b[0;34m=\u001b[0m\u001b[0;34m(\u001b[0m\u001b[0;34m)\u001b[0m\u001b[0;34m,\u001b[0m \u001b[0murl\u001b[0m\u001b[0;34m=\u001b[0m\u001b[0m_stanford_url\u001b[0m\u001b[0;34m,\u001b[0m\u001b[0;34m\u001b[0m\u001b[0m\n\u001b[0;32m---> 53\u001b[0;31m                 verbose=verbose)\n\u001b[0m\u001b[1;32m     54\u001b[0m \u001b[0;34m\u001b[0m\u001b[0m\n\u001b[1;32m     55\u001b[0m         self._stanford_model = find_file(model_filename,\n",
      "\u001b[0;32m/usr/local/lib/python2.7/dist-packages/nltk/__init__.pyc\u001b[0m in \u001b[0;36mfind_jar\u001b[0;34m(name_pattern, path_to_jar, env_vars, searchpath, url, verbose, is_regex)\u001b[0m\n\u001b[1;32m    717\u001b[0m         searchpath=(), url=None, verbose=True, is_regex=False):\n\u001b[1;32m    718\u001b[0m     return next(find_jar_iter(name_pattern, path_to_jar, env_vars,\n\u001b[0;32m--> 719\u001b[0;31m                          searchpath, url, verbose, is_regex))\n\u001b[0m\u001b[1;32m    720\u001b[0m \u001b[0;34m\u001b[0m\u001b[0m\n\u001b[1;32m    721\u001b[0m \u001b[0;34m\u001b[0m\u001b[0m\n",
      "\u001b[0;32m/usr/local/lib/python2.7/dist-packages/nltk/__init__.pyc\u001b[0m in \u001b[0;36mfind_jar_iter\u001b[0;34m(name_pattern, path_to_jar, env_vars, searchpath, url, verbose, is_regex)\u001b[0m\n\u001b[1;32m    712\u001b[0m                     (name_pattern, url))\n\u001b[1;32m    713\u001b[0m         \u001b[0mdiv\u001b[0m \u001b[0;34m=\u001b[0m \u001b[0;34m'='\u001b[0m\u001b[0;34m*\u001b[0m\u001b[0;36m75\u001b[0m\u001b[0;34m\u001b[0m\u001b[0m\n\u001b[0;32m--> 714\u001b[0;31m         \u001b[0;32mraise\u001b[0m \u001b[0mLookupError\u001b[0m\u001b[0;34m(\u001b[0m\u001b[0;34m'\\n\\n%s\\n%s\\n%s'\u001b[0m \u001b[0;34m%\u001b[0m \u001b[0;34m(\u001b[0m\u001b[0mdiv\u001b[0m\u001b[0;34m,\u001b[0m \u001b[0mmsg\u001b[0m\u001b[0;34m,\u001b[0m \u001b[0mdiv\u001b[0m\u001b[0;34m)\u001b[0m\u001b[0;34m)\u001b[0m\u001b[0;34m\u001b[0m\u001b[0m\n\u001b[0m\u001b[1;32m    715\u001b[0m \u001b[0;34m\u001b[0m\u001b[0m\n\u001b[1;32m    716\u001b[0m def find_jar(name_pattern, path_to_jar=None, env_vars=(),\n",
      "\u001b[0;31mLookupError\u001b[0m: \n\n===========================================================================\n  NLTK was unable to find stanford-ner.jar! Set the CLASSPATH\n  environment variable.\n\n  For more information, on stanford-ner.jar, see:\n    <http://nlp.stanford.edu/software>\n==========================================================================="
     ]
    }
   ],
   "source": [
    "from nltk.tag import StanfordNERTagger\n",
    "st = StanfordNERTagger('english.all.3class.distsim.crf.ser.gz') \n",
    "st.tag('Rami Eid is studying at Stony Brook University in NY'.split()) "
   ]
  },
  {
   "cell_type": "code",
   "execution_count": 122,
   "metadata": {
    "collapsed": false
   },
   "outputs": [
    {
     "data": {
      "text/plain": [
       "[(u'Rami', u'PERSON'),\n",
       " (u'Eid', u'PERSON'),\n",
       " (u'is', u'O'),\n",
       " (u'studying', u'O'),\n",
       " (u'at', u'O'),\n",
       " (u'Stony', u'ORGANIZATION'),\n",
       " (u'Brook', u'ORGANIZATION'),\n",
       " (u'University', u'ORGANIZATION'),\n",
       " (u'in', u'O'),\n",
       " (u'NY', u'LOCATION')]"
      ]
     },
     "execution_count": 122,
     "metadata": {},
     "output_type": "execute_result"
    }
   ],
   "source": [
    "[('Rami', 'PERSON'), ('Eid', 'PERSON'), ('is', 'O'), ('studying', 'O'),\n",
    " ('at', 'O'), ('Stony', 'ORGANIZATION'), ('Brook', 'ORGANIZATION'),\n",
    " ('University', 'ORGANIZATION'), ('in', 'O'), ('NY', 'LOCATION')]"
   ]
  },
  {
   "cell_type": "markdown",
   "metadata": {},
   "source": [
    "https://ko.wikipedia.org/wiki/%EC%A1%B0%EA%B1%B4%EB%B6%80_%EB%AC%B4%EC%9E%91%EC%9C%84%EC%9E%A5"
   ]
  },
  {
   "cell_type": "markdown",
   "metadata": {},
   "source": [
    "### 3. HMM "
   ]
  },
  {
   "cell_type": "markdown",
   "metadata": {},
   "source": [
    "### The Noisy Channel Model "
   ]
  },
  {
   "cell_type": "markdown",
   "metadata": {},
   "source": [
    "__Example__: <br>\n",
    "* Input: 쓰여진 글(Written) (X)\n",
    "* Encoder: input을 혼동(X->Y)\n",
    "* Output: 발화된 말(Y)\n",
    "\n",
    "<br>\n",
    "<br>\n",
    "__More examples__: <br>\n",
    "* 문법적 실수\n",
    "* English to bitmaps(characters)\n",
    "\n",
    "<br>\n",
    "<br>\n",
    "__P(X,Y) = P(X)P(Y|X)__"
   ]
  },
  {
   "cell_type": "code",
   "execution_count": null,
   "metadata": {
    "collapsed": true
   },
   "outputs": [],
   "source": []
  }
 ],
 "metadata": {
  "kernelspec": {
   "display_name": "Python 2",
   "language": "python",
   "name": "python2"
  },
  "language_info": {
   "codemirror_mode": {
    "name": "ipython",
    "version": 2
   },
   "file_extension": ".py",
   "mimetype": "text/x-python",
   "name": "python",
   "nbconvert_exporter": "python",
   "pygments_lexer": "ipython2",
   "version": "2.7.6"
  }
 },
 "nbformat": 4,
 "nbformat_minor": 1
}
