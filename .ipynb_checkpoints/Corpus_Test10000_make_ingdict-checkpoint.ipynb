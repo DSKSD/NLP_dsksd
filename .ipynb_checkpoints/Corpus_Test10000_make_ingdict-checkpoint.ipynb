{
 "cells": [
  {
   "cell_type": "markdown",
   "metadata": {},
   "source": [
    "# 코퍼스 테스트 (메뉴판닷컴 + 만개100p) 3303 "
   ]
  },
  {
   "cell_type": "code",
   "execution_count": 1,
   "metadata": {
    "collapsed": true
   },
   "outputs": [],
   "source": [
    "# coding=utf-8\n",
    "from __future__ import unicode_literals\n",
    "import os\n",
    "from konlpy.tag import Twitter\n",
    "import codecs\n",
    "import pickle"
   ]
  },
  {
   "cell_type": "code",
   "execution_count": 2,
   "metadata": {
    "collapsed": true
   },
   "outputs": [],
   "source": [
    "from matplotlib import pyplot as plt\n",
    "%matplotlib inline"
   ]
  },
  {
   "cell_type": "code",
   "execution_count": 3,
   "metadata": {
    "collapsed": false
   },
   "outputs": [
    {
     "data": {
      "text/plain": [
       "'/root/nlp'"
      ]
     },
     "execution_count": 3,
     "metadata": {},
     "output_type": "execute_result"
    }
   ],
   "source": [
    "os.getcwd()"
   ]
  },
  {
   "cell_type": "code",
   "execution_count": 2,
   "metadata": {
    "collapsed": true
   },
   "outputs": [],
   "source": [
    "def read_data(filename):\n",
    "    with codecs.open(filename,'r',encoding='utf8') as f:\n",
    "        data = [line.split('\\t') for line in f.read().splitlines()]\n",
    "      #  data = data[1:]   # header 제외\n",
    "    return data"
   ]
  },
  {
   "cell_type": "code",
   "execution_count": 5,
   "metadata": {
    "collapsed": true
   },
   "outputs": [],
   "source": [
    "filename = 'recipeCorpus2.txt'\n",
    "train_data = read_data(filename)\n"
   ]
  },
  {
   "cell_type": "code",
   "execution_count": 6,
   "metadata": {
    "collapsed": false
   },
   "outputs": [
    {
     "name": "stdout",
     "output_type": "stream",
     "text": [
      "11704\n",
      "3\n"
     ]
    }
   ],
   "source": [
    "print len(train_data)      # nrows: 150000\n",
    "print len(train_data[0])   # ncols: 3"
   ]
  },
  {
   "cell_type": "code",
   "execution_count": 3,
   "metadata": {
    "collapsed": true
   },
   "outputs": [],
   "source": [
    "pos_tagger = Twitter()"
   ]
  },
  {
   "cell_type": "code",
   "execution_count": 4,
   "metadata": {
    "collapsed": true
   },
   "outputs": [],
   "source": [
    "def tokenize(doc):\n",
    "    # norm, stem은 optional\n",
    "    return ['/'.join(t) for t in pos_tagger.pos(doc, norm=True, stem=True)]"
   ]
  },
  {
   "cell_type": "code",
   "execution_count": 9,
   "metadata": {
    "collapsed": true
   },
   "outputs": [],
   "source": [
    "train_docs = [(tokenize(row[1])) for row in train_data]"
   ]
  },
  {
   "cell_type": "code",
   "execution_count": 5,
   "metadata": {
    "collapsed": true
   },
   "outputs": [],
   "source": [
    "from konlpy.utils import pprint"
   ]
  },
  {
   "cell_type": "code",
   "execution_count": 11,
   "metadata": {
    "collapsed": false
   },
   "outputs": [
    {
     "name": "stdout",
     "output_type": "stream",
     "text": [
      "[쌀/Noun,\n",
      " 을/Josa,\n",
      " 씻다/Verb,\n",
      " 분/Noun,\n",
      " 정도/Noun,\n",
      " 물/Noun,\n",
      " 에/Josa,\n",
      " 불다/Verb,\n",
      " 두다/Verb,\n",
      " 멥쌀/Noun,\n",
      " 과/Josa,\n",
      " 찹쌀/Noun,\n",
      " 을/Josa,\n",
      " 의/Noun,\n",
      " 비율/Noun,\n",
      " 로/Josa,\n",
      " 사용/Noun,\n",
      " 하다/Verb,\n",
      " 좋다/Adjective,\n",
      " 뚱이랑뚱/Noun,\n",
      " 현미/Noun,\n",
      " 랑/Josa,\n",
      " 적미/Noun,\n",
      " 랑/Josa,\n",
      " 흑/Adverb,\n",
      " 밉다/Adjective,\n",
      " 섞다/Verb,\n",
      " 더/Noun,\n",
      " 예쁘다/Adjective,\n",
      " 작다/Adjective,\n",
      " 뭉치/Noun,\n",
      " 쌀/Noun,\n",
      " 을/Josa,\n",
      " 씻다/Verb,\n",
      " 분/Noun,\n",
      " 정도/Noun,\n",
      " 물/Noun,\n",
      " 에/Josa,\n",
      " 불다/Verb,\n",
      " 두다/Verb,\n",
      " 개/Noun,\n",
      " 은행/Noun,\n",
      " 은/Josa,\n",
      " 볶다/Verb,\n",
      " 껍질/Noun,\n",
      " 을/Josa,\n",
      " 벗기다/Verb,\n",
      " 불/Noun,\n",
      " 을/Josa,\n",
      " 중약/Noun,\n",
      " 불로/Noun,\n",
      " 줄이다/Verb,\n",
      " 물엿/Noun,\n",
      " 이나/Josa,\n",
      " 올리고당/Noun,\n",
      " 을/Josa,\n",
      " 수저/Noun,\n",
      " 넣다/Verb,\n",
      " 같이/Josa,\n",
      " 볶다/Verb,\n",
      " 껍질/Noun,\n",
      " 이/Josa,\n",
      " 쉬다/Verb,\n",
      " 벗기다/Verb,\n",
      " 지다/Verb,\n",
      " 그린/Noun,\n",
      " 씨엘/Noun,\n",
      " 끓다/Verb,\n",
      " 물/Noun,\n",
      " 에/Josa,\n",
      " 데/Noun,\n",
      " 치다/Verb,\n",
      " 국자/Noun,\n",
      " 를/Josa,\n",
      " 둥글다/Adjective,\n",
      " 밀다/Verb,\n",
      " 껍질/Noun,\n",
      " 이/Josa,\n",
      " 벗기다/Verb,\n",
      " 기름기/Noun,\n",
      " 없다/Adjective,\n",
      " 은행/Noun,\n",
      " 이/Josa,\n",
      " 되다/Verb,\n",
      " 밥/Noun,\n",
      " 심다/Verb,\n",
      " 국력/Noun,\n",
      " 볶다/Verb,\n",
      " 물엿/Noun,\n",
      " 을/Josa,\n",
      " 조금/Noun,\n",
      " 넣다/Verb,\n",
      " 주걱/Noun,\n",
      " 이나/Josa,\n",
      " 숫/Noun,\n",
      " 가락/Noun,\n",
      " 등/Noun,\n",
      " 으로/Josa,\n",
      " 저/Determiner,\n",
      " 어/Noun,\n",
      " 주다/Verb,\n",
      " 자다/Verb,\n",
      " 벗기다/Verb,\n",
      " 지다/Verb,\n",
      " 그린/Noun,\n",
      " 씨엘/Noun,\n",
      " 개/Noun,\n",
      " 밤/Noun,\n",
      " 은/Josa,\n",
      " 껍질/Noun,\n",
      " 을/Josa,\n",
      " 벗기다/Verb,\n",
      " 대추/Noun,\n",
      " 는/Josa,\n",
      " 깨끗이/Adverb,\n",
      " 씻다/Verb,\n",
      " 두다/Verb,\n",
      " 밤/Noun,\n",
      " 은/Josa,\n",
      " 미리/Noun,\n",
      " 껍질/Noun,\n",
      " 을/Josa,\n",
      " 벗기다/Verb,\n",
      " 색/Noun,\n",
      " 이/Josa,\n",
      " 변하다/Adjective,\n",
      " 물/Noun,\n",
      " 에/Josa,\n",
      " 담그다/Verb,\n",
      " 두다/Verb,\n",
      " 애/Noun,\n",
      " 빼다/Verb,\n",
      " 대추/Noun,\n",
      " 는/Josa,\n",
      " 나중/Noun,\n",
      " 에/Josa,\n",
      " 이/Noun,\n",
      " 상/Noun,\n",
      " 하다/Verb,\n",
      " 않다/Verb,\n",
      " 씨/Noun,\n",
      " 를/Josa,\n",
      " 빼놓다/Verb,\n",
      " 생강/Noun,\n",
      " 대추/Noun,\n",
      " 는/Josa,\n",
      " 솔로/Noun,\n",
      " 구석/Noun,\n",
      " 구석/Noun,\n",
      " 닦다/Verb,\n",
      " 하다/Verb,\n",
      " 개/Noun,\n",
      " 쌀/Noun,\n",
      " 과/Josa,\n",
      " 밤/Noun,\n",
      " 을/Josa,\n",
      " 넣다/Verb,\n",
      " 밥/Noun,\n",
      " 을/Josa,\n",
      " 짓다/Verb,\n",
      " 한소끔/Adverb,\n",
      " 끓다/Verb,\n",
      " 오르다/Verb,\n",
      " 대추/Noun,\n",
      " 은행/Noun,\n",
      " 잣/Noun,\n",
      " 을/Josa,\n",
      " 넣다/Verb,\n",
      " 약하다/Adjective,\n",
      " 불로/Noun,\n",
      " 뜸/Noun,\n",
      " 을/Josa,\n",
      " 들이다/Verb,\n",
      " 압력밥솥/Noun,\n",
      " 등/Noun,\n",
      " 을/Josa,\n",
      " 사용/Noun,\n",
      " 하다/Verb,\n",
      " 은행/Noun,\n",
      " 잣/Noun,\n",
      " 은/Josa,\n",
      " 같이/Josa,\n",
      " 넣다/Verb,\n",
      " 밥/Noun,\n",
      " 을/Josa,\n",
      " 지다/Verb,\n",
      " 괜찮다/Adjective,\n",
      " 뚱이랑뚱/Noun,\n",
      " 다시마/Noun,\n",
      " 한/Determiner,\n",
      " 조각/Noun,\n",
      " 을/Josa,\n",
      " 넣다/Verb,\n",
      " 같이/Josa,\n",
      " 밥/Noun,\n",
      " 을/Josa,\n",
      " 지다/Verb,\n",
      " 좋다/Adjective,\n",
      " 곰택/Noun,\n",
      " 대추/Noun,\n",
      " 는/Josa,\n",
      " 먹기/Noun,\n",
      " 좋다/Adjective,\n",
      " 씨/Noun,\n",
      " 를/Josa,\n",
      " 제거/Noun,\n",
      " 하다/Verb,\n",
      " 뒤/Noun,\n",
      " 에/Josa,\n",
      " 넣다/Verb,\n",
      " 피안화/Noun,\n",
      " 개/Noun,\n",
      " 쓰기/Noun,\n",
      " 레시피/Noun,\n",
      " 출처/Noun,\n",
      " 월간/Noun,\n",
      " 헬스/Noun,\n",
      " 조선/Noun,\n",
      " 대추/Noun,\n",
      " 나/Josa,\n",
      " 잣/Noun,\n",
      " 호두/Noun,\n",
      " 등/Noun,\n",
      " 의/Josa,\n",
      " 견과류/Noun,\n",
      " 는/Josa,\n",
      " 오랫동안/Noun,\n",
      " 익히다/Verb,\n",
      " 필요/Noun,\n",
      " 가/Josa,\n",
      " 없다/Adjective,\n",
      " 대추/Noun,\n",
      " 는/Josa,\n",
      " 무르거/Noun,\n",
      " 나/Josa,\n",
      " 퍼지다/Verb,\n",
      " 수/Noun,\n",
      " 있다/Adjective,\n",
      " 밥/Noun,\n",
      " 을/Josa,\n",
      " 다/Adverb,\n",
      " 하다/Verb,\n",
      " 뒤/Noun,\n",
      " 뜸/Noun,\n",
      " 들이다/Verb,\n",
      " 때/Noun,\n",
      " 넣다/Verb]\n"
     ]
    }
   ],
   "source": [
    "pprint(train_docs[0])"
   ]
  },
  {
   "cell_type": "code",
   "execution_count": 12,
   "metadata": {
    "collapsed": false
   },
   "outputs": [
    {
     "name": "stdout",
     "output_type": "stream",
     "text": [
      "91587\n"
     ]
    }
   ],
   "source": [
    "tokens = [t for d in train_docs for t in d[0]]\n",
    "print len(tokens)"
   ]
  },
  {
   "cell_type": "code",
   "execution_count": 13,
   "metadata": {
    "collapsed": false
   },
   "outputs": [
    {
     "name": "stdout",
     "output_type": "stream",
     "text": [
      "<Text: NMSC>\n"
     ]
    }
   ],
   "source": [
    "import nltk\n",
    "text = nltk.Text(tokens, name='NMSC')\n",
    "print text"
   ]
  },
  {
   "cell_type": "code",
   "execution_count": 23,
   "metadata": {
    "collapsed": false
   },
   "outputs": [
    {
     "name": "stdout",
     "output_type": "stream",
     "text": [
      "기\n"
     ]
    }
   ],
   "source": [
    "pprint(text.tokens[10500])"
   ]
  },
  {
   "cell_type": "code",
   "execution_count": 15,
   "metadata": {
    "collapsed": false
   },
   "outputs": [
    {
     "name": "stdout",
     "output_type": "stream",
     "text": [
      "91587\n"
     ]
    }
   ],
   "source": [
    "print len(text.tokens)                 # returns number of tokens"
   ]
  },
  {
   "cell_type": "code",
   "execution_count": 16,
   "metadata": {
    "collapsed": false
   },
   "outputs": [
    {
     "name": "stdout",
     "output_type": "stream",
     "text": [
      "728\n"
     ]
    }
   ],
   "source": [
    "print len(set(text.tokens))         # returns number of unique tokens"
   ]
  },
  {
   "cell_type": "code",
   "execution_count": 20,
   "metadata": {
    "collapsed": false
   },
   "outputs": [
    {
     "data": {
      "image/png": "[encoded data removed]",
      "text/plain": [
       "<matplotlib.figure.Figure at 0x7efc8d485cd0>"
      ]
     },
     "metadata": {},
     "output_type": "display_data"
    }
   ],
   "source": [
    "text.plot(50)     # Plot sorted frequency of top 50 tokens"
   ]
  },
  {
   "cell_type": "code",
   "execution_count": 5,
   "metadata": {
    "collapsed": true
   },
   "outputs": [],
   "source": [
    "from gensim.models import Word2Vec"
   ]
  },
  {
   "cell_type": "code",
   "execution_count": 6,
   "metadata": {
    "collapsed": false
   },
   "outputs": [
    {
     "ename": "NameError",
     "evalue": "name 'train_docs' is not defined",
     "output_type": "error",
     "traceback": [
      "\u001b[1;31m---------------------------------------------------------------------------\u001b[0m",
      "\u001b[1;31mNameError\u001b[0m                                 Traceback (most recent call last)",
      "\u001b[1;32m<ipython-input-6-45f9d08e0498>\u001b[0m in \u001b[0;36m<module>\u001b[1;34m()\u001b[0m\n\u001b[1;32m----> 1\u001b[1;33m \u001b[0mword_model\u001b[0m \u001b[1;33m=\u001b[0m \u001b[0mWord2Vec\u001b[0m\u001b[1;33m(\u001b[0m\u001b[0mtrain_docs\u001b[0m\u001b[1;33m,\u001b[0m \u001b[0msize\u001b[0m\u001b[1;33m=\u001b[0m\u001b[1;36m100\u001b[0m\u001b[1;33m,\u001b[0m \u001b[0mwindow\u001b[0m\u001b[1;33m=\u001b[0m\u001b[1;36m5\u001b[0m\u001b[1;33m,\u001b[0m \u001b[0mmin_count\u001b[0m\u001b[1;33m=\u001b[0m\u001b[1;36m5\u001b[0m\u001b[1;33m,\u001b[0m \u001b[0mworkers\u001b[0m\u001b[1;33m=\u001b[0m\u001b[1;36m4\u001b[0m\u001b[1;33m)\u001b[0m\u001b[1;33m\u001b[0m\u001b[0m\n\u001b[0m\u001b[0;32m      2\u001b[0m \u001b[0mword_model\u001b[0m\u001b[1;33m.\u001b[0m\u001b[0minit_sims\u001b[0m\u001b[1;33m(\u001b[0m\u001b[0mreplace\u001b[0m\u001b[1;33m=\u001b[0m\u001b[0mTrue\u001b[0m\u001b[1;33m)\u001b[0m\u001b[1;33m\u001b[0m\u001b[0m\n\u001b[0;32m      3\u001b[0m \u001b[0mword_model\u001b[0m\u001b[1;33m.\u001b[0m\u001b[0msave\u001b[0m\u001b[1;33m(\u001b[0m\u001b[1;34m'test1.model'\u001b[0m\u001b[1;33m)\u001b[0m\u001b[1;33m\u001b[0m\u001b[0m\n",
      "\u001b[1;31mNameError\u001b[0m: name 'train_docs' is not defined"
     ]
    }
   ],
   "source": [
    "word_model = Word2Vec(train_docs, size=100, window=5, min_count=5, workers=4)\n",
    "word_model.init_sims(replace=True)\n",
    "word_model.save('test1.model')"
   ]
  },
  {
   "cell_type": "code",
   "execution_count": 8,
   "metadata": {
    "collapsed": false
   },
   "outputs": [
    {
     "ename": "KeyError",
     "evalue": "u\"word '\\uce74\\ub180\\ub77c\\uc720/Noun' not in vocabulary\"",
     "output_type": "error",
     "traceback": [
      "\u001b[1;31m---------------------------------------------------------------------------\u001b[0m",
      "\u001b[1;31mKeyError\u001b[0m                                  Traceback (most recent call last)",
      "\u001b[1;32m<ipython-input-8-9d9fe3086d2c>\u001b[0m in \u001b[0;36m<module>\u001b[1;34m()\u001b[0m\n\u001b[1;32m----> 1\u001b[1;33m \u001b[0mpprint\u001b[0m\u001b[1;33m(\u001b[0m\u001b[0mword_vectorizer\u001b[0m\u001b[1;33m.\u001b[0m\u001b[0mmost_similar\u001b[0m\u001b[1;33m(\u001b[0m\u001b[1;34m'카놀라유/Noun'\u001b[0m\u001b[1;33m)\u001b[0m\u001b[1;33m)\u001b[0m\u001b[1;33m\u001b[0m\u001b[0m\n\u001b[0m",
      "\u001b[1;32m/usr/local/lib/python2.7/dist-packages/gensim/models/word2vec.pyc\u001b[0m in \u001b[0;36mmost_similar\u001b[1;34m(self, positive, negative, topn, restrict_vocab, indexer)\u001b[0m\n\u001b[0;32m   1255\u001b[0m                 \u001b[0mall_words\u001b[0m\u001b[1;33m.\u001b[0m\u001b[0madd\u001b[0m\u001b[1;33m(\u001b[0m\u001b[0mself\u001b[0m\u001b[1;33m.\u001b[0m\u001b[0mvocab\u001b[0m\u001b[1;33m[\u001b[0m\u001b[0mword\u001b[0m\u001b[1;33m]\u001b[0m\u001b[1;33m.\u001b[0m\u001b[0mindex\u001b[0m\u001b[1;33m)\u001b[0m\u001b[1;33m\u001b[0m\u001b[0m\n\u001b[0;32m   1256\u001b[0m             \u001b[1;32melse\u001b[0m\u001b[1;33m:\u001b[0m\u001b[1;33m\u001b[0m\u001b[0m\n\u001b[1;32m-> 1257\u001b[1;33m                 \u001b[1;32mraise\u001b[0m \u001b[0mKeyError\u001b[0m\u001b[1;33m(\u001b[0m\u001b[1;34m\"word '%s' not in vocabulary\"\u001b[0m \u001b[1;33m%\u001b[0m \u001b[0mword\u001b[0m\u001b[1;33m)\u001b[0m\u001b[1;33m\u001b[0m\u001b[0m\n\u001b[0m\u001b[0;32m   1258\u001b[0m         \u001b[1;32mif\u001b[0m \u001b[1;32mnot\u001b[0m \u001b[0mmean\u001b[0m\u001b[1;33m:\u001b[0m\u001b[1;33m\u001b[0m\u001b[0m\n\u001b[0;32m   1259\u001b[0m             \u001b[1;32mraise\u001b[0m \u001b[0mValueError\u001b[0m\u001b[1;33m(\u001b[0m\u001b[1;34m\"cannot compute similarity with no input\"\u001b[0m\u001b[1;33m)\u001b[0m\u001b[1;33m\u001b[0m\u001b[0m\n",
      "\u001b[1;31mKeyError\u001b[0m: u\"word '\\uce74\\ub180\\ub77c\\uc720/Noun' not in vocabulary\""
     ]
    }
   ],
   "source": [
    "pprint(word_vectorizer.most_similar('카놀라유/Noun'))"
   ]
  },
  {
   "cell_type": "code",
   "execution_count": 9,
   "metadata": {
    "collapsed": false
   },
   "outputs": [
    {
     "name": "stdout",
     "output_type": "stream",
     "text": [
      "[(목살/Noun, 0.7071341276168823),\n",
      " (대패/Noun, 0.7061721086502075),\n",
      " (항정살/Noun, 0.616275429725647),\n",
      " (돼지고기/Noun, 0.5787947177886963),\n",
      " (불고기/Noun, 0.5780292749404907),\n",
      " (등심/Noun, 0.5456504821777344),\n",
      " (오삼/Noun, 0.5353266000747681),\n",
      " (제육/Noun, 0.5333108901977539),\n",
      " (바싹/Noun, 0.5297355055809021),\n",
      " (삼겹/Noun, 0.527709424495697)]\n"
     ]
    }
   ],
   "source": [
    "pprint(word_vectorizer.most_similar('삼겹살/Noun'))"
   ]
  },
  {
   "cell_type": "code",
   "execution_count": 11,
   "metadata": {
    "collapsed": false,
    "scrolled": true
   },
   "outputs": [
    {
     "data": {
      "text/plain": [
       "array([-0.07771252,  0.0011433 , -0.13372719, -0.06326675, -0.09620686,\n",
       "       -0.04862241,  0.12266453,  0.0872689 , -0.1068418 ,  0.02687827,\n",
       "        0.02718413, -0.07585738,  0.04267399, -0.0325891 ,  0.13056315,\n",
       "       -0.03483701,  0.00337188,  0.10699464,  0.16797456,  0.19278519,\n",
       "       -0.12957755,  0.04801638,  0.05628638,  0.14633211, -0.08199748,\n",
       "       -0.01806029, -0.02100017, -0.08321194, -0.00643221, -0.02869773,\n",
       "       -0.09413321,  0.08186222, -0.05329344, -0.0486597 ,  0.14073925,\n",
       "        0.08967934,  0.01407389, -0.16537331,  0.09319938, -0.13563578,\n",
       "        0.13392332, -0.019266  , -0.17046338,  0.03761801, -0.20744005,\n",
       "        0.07808939,  0.09797117,  0.1348827 ,  0.08443216, -0.00167187,\n",
       "        0.0304425 , -0.02958406,  0.02195981, -0.03538588, -0.01026732,\n",
       "       -0.14115629,  0.06809685,  0.02809805,  0.01688194,  0.16944523,\n",
       "       -0.2075908 , -0.00843424, -0.03892329,  0.23760161, -0.0686566 ,\n",
       "        0.05474508,  0.04649433,  0.11849881,  0.12010989, -0.0421066 ,\n",
       "        0.06736623,  0.09473465,  0.07342625, -0.00257238, -0.04338656,\n",
       "       -0.01455219, -0.04999371, -0.06714226, -0.04506984, -0.12625901,\n",
       "        0.06628921, -0.02720298, -0.00178311,  0.28295246,  0.09163442,\n",
       "        0.16097862,  0.08333391, -0.19007209, -0.0745708 ,  0.0456439 ,\n",
       "        0.048898  , -0.15172306,  0.05699731,  0.1627484 , -0.03231137,\n",
       "       -0.03627962, -0.01756602,  0.02281845,  0.17814383,  0.14358051], dtype=float32)"
      ]
     },
     "execution_count": 11,
     "metadata": {},
     "output_type": "execute_result"
    }
   ],
   "source": [
    "word_vectorizer['멸치/Noun']"
   ]
  },
  {
   "cell_type": "code",
   "execution_count": 7,
   "metadata": {
    "collapsed": false
   },
   "outputs": [],
   "source": [
    "word_vectorizer = Word2Vec.load('test1.model')"
   ]
  },
  {
   "cell_type": "code",
   "execution_count": 74,
   "metadata": {
    "collapsed": false
   },
   "outputs": [
    {
     "data": {
      "text/plain": [
       "<gensim.models.word2vec.Word2Vec at 0x7fdb7e180690>"
      ]
     },
     "execution_count": 74,
     "metadata": {},
     "output_type": "execute_result"
    }
   ],
   "source": [
    "word_vectorizer"
   ]
  },
  {
   "cell_type": "markdown",
   "metadata": {},
   "source": [
    "# 식재료 사전 "
   ]
  },
  {
   "cell_type": "code",
   "execution_count": 1,
   "metadata": {
    "collapsed": true
   },
   "outputs": [],
   "source": [
    "import pickle"
   ]
  },
  {
   "cell_type": "code",
   "execution_count": 30,
   "metadata": {
    "collapsed": true
   },
   "outputs": [],
   "source": [
    "import konlpy"
   ]
  },
  {
   "cell_type": "code",
   "execution_count": 25,
   "metadata": {
    "collapsed": true
   },
   "outputs": [],
   "source": [
    "import nltk"
   ]
  },
  {
   "cell_type": "code",
   "execution_count": 45,
   "metadata": {
    "collapsed": true
   },
   "outputs": [],
   "source": [
    "f = open(\"fooddict2.txt\", 'rb')\n",
    "ingredient = pickle.load(f)"
   ]
  },
  {
   "cell_type": "code",
   "execution_count": 46,
   "metadata": {
    "collapsed": true
   },
   "outputs": [],
   "source": [
    "food_dict=[]"
   ]
  },
  {
   "cell_type": "code",
   "execution_count": 47,
   "metadata": {
    "collapsed": false
   },
   "outputs": [],
   "source": [
    "for x in ingredient:\n",
    "    temp_fo = konlpy.tag.Twitter().pos(x, norm=True, stem=True) \n",
    "    for w,t in temp_fo:\n",
    "        if t == 'Noun': food_dict.append(w)"
   ]
  },
  {
   "cell_type": "code",
   "execution_count": 48,
   "metadata": {
    "collapsed": false
   },
   "outputs": [],
   "source": [
    "fdist1 = nltk.FreqDist(food_dict)"
   ]
  },
  {
   "cell_type": "code",
   "execution_count": 64,
   "metadata": {
    "collapsed": true
   },
   "outputs": [],
   "source": [
    "two=[]"
   ]
  },
  {
   "cell_type": "code",
   "execution_count": 65,
   "metadata": {
    "collapsed": false
   },
   "outputs": [],
   "source": [
    "for xx in food_dict:\n",
    "    word = xx.split('/')[0]\n",
    "    if len(word) == 3: two.append(word)"
   ]
  },
  {
   "cell_type": "code",
   "execution_count": 66,
   "metadata": {
    "collapsed": false
   },
   "outputs": [
    {
     "data": {
      "text/plain": [
       "636"
      ]
     },
     "execution_count": 66,
     "metadata": {},
     "output_type": "execute_result"
    }
   ],
   "source": [
    "len(set(two))"
   ]
  },
  {
   "cell_type": "code",
   "execution_count": 65,
   "metadata": {
    "collapsed": false
   },
   "outputs": [],
   "source": [
    "with codecs.open('five.txt','w',encoding='utf8') as f:\n",
    "    for wr in set(five):\n",
    "        f.write(wr + '\\n')"
   ]
  },
  {
   "cell_type": "code",
   "execution_count": 6,
   "metadata": {
    "collapsed": true
   },
   "outputs": [],
   "source": [
    "ingredient_dict=[]"
   ]
  },
  {
   "cell_type": "code",
   "execution_count": 13,
   "metadata": {
    "collapsed": false
   },
   "outputs": [],
   "source": [
    "with codecs.open('five.txt','r',encoding='utf8') as f:\n",
    "    lines = f.readlines()\n",
    "    for line in lines:\n",
    "        line = line[:-1]\n",
    "        if ('(' not in line) & ('/' not in line):\n",
    "            ingredient_dict.append(line)"
   ]
  },
  {
   "cell_type": "code",
   "execution_count": 14,
   "metadata": {
    "collapsed": false
   },
   "outputs": [
    {
     "data": {
      "text/plain": [
       "1492"
      ]
     },
     "execution_count": 14,
     "metadata": {},
     "output_type": "execute_result"
    }
   ],
   "source": [
    "len(ingredient_dict)"
   ]
  },
  {
   "cell_type": "code",
   "execution_count": 16,
   "metadata": {
    "collapsed": true
   },
   "outputs": [],
   "source": [
    "with codecs.open('ingredient_dict.txt','w',encoding='utf8') as f:\n",
    "    for wr in set(ingredient_dict):\n",
    "        f.write(wr + '\\n')"
   ]
  },
  {
   "cell_type": "code",
   "execution_count": 15,
   "metadata": {
    "collapsed": false
   },
   "outputs": [],
   "source": [
    "f = open(\"ingdict.txt\", 'wb')\n",
    "pickle.dump(ingredient_dict, f)\n",
    "f.close()"
   ]
  },
  {
   "cell_type": "code",
   "execution_count": 12,
   "metadata": {
    "collapsed": true
   },
   "outputs": [],
   "source": [
    "f = open(\"ingdict.txt\", 'rb')\n",
    "inglist = pickle.load(f)\n",
    "f.close()"
   ]
  }
 ],
 "metadata": {
  "kernelspec": {
   "display_name": "Python 2",
   "language": "python",
   "name": "python2"
  },
  "language_info": {
   "codemirror_mode": {
    "name": "ipython",
    "version": 2
   },
   "file_extension": ".py",
   "mimetype": "text/x-python",
   "name": "python",
   "nbconvert_exporter": "python",
   "pygments_lexer": "ipython2",
   "version": "2.7.6"
  }
 },
 "nbformat": 4,
 "nbformat_minor": 0
}
