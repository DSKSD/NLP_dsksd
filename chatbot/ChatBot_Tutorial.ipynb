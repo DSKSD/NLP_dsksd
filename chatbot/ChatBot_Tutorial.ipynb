{
 "cells": [
  {
   "cell_type": "markdown",
   "metadata": {},
   "source": [
    "# Chatbot Fundamentals "
   ]
  },
  {
   "cell_type": "markdown",
   "metadata": {},
   "source": [
    "## An interactive guide to writing bots in Python "
   ]
  },
  {
   "cell_type": "markdown",
   "metadata": {},
   "source": [
    "https://apps.worldwritable.com/tutorials/chatbot/"
   ]
  },
  {
   "cell_type": "markdown",
   "metadata": {},
   "source": [
    "이 글은 서비스를 사용화하기 위한 튜토리얼은 아니지만 (아마 서비스를 위해서는 기존의 봇 플랫폼이나 프래임워크를 사용해야할 것이다.) 이 예제를 통해 conversational UI를 디자인하고 엔지니어링해 볼 좋은 기회를 가질 수 있다!"
   ]
  },
  {
   "cell_type": "markdown",
   "metadata": {},
   "source": [
    "## The boundries of a bot "
   ]
  },
  {
   "cell_type": "markdown",
   "metadata": {},
   "source": [
    "당신이 conversational UI를 만들기 위해서는 다음 기본적 디자인 질문에 답해야 한다.\n",
    "\n",
    "1. Domain knowledge: What does a user expect this bot to understand?\n",
    "\n",
    "2. Personality: What tone or vocabulary does the bot employ?"
   ]
  },
  {
   "cell_type": "markdown",
   "metadata": {},
   "source": [
    "### Domain knowledge "
   ]
  },
  {
   "cell_type": "markdown",
   "metadata": {},
   "source": [
    "순도 백퍼센트 AI는 존재하지 않지만, AI는 특정 사실에 기반한 답을 인간처럼 답할 수는 있다. 모든 봇들은 특정 주제에 한정되어 있다. \n",
    "\n",
    "Open domain vs Closed domain(대부분의 봇은 closed)"
   ]
  },
  {
   "cell_type": "markdown",
   "metadata": {},
   "source": [
    "### Personality "
   ]
  },
  {
   "cell_type": "markdown",
   "metadata": {},
   "source": [
    "봇은 이해력의 부족으로 인해 진짜 인간보다 조금 덜떨어진 의인화를 해왔다. 하지만 이것은 어쩌면 창의적인 기회가 될 수도 있다. 진짜 인간 같은 의인화를 할 수 없다면 어떠한 컨셉을 정할 수 있을 것! <br>\n",
    "<br>\n",
    "__ELIZA__ 같은 경우 테라피 도메인에 맞게 테라피스트 같은 성격을 가지고 있다! 하지만 __Ecommerce bot__의 경우, 도메인 지식(제품, 사이즈, 주문 상태 등)만 잘 알면 되지 굳이 성격이 필요없기도 하다."
   ]
  },
  {
   "cell_type": "markdown",
   "metadata": {},
   "source": [
    "Often the dual axes of domain and personality align: in the program ELIZA, the domain was a therapy session, and the bot’s personality was that of a Rogerian therapist. Domain and personality don’t necessarily need to be tightly coupled, though—an ecommerce bot needs to know about products, sizing, and order status, but that domain doesn’t imply any particular kind of personality. A shopping bot could have the persona of a helpful person, a cheerful kitten, or have no personality at all."
   ]
  },
  {
   "cell_type": "markdown",
   "metadata": {},
   "source": [
    "## Meet \"Brobot\" "
   ]
  },
  {
   "cell_type": "markdown",
   "metadata": {},
   "source": [
    "아주 기본적인 수준의 챗봇 테크닉을 소개한다. "
   ]
  },
  {
   "cell_type": "code",
   "execution_count": 1,
   "metadata": {
    "collapsed": true
   },
   "outputs": [],
   "source": [
    "# coding: utf-8\n",
    "from __future__ import unicode_literals\n",
    "import random\n",
    "import re"
   ]
  },
  {
   "cell_type": "code",
   "execution_count": 2,
   "metadata": {
    "collapsed": false
   },
   "outputs": [],
   "source": [
    "from konlpy.utils import pprint\n",
    "from konlpy.tag import Twitter"
   ]
  },
  {
   "cell_type": "markdown",
   "metadata": {},
   "source": [
    "## 인사에 답하기! "
   ]
  },
  {
   "cell_type": "markdown",
   "metadata": {},
   "source": [
    "인사를 했을 때 답해주길 바랄 것이다. \"greet the robot\" 기능을 구현하기 위해 __simple keyword matching__ 테크닉을 사용할 수 있다. "
   ]
  },
  {
   "cell_type": "code",
   "execution_count": 3,
   "metadata": {
    "collapsed": true
   },
   "outputs": [],
   "source": [
    "# Sentences we'll respond with if the user greeted us\n",
    "GREETING_KEYWORDS = (\"ㅎㅇ\", \"하이\", \"안녕\", \"안뇽\", \"하잉\", \n",
    "                     \"하이여\",\"하이요\",\"하이하이\", \"안녕하세요\",)\n",
    "\n",
    "GREETING_RESPONSES = [\"ㅎㅇ\", \"하이~~\",\"안뇽~\", \"안녕하세요:)\"]\n",
    "\n",
    "def check_for_greeting(sentence):\n",
    "    \"\"\"If any of the words in the user's input was a greeting, \n",
    "    return a greeting response\"\"\"\n",
    "    sentence = re.sub(\"ㅎㅇ\", \"하이\", sentence)\n",
    "    words = re.sub(\"[^가-힣]\", \" \",  sentence).split()\n",
    "    for word in words:\n",
    "        if word.lower() in GREETING_KEYWORDS:\n",
    "            return random.choice(GREETING_RESPONSES)"
   ]
  },
  {
   "cell_type": "code",
   "execution_count": 43,
   "metadata": {
    "collapsed": false
   },
   "outputs": [
    {
     "name": "stdout",
     "output_type": "stream",
     "text": [
      "ㅎㅇ\n"
     ]
    }
   ],
   "source": [
    "answer = check_for_greeting('ㅎㅇ!!! ㅋㅋㅋㅋ')\n",
    "pprint(answer)"
   ]
  },
  {
   "cell_type": "markdown",
   "metadata": {},
   "source": [
    "이는 챗봇 내에서 가장 간단한 실행이다. 유저의 텍스트로부터 특정 단어가 포함되었는지를 체크하여 만약 있으면 저장해둔 답변으로부터 랜덤으로 뽑아서 실행한다."
   ]
  },
  {
   "cell_type": "markdown",
   "metadata": {},
   "source": [
    "###  Beyond keywords"
   ]
  },
  {
   "cell_type": "markdown",
   "metadata": {},
   "source": [
    "파이썬으로 NLP를 하려면 두 개의 high-level 라이브러리를 필요로한다. 바로 TextBlob과 spaCy이다.spaCy는 사용하기 쉽고 빠르지만 메모리 집약적이고 통계적 NLP 전체를 커버하지 못할 수도 있다.\n",
    "TextBlob은 NLTK의 wraping하는 api이다. 더 느리지만 이해력은 높다."
   ]
  },
  {
   "cell_type": "markdown",
   "metadata": {},
   "source": [
    "여기서는 TextBlob을 사용할 것이다. (저희는 __KonlPy__로 대체하겠습니다!)\n",
    "\n",
    "Brobot의 메인 루프는 다음의 스텝을 따른다.\n",
    "\n",
    "1. user's text에 초기 전처리를 가한다.(unsafe한 input을 체크하기도)\n",
    "\n",
    "2. TextBlot을 사용하여 input을 파싱한다.\n",
    "\n",
    "3. 유저의 발언으로부터 정보를 추출해내기 위한 루틴을 거친다.\n",
    "\n",
    "4. 유저의 발언과 가장 매칭이 되는 답변을 구성한다.\n",
    "\n",
    "5. 봇이 완전 이상한 대답을 할 수도 있으니 후처리를 가한다. (최악의 경우는 면하기 위해)"
   ]
  },
  {
   "cell_type": "code",
   "execution_count": 4,
   "metadata": {
    "collapsed": true
   },
   "outputs": [],
   "source": [
    "from konlpy.tag import Twitter"
   ]
  },
  {
   "cell_type": "code",
   "execution_count": 5,
   "metadata": {
    "collapsed": false
   },
   "outputs": [],
   "source": [
    "tagger = Twitter()"
   ]
  },
  {
   "cell_type": "code",
   "execution_count": 6,
   "metadata": {
    "collapsed": true
   },
   "outputs": [],
   "source": [
    "parsed=tagger.pos(\"너는 누구니?\", stem=True, norm=True)"
   ]
  },
  {
   "cell_type": "code",
   "execution_count": 77,
   "metadata": {
    "collapsed": true
   },
   "outputs": [],
   "source": [
    "def respond(sentence):\n",
    "    \"\"\"유저의 발언을 파싱하여 가장 답변에 \n",
    "    적절한 후보 단어들을 찾아낸다. \"\"\"\n",
    "\n",
    "    parsed = tagger.pos(sentence, stem=True, norm=True)\n",
    "    \n",
    "    # 한 문장 이상이 들어오면 루프를 돌며 적절한 단어들을 탐색한다.\n",
    "    \n",
    "    pronoun, noun, adjective, verb = find_candidate_parts_of_speech(parsed)\n",
    "\n",
    "    # If we said something about the bot and used some kind of direct noun, construct the\n",
    "    # sentence around that, discarding the other candidates\n",
    "    resp = check_for_comment_about_bot(pronoun, noun, adjective)\n",
    "\n",
    "    # If we just greeted the bot, we'll use a return greeting\n",
    "    if not resp:\n",
    "        resp = check_for_greeting(parsed)\n",
    "\n",
    "    if not resp:\n",
    "        # If we didn't override the final sentence, try to construct a new one:\n",
    "        if not pronoun:\n",
    "            resp = random.choice(NONE_RESPONSES)\n",
    "        elif pronoun == 'I' and not verb:\n",
    "            resp = random.choice(COMMENTS_ABOUT_SELF)\n",
    "        else:\n",
    "            resp = construct_response(pronoun, noun, verb)\n",
    "\n",
    "    # If we got through all that with nothing, use a random response\n",
    "    if not resp:\n",
    "        resp = random.choice(NONE_RESPONSES)\n",
    "\n",
    "    logger.info(\"Returning phrase '%s'\", resp)\n",
    "    # Check that we're not going to say anything obviously offensive\n",
    "    filter_response(resp)\n",
    "\n",
    "    return resp"
   ]
  },
  {
   "cell_type": "code",
   "execution_count": 11,
   "metadata": {
    "collapsed": true
   },
   "outputs": [],
   "source": [
    "def find_candidate_parts_of_speech(parsed):\n",
    "    \"\"\"파싱된 인풋을 받으면, 대명사와 명사, 형용사, 단어가 매치되는게 있는지 찾아서 튜플로 리턴한다.\"\"\"\n",
    "    pronoun = None\n",
    "    noun = None\n",
    "    adjective = None\n",
    "    verb = None\n",
    "    for sent in parsed:\n",
    "        pronoun = find_pronoun(sent)\n",
    "     #  noun = find_noun(sent)\n",
    "     #   adjective = find_adjective(sent)\n",
    "     #   verb = find_verb(sent)\n",
    "   # logger.info(\"Pronoun=%s, noun=%s, adjective=%s, verb=%s\", pronoun, noun, adjective, verb)\n",
    "    return pronoun, noun, adjective, verb"
   ]
  },
  {
   "cell_type": "markdown",
   "metadata": {},
   "source": [
    "각 find_* 함수는 TextBlob의 sentence.pos_tags 속성에 따라 speech 중 단어의 파트를 리턴한다.\n"
   ]
  },
  {
   "cell_type": "code",
   "execution_count": 9,
   "metadata": {
    "collapsed": true
   },
   "outputs": [],
   "source": [
    "def find_pronoun(sent):\n",
    "    \"\"\"Given a sentence, find a preferred pronoun to respond with. Returns None if no candidate\n",
    "    pronoun is found in the input\"\"\"\n",
    "    pronoun = None\n",
    "\n",
    "    for w,t in sent:\n",
    "        # Disambiguate pronouns\n",
    "        if t == 'Noun' and w == '너':\n",
    "            pronoun = '나'\n",
    "        elif t == 'Noun' and w == '나':\n",
    "            # If the user mentioned themselves, then they will definitely be the pronoun\n",
    "            pronoun = '너'\n",
    "    return pronoun"
   ]
  },
  {
   "cell_type": "markdown",
   "metadata": {},
   "source": [
    "대명사를 찾아주는 함수의 예\n",
    "유저가 'You'라고 하면 Brobot 입장에서는 'I'가 된다."
   ]
  },
  {
   "cell_type": "markdown",
   "metadata": {},
   "source": [
    "A more sophisticated approach would be to build a dependency tree. Dependency grammars describe the relationship among all clauses in a sentence, allowing you to discriminate between (say) the subject and object of a sentence. If your bot needs to know the difference between “dog bites man” and “man bites dog”, I recommend using the dependency parsing function of a library like spaCy."
   ]
  },
  {
   "cell_type": "markdown",
   "metadata": {},
   "source": [
    "### But enough about me, what do you think of me?"
   ]
  },
  {
   "cell_type": "markdown",
   "metadata": {},
   "source": [
    "우리의 봇은 말하는 그 자체를 좋아한다. 이 특별한 루틴은 만약 유저가 bot에게 \"you\"라고 직접적 언급을 한 경우, 잠재적 답변을 만들어 낸다."
   ]
  },
  {
   "cell_type": "code",
   "execution_count": 66,
   "metadata": {
    "collapsed": false
   },
   "outputs": [
    {
     "name": "stdout",
     "output_type": "stream",
     "text": [
      "네, 저 그거 잘 알아요 사과\n"
     ]
    }
   ],
   "source": [
    "pprint(check_for_comment_about_bot('나', '사과', None))"
   ]
  },
  {
   "cell_type": "code",
   "execution_count": 62,
   "metadata": {
    "collapsed": true
   },
   "outputs": [],
   "source": [
    "def check_for_comment_about_bot(pronoun, noun, adjective):\n",
    "    \"\"\"Check if the user's input was about the bot itself, in which case try to fashion a response\n",
    "    that feels right based on their input. Returns the new best sentence, or None.\"\"\"\n",
    "    resp = None\n",
    "    if pronoun == '나' and (noun or adjective):\n",
    "        if noun:\n",
    "            resp = random.choice(SELF_VERBS_WITH_NOUN_LOWER).format(**{'noun': noun})\n",
    "        else:\n",
    "            resp = random.choice(SELF_VERBS_WITH_ADJECTIVE).format(**{'adjective': adjective})\n",
    "    return resp\n",
    "\n",
    "# Template for responses that include a direct noun which is indefinite/uncountable\n",
    "\n",
    "SELF_VERBS_WITH_NOUN_LOWER = [\n",
    "    \"네, 저 그거 잘 알아요 {noun}\",\n",
    "    \"항상 저한테 {noun} 물어보더라구요\",\n",
    "    \"저도 {noun} 좋아해요\",\n",
    "    \"{noun}이 뭐죠?\",\n",
    "    \"아 {noun} 말씀이세요?\",\n",
    "    \"저는 {noun} 전문가입니다!\",\n",
    "]\n",
    "\n",
    "SELF_VERBS_WITH_ADJECTIVE = [\n",
    "    \"I'm personally building the {adjective} Economy\",\n",
    "    \"I consider myself to be a {adjective}preneur\",\n",
    "]\n"
   ]
  },
  {
   "cell_type": "markdown",
   "metadata": {},
   "source": [
    "실제 봇에서는 당신은 좀 더 정교한 <a href=\"http://jinja.pocoo.org/\">templating engine</a>이 필요할 것이다."
   ]
  },
  {
   "cell_type": "markdown",
   "metadata": {},
   "source": [
    "### Constructing a realistic response "
   ]
  },
  {
   "cell_type": "markdown",
   "metadata": {},
   "source": [
    "일반적인 경우 유저의 텍스트로부터 파싱하여 단어를 알아낼 수 있지만 미처 처리하지 못한 단어들이 등장할 수도 있다. \n",
    "이 경우 프로그램은 이해하지 못한셈이다. 도메인 지식 밖의 일이라 예외를 만난 것이다.\n",
    "\n",
    "하지만 여전히 당신은 성공적인 답변을 생성해내기 위해 유저의 인풋을 수정할 수 있다. 하지만 이는 이해해서 답했다기 보다는 로봇의 성격을 드러내는 것에 더 가깝다."
   ]
  },
  {
   "cell_type": "markdown",
   "metadata": {},
   "source": [
    "1. 만약 유저의 인풋으로부터 대명사를 받는다면 재활용한다.\n",
    "\n",
    "2. 많은 경우, 유저의 동사를 안바꾸고 사용한다.\n",
    "\n",
    "3. 만약 동사가 \"to be\"의 형태라면 이는 유저가 자기 자신에 대해 말하고 있는 것이다. (I am a good programmer), 이에 반대할 수도 있다?\n",
    "\n",
    "4. 그렇지 않다면 그냥 유저의 오리지널 문장을 재조합하고 미사여구를 더한다."
   ]
  },
  {
   "cell_type": "code",
   "execution_count": 95,
   "metadata": {
    "collapsed": false
   },
   "outputs": [
    {
     "name": "stdout",
     "output_type": "stream",
     "text": [
      "[(너, Noun), (누구, Noun), (야, Josa)]\n"
     ]
    }
   ],
   "source": [
    "pprint(tagger.pos(\"너 누구야\", norm=True))"
   ]
  },
  {
   "cell_type": "code",
   "execution_count": 36,
   "metadata": {
    "collapsed": true
   },
   "outputs": [],
   "source": [
    "def construct_response(pronoun, noun, verb, josa):\n",
    "    \"\"\"No special cases matched, so we're going to try to construct a full sentence that uses as much\n",
    "    of the user's input as possible\"\"\"\n",
    "    resp = []\n",
    "\n",
    "    if pronoun:\n",
    "        resp.append(pronoun)\n",
    "\n",
    "    # We always respond in the present tense, and the pronoun will always either be a passthrough\n",
    "    # from the user, or 'you' or 'I', in which case we might need to change the tense for some\n",
    "    # irregular verbs.\n",
    "    if josa:\n",
    "        for josa_word in josa:\n",
    "            if josa_word in ('이야', '다', '야', \"거야\"):  # This would be an excellent place to use lemmas!\n",
    "                if pronoun.lower() == '너':\n",
    "                    # The bot will always tell the person they aren't whatever they said they were\n",
    "                    resp.append(\"\")\n",
    "                else:\n",
    "                    resp.append(verb_word)\n",
    "    if noun:\n",
    "        resp.append(\" \" + noun)\n",
    "\n",
    "    resp.append(random.choice((\"ㅎㅎ\", \"ㅋㅋ\")))\n",
    "\n",
    "    return \" \".join(resp)\n"
   ]
  },
  {
   "cell_type": "markdown",
   "metadata": {},
   "source": [
    "### You've got to be kind "
   ]
  },
  {
   "cell_type": "markdown",
   "metadata": {},
   "source": [
    "마지막 루틴은 unsafe한 output을 방지하기 위한 필터로써 동작한다. 공격적 언어나 등을 필터링한다. 또한 문맥적으로 적절하지 않은 답변도 필터링한다. \n",
    "\n",
    "배드 봇을 방지하는 것은 이론적으로 불가능하지만 봇 크리에이터들은 최대한 윤리적 의무를 지키려 노력한다..!"
   ]
  },
  {
   "cell_type": "code",
   "execution_count": 37,
   "metadata": {
    "collapsed": true
   },
   "outputs": [],
   "source": [
    "def filter_response(resp):\n",
    "    \"\"\"Don't allow any words to match our filter list\"\"\"\n",
    "    tokenized = resp.split(' ')\n",
    "    for word in tokenized:\n",
    "        if '@' in word or '#' in word or '!' in word:\n",
    "            raise UnacceptableUtteranceException()\n",
    "        for s in FILTER_WORDS:\n",
    "            if word.lower().startswith(s):\n",
    "                raise UnacceptableUtteranceException()"
   ]
  },
  {
   "cell_type": "markdown",
   "metadata": {},
   "source": [
    "지금까지 Brobot의 여러 기능을 다뤘다. 하지만 전체 완성된 소스 코드들을 확인하길 바란다. https://github.com/lizadaly/brobot/ \n",
    "\n"
   ]
  },
  {
   "cell_type": "markdown",
   "metadata": {},
   "source": [
    "# 봇 프레임워크 API.ai  "
   ]
  },
  {
   "cell_type": "markdown",
   "metadata": {},
   "source": [
    "참고 : http://hunkim.github.io/ml/ "
   ]
  },
  {
   "cell_type": "markdown",
   "metadata": {},
   "source": [
    "* User : How's the air quality in __Jeju__?\n",
    "* Agent : __Jeju__ today's air quality is very good."
   ]
  },
  {
   "cell_type": "markdown",
   "metadata": {},
   "source": [
    "## Agent "
   ]
  },
  {
   "cell_type": "markdown",
   "metadata": {},
   "source": [
    "우리의 챗봇.!"
   ]
  },
  {
   "cell_type": "markdown",
   "metadata": {},
   "source": [
    "## Intents (like function) "
   ]
  },
  {
   "cell_type": "markdown",
   "metadata": {},
   "source": [
    "유저의 발언 의도를 파악하는 함수(라고 생각하면 편할듯 합니다!) Agent는 여러 개의 Intents를 가질 수 있다. <br>\n",
    "<br>\n",
    "이 함수는 각각 parameter를 가질 수 있고 (이 parameter의 형식은 Entities일 것이다.), 또한 연속적 대화를 위한 global 변수 Context를 사용할 수도 있을 것."
   ]
  },
  {
   "cell_type": "markdown",
   "metadata": {},
   "source": [
    "- Parameter\n",
    "- Context"
   ]
  },
  {
   "cell_type": "markdown",
   "metadata": {},
   "source": [
    "## Entities (파라미터의 형태 like variable)"
   ]
  },
  {
   "cell_type": "markdown",
   "metadata": {},
   "source": [
    "## Example"
   ]
  },
  {
   "cell_type": "markdown",
   "metadata": {},
   "source": [
    "How's the air quality in __Jeju__? <br>\n",
    "<br>\n",
    "=> __String getWeather(location, time)__"
   ]
  },
  {
   "cell_type": "markdown",
   "metadata": {},
   "source": [
    "즉, 요것이 봇 프레임워크의 역할!<br>\n",
    "<br>\n",
    "* String getWeather(location, time)\n",
    "  - method name: intent\n",
    "  - parameters: parameters\n",
    "  - parameter types: entities\n",
    "  - context: global variable"
   ]
  },
  {
   "cell_type": "markdown",
   "metadata": {},
   "source": [
    "## API.ai architecture "
   ]
  },
  {
   "cell_type": "code",
   "execution_count": 16,
   "metadata": {
    "collapsed": true
   },
   "outputs": [],
   "source": [
    "from IPython.display import Image"
   ]
  },
  {
   "cell_type": "code",
   "execution_count": 18,
   "metadata": {
    "collapsed": false
   },
   "outputs": [
    {
     "data": {
      "image/jpeg": "[encoded data removed]",
      "text/plain": [
       "<IPython.core.display.Image object>"
      ]
     },
     "execution_count": 18,
     "metadata": {},
     "output_type": "execute_result"
    }
   ],
   "source": [
    "Image('./image/chatbottuto1.jpg')"
   ]
  },
  {
   "cell_type": "code",
   "execution_count": 13,
   "metadata": {
    "collapsed": true
   },
   "outputs": [],
   "source": [
    "# coding: utf-8\n",
    "from __future__ import unicode_literals\n",
    "import random\n",
    "import re\n",
    "\n",
    "from konlpy.utils import pprint\n",
    "from konlpy.tag import Twitter\n",
    "\n",
    "\n",
    "\n",
    "def check_for_greeting(sentence):\n",
    "    \n",
    "    # Sentences we'll respond with if the user greeted us\n",
    "    GREETING_KEYWORDS = (\"ㅎㅇ\", \"하이\", \"안녕\", \"안뇽\", \"하잉\", \n",
    "                     \"하이여\",\"하이요\",\"하이하이\", \"안녕하세요\",)\n",
    "\n",
    "    GREETING_RESPONSES = [\"ㅎㅇ\", \"하이~~\",\"안뇽~\", \"안녕하세요:)\"]\n",
    "    \n",
    "    \"\"\"If any of the words in the user's input was a greeting, \n",
    "    return a greeting response\"\"\"\n",
    "    sentence = re.sub(\"ㅎㅇ\", \"하이\", sentence)\n",
    "    words = re.sub(\"[^가-힣]\", \" \",  sentence).split()\n",
    "    for word in words:\n",
    "        if word.lower() in GREETING_KEYWORDS:\n",
    "            return random.choice(GREETING_RESPONSES)\n",
    "\n",
    "        \n",
    "        \n",
    "def find_candidate_parts_of_speech(parsed):\n",
    "    \"\"\"파싱된 인풋을 받으면, 대명사와 명사, 형용사, 단어가 매치되는게 있는지 찾아서 튜플로 리턴한다.\"\"\"\n",
    "    pronoun = None\n",
    "    noun = None\n",
    "    who = None\n",
    "    \n",
    "    pronoun = find_pronoun(parsed)\n",
    "    noun = find_noun(parsed)\n",
    "    who = find_who(parsed)\n",
    "    return pronoun, noun, who\n",
    "\n",
    "\n",
    "def find_pronoun(sent):\n",
    "    \"\"\"Given a sentence, find a preferred pronoun to respond with. Returns None if no candidate\n",
    "    pronoun is found in the input\"\"\"\n",
    "    pronoun = None\n",
    "\n",
    "    for w,t in sent:\n",
    "        # Disambiguate pronouns\n",
    "        if t == 'Noun' and (w == '너' or w =='넌'):\n",
    "            pronoun = '나'\n",
    "        elif t == 'Noun' and (w == '나' or w=='난'):\n",
    "            # If the user mentioned themselves, then they will definitely be the pronoun\n",
    "            pronoun = '너'\n",
    "    return pronoun\n",
    "\n",
    "def find_noun(sent):\n",
    "    \"\"\"Given a sentence, find the best candidate noun.\"\"\"\n",
    "    noun = None\n",
    "\n",
    "    if not noun:\n",
    "        for w, t in sent:\n",
    "            if t == 'Noun' and w != '너' and w != '나':  # This is a noun\n",
    "                noun = w\n",
    "                break\n",
    "\n",
    "    return noun\n",
    "\n",
    "def find_who(sent):\n",
    "    \"\"\"Given a sentence, find the best candidate noun.\"\"\"\n",
    "    who = None\n",
    "\n",
    "    for w, t in sent:\n",
    "        if (t == 'Noun') and (w=='누구' or w =='뭐'):\n",
    "            who = w\n",
    "            break\n",
    "\n",
    "    return who\n",
    "\n",
    "\n",
    "\n",
    "def respond(sentence):\n",
    "    \"\"\"유저의 발언을 파싱하여 가장 답변에 \n",
    "    적절한 후보 단어들을 찾아낸다. \"\"\"\n",
    "   \n",
    "    NONE_RESPONSES = [\n",
    "    \"네..?\",\n",
    "    \"잘 모르겠어요.\",\n",
    "    \"흠, 그렇군요.\",\n",
    "    \"아하!\",\n",
    "    \"몰라요 ㅠㅠ\",\n",
    "    ]\n",
    "\n",
    "    COMMENTS_ABOUT_SELF = [\n",
    "        \"저를 만든건 성동님이시죠.\",\n",
    "        \"저는 딥사이어인 테스트봇입니다.\",\n",
    "        \"저는 100점 만점에 {}점이죠\".format(random.randint(100, 500)),\n",
    "    ]\n",
    "\n",
    "    tagger = Twitter()\n",
    "    parsed = tagger.pos(sentence, stem=True, norm=True)\n",
    "    \n",
    "    # 한 문장 이상이 들어오면 루프를 돌며 적절한 단어들을 탐색한다.\n",
    "    \n",
    "    pronoun, noun, who = find_candidate_parts_of_speech(parsed)\n",
    "\n",
    "    # If we said something about the bot and used some kind of direct noun, construct the\n",
    "    # sentence around that, discarding the other candidates\n",
    "    resp = check_for_greeting(sentence)\n",
    "    # If we just greeted the bot, we'll use a return greeting\n",
    "\n",
    "    if not resp:\n",
    "        # If we didn't override the final sentence, try to construct a new one:\n",
    "        if not pronoun:\n",
    "            resp = random.choice(NONE_RESPONSES)\n",
    "        elif pronoun == '나' and who:\n",
    "            resp = random.choice(COMMENTS_ABOUT_SELF)\n",
    "        else:\n",
    "            resp = check_for_comment_about_bot(pronoun, noun)\n",
    "\n",
    "    # If we got through all that with nothing, use a random response\n",
    "    if not resp:\n",
    "        resp = random.choice(NONE_RESPONSES)\n",
    "\n",
    "    # Check that we're not going to say anything obviously offensive\n",
    "\n",
    "    return resp\n",
    "\n",
    "def check_for_comment_about_bot(pronoun, noun):\n",
    "    \"\"\"Check if the user's input was about the bot itself, in which case try to fashion a response\n",
    "    that feels right based on their input. Returns the new best sentence, or None.\"\"\"\n",
    "    resp = None\n",
    "    \n",
    "    SELF_VERBS_WITH_NOUN_LOWER = [\n",
    "        \"네, 저 그거 잘 알아요 {noun}\",\n",
    "        \"항상 저한테 {noun} 물어보더라구요\",\n",
    "        \"저도 {noun} 좋아해요\",\n",
    "        \"{noun}이 뭐죠?\",\n",
    "        \"아 {noun} 말씀이세요?\",\n",
    "        \"저는 {noun} 전문가입니다!\",\n",
    "    ]\n",
    "    if pronoun == '나' and noun:\n",
    "            resp = random.choice(SELF_VERBS_WITH_NOUN_LOWER).format(**{'noun': noun})\n",
    "\n",
    "    return resp\n",
    "\n",
    "    # Template for responses that include a direct noun which is indefinite/uncountable"
   ]
  },
  {
   "cell_type": "code",
   "execution_count": 14,
   "metadata": {
    "collapsed": false
   },
   "outputs": [
    {
     "name": "stdout",
     "output_type": "stream",
     "text": [
      "[(너, Noun),\n",
      " (는, Josa),\n",
      " (누구, Noun),\n",
      " (니, Josa),\n",
      " (?, Punctuation)]\n"
     ]
    }
   ],
   "source": [
    "pprint(parsed)"
   ]
  },
  {
   "cell_type": "code",
   "execution_count": 15,
   "metadata": {
    "collapsed": true
   },
   "outputs": [],
   "source": [
    "pronoun, noun, who = find_candidate_parts_of_speech(parsed)"
   ]
  },
  {
   "cell_type": "code",
   "execution_count": 16,
   "metadata": {
    "collapsed": false
   },
   "outputs": [
    {
     "name": "stdout",
     "output_type": "stream",
     "text": [
      "나\n",
      "누구\n"
     ]
    }
   ],
   "source": [
    "pprint(pronoun)\n",
    "pprint(who)"
   ]
  },
  {
   "cell_type": "code",
   "execution_count": null,
   "metadata": {
    "collapsed": true
   },
   "outputs": [],
   "source": []
  }
 ],
 "metadata": {
  "kernelspec": {
   "display_name": "Python 2",
   "language": "python",
   "name": "python2"
  },
  "language_info": {
   "codemirror_mode": {
    "name": "ipython",
    "version": 2
   },
   "file_extension": ".py",
   "mimetype": "text/x-python",
   "name": "python",
   "nbconvert_exporter": "python",
   "pygments_lexer": "ipython2",
   "version": "2.7.6"
  }
 },
 "nbformat": 4,
 "nbformat_minor": 0
}
