{
 "cells": [
  {
   "cell_type": "code",
   "execution_count": 42,
   "metadata": {
    "collapsed": false
   },
   "outputs": [],
   "source": [
    "import selenium"
   ]
  },
  {
   "cell_type": "code",
   "execution_count": 1,
   "metadata": {
    "collapsed": true
   },
   "outputs": [],
   "source": [
    "import csv\n",
    "import pickle\n",
    "from konlpy.tag import Mecab"
   ]
  },
  {
   "cell_type": "code",
   "execution_count": 2,
   "metadata": {
    "collapsed": true
   },
   "outputs": [],
   "source": [
    "m = Mecab()"
   ]
  },
  {
   "cell_type": "code",
   "execution_count": 3,
   "metadata": {
    "collapsed": false
   },
   "outputs": [
    {
     "data": {
      "text/plain": [
       "[('내일', 'NNG'),\n",
       " ('LA', 'SL'),\n",
       " ('로', 'JKB'),\n",
       " ('떠나', 'VV'),\n",
       " ('는', 'ETM'),\n",
       " ('왕복', 'NNG'),\n",
       " ('항공', 'NNG'),\n",
       " ('권', 'XSN'),\n",
       " ('좀', 'MAG')]"
      ]
     },
     "execution_count": 3,
     "metadata": {},
     "output_type": "execute_result"
    }
   ],
   "source": [
    "m.pos(\"내일 LA로 떠나는 왕복 항공권 좀\")"
   ]
  },
  {
   "cell_type": "code",
   "execution_count": 3,
   "metadata": {
    "collapsed": true
   },
   "outputs": [],
   "source": [
    "raws=[]"
   ]
  },
  {
   "cell_type": "code",
   "execution_count": 4,
   "metadata": {
    "collapsed": false
   },
   "outputs": [],
   "source": [
    "f = open('data/raw_data.txt','r',encoding='utf-8')\n",
    "raws = f.readlines()"
   ]
  },
  {
   "cell_type": "code",
   "execution_count": 5,
   "metadata": {
    "collapsed": false
   },
   "outputs": [],
   "source": [
    "raws = [r[:-1] for r in raws]"
   ]
  },
  {
   "cell_type": "code",
   "execution_count": 6,
   "metadata": {
    "collapsed": false
   },
   "outputs": [],
   "source": [
    "def pos_tagger(x):\n",
    "    return m.pos(x)"
   ]
  },
  {
   "cell_type": "markdown",
   "metadata": {},
   "source": [
    "# Mecab 사전 추가 "
   ]
  },
  {
   "cell_type": "code",
   "execution_count": 7,
   "metadata": {
    "collapsed": true
   },
   "outputs": [],
   "source": [
    "pos = [pos_tagger(r) for r in raws]"
   ]
  },
  {
   "cell_type": "markdown",
   "metadata": {},
   "source": [
    "# Hierarchical Intent Classifier"
   ]
  },
  {
   "cell_type": "markdown",
   "metadata": {},
   "source": [
    "1. 인사\n",
    "2. 꽃배달 (요청)\n",
    "3. 꽃배달 (가격 / 방법)\n",
    "4. 꽃배달 (종류 선택)\n",
    "5. 꽃배달 (장소, 받는 사람, 시간)\n"
   ]
  },
  {
   "cell_type": "markdown",
   "metadata": {},
   "source": [
    "# Entity 수작업"
   ]
  },
  {
   "cell_type": "markdown",
   "metadata": {},
   "source": [
    "- PER\n",
    "- ORG\n",
    "- LOC\n",
    "- PRD 꽃바구니/꽃다발/꽃상자/축하화환/근조화환\n",
    "- EVE(목적) 축하/기념일/개업/이전/승진/취임/결혼/행사/추모/근조/애인\n",
    "- INT(발화 의도) : 안녕, 주문, 배송, 결제, 확인, 감사\n",
    "- BILL 카드/계좌/결제 등..\n",
    "- O"
   ]
  },
  {
   "cell_type": "markdown",
   "metadata": {},
   "source": [
    "100개까지 "
   ]
  },
  {
   "cell_type": "code",
   "execution_count": 9,
   "metadata": {
    "collapsed": true
   },
   "outputs": [],
   "source": [
    "real=[]"
   ]
  },
  {
   "cell_type": "code",
   "execution_count": 50,
   "metadata": {
    "collapsed": true
   },
   "outputs": [],
   "source": [
    "real = open('data/tagging.p','rb')"
   ]
  },
  {
   "cell_type": "code",
   "execution_count": 10,
   "metadata": {
    "collapsed": false
   },
   "outputs": [
    {
     "data": {
      "text/plain": [
       "8240"
      ]
     },
     "execution_count": 10,
     "metadata": {},
     "output_type": "execute_result"
    }
   ],
   "source": [
    "len(raws)"
   ]
  },
  {
   "cell_type": "code",
   "execution_count": 580,
   "metadata": {
    "collapsed": false
   },
   "outputs": [
    {
     "data": {
      "text/plain": [
       "'네..이미지 볼 수 있나요?'"
      ]
     },
     "execution_count": 580,
     "metadata": {},
     "output_type": "execute_result"
    }
   ],
   "source": [
    "x = raws.pop(0)\n",
    "x"
   ]
  },
  {
   "cell_type": "code",
   "execution_count": 581,
   "metadata": {
    "collapsed": false
   },
   "outputs": [
    {
     "data": {
      "text/plain": [
       "[[0, '네', 'IC', 'O'],\n",
       " [1, '.', 'SF', 'O'],\n",
       " [2, '.', 'SY', 'O'],\n",
       " [3, '이미지', 'NNG', 'O'],\n",
       " [4, '볼', 'VV+ETM', 'O'],\n",
       " [5, '수', 'NNB', 'O'],\n",
       " [6, '있', 'VV', 'O'],\n",
       " [7, '나요', 'EF', 'O'],\n",
       " [8, '?', 'SF', 'O']]"
      ]
     },
     "execution_count": 581,
     "metadata": {},
     "output_type": "execute_result"
    }
   ],
   "source": [
    "x = m.pos(x)\n",
    "r_t = []\n",
    "i = 0\n",
    "for w,t in x:\n",
    "    temp = [i,w,t,'O']\n",
    "    r_t.append(temp)\n",
    "    i+=1\n",
    "r_t"
   ]
  },
  {
   "cell_type": "code",
   "execution_count": 582,
   "metadata": {
    "collapsed": false
   },
   "outputs": [
    {
     "data": {
      "text/plain": [
       "[[0, '네', 'IC', 'INT'],\n",
       " [1, '.', 'SF', 'O'],\n",
       " [2, '.', 'SY', 'O'],\n",
       " [3, '이미지', 'NNG', 'O'],\n",
       " [4, '볼', 'VV+ETM', 'O'],\n",
       " [5, '수', 'NNB', 'O'],\n",
       " [6, '있', 'VV', 'O'],\n",
       " [7, '나요', 'EF', 'O'],\n",
       " [8, '?', 'SF', 'O']]"
      ]
     },
     "execution_count": 582,
     "metadata": {},
     "output_type": "execute_result"
    }
   ],
   "source": [
    "r_t[0][3] = 'INT'\n",
    "r_t"
   ]
  },
  {
   "cell_type": "code",
   "execution_count": 583,
   "metadata": {
    "collapsed": false
   },
   "outputs": [
    {
     "data": {
      "text/plain": [
       "100"
      ]
     },
     "execution_count": 583,
     "metadata": {},
     "output_type": "execute_result"
    }
   ],
   "source": [
    "rr = []\n",
    "for i,w,t,n in r_t:\n",
    "    temp = (w,t,n)\n",
    "    rr.append(temp)\n",
    "real.append(rr)\n",
    "pickle.dump(real,open('data/flower_label.p','wb'))\n",
    "len(real)"
   ]
  },
  {
   "cell_type": "code",
   "execution_count": null,
   "metadata": {
    "collapsed": true
   },
   "outputs": [],
   "source": []
  }
 ],
 "metadata": {
  "kernelspec": {
   "display_name": "Python 3",
   "language": "python",
   "name": "python3"
  },
  "language_info": {
   "codemirror_mode": {
    "name": "ipython",
    "version": 3
   },
   "file_extension": ".py",
   "mimetype": "text/x-python",
   "name": "python",
   "nbconvert_exporter": "python",
   "pygments_lexer": "ipython3",
   "version": "3.4.3"
  }
 },
 "nbformat": 4,
 "nbformat_minor": 0
}
