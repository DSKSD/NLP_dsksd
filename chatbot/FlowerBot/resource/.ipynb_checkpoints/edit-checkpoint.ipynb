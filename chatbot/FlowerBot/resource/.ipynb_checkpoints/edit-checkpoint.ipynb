{
 "cells": [
  {
   "cell_type": "code",
   "execution_count": 2,
   "metadata": {
    "collapsed": false
   },
   "outputs": [],
   "source": [
    "from konlpy.tag import Mecab;m=Mecab()"
   ]
  },
  {
   "cell_type": "code",
   "execution_count": 76,
   "metadata": {
    "collapsed": false
   },
   "outputs": [],
   "source": [
    "f = open(\"UsrResponses.txt\", encoding='utf-8')"
   ]
  },
  {
   "cell_type": "code",
   "execution_count": 77,
   "metadata": {
    "collapsed": true
   },
   "outputs": [],
   "source": [
    "user = f.readlines()"
   ]
  },
  {
   "cell_type": "code",
   "execution_count": 124,
   "metadata": {
    "collapsed": false
   },
   "outputs": [],
   "source": [
    "sys = user[-18:]"
   ]
  },
  {
   "cell_type": "code",
   "execution_count": 125,
   "metadata": {
    "collapsed": false
   },
   "outputs": [
    {
     "data": {
      "text/plain": [
       "'Confirm(no):\"아니오\"|\"아뇨\"|\"없어요|없습니다\"'"
      ]
     },
     "execution_count": 125,
     "metadata": {},
     "output_type": "execute_result"
    }
   ],
   "source": [
    "sys[-1]"
   ]
  },
  {
   "cell_type": "code",
   "execution_count": 93,
   "metadata": {
    "collapsed": false
   },
   "outputs": [
    {
     "data": {
      "text/plain": [
       "['\"$flower 요\"',\n",
       " '\"$flower 있나요\"',\n",
       " '\"$flower 찾고 있어요\"',\n",
       " '\"$flower 꽃이요\"',\n",
       " '\"$flower\"\\n']"
      ]
     },
     "execution_count": 93,
     "metadata": {},
     "output_type": "execute_result"
    }
   ],
   "source": [
    "sys[0].split(':')[1].split('|')"
   ]
  },
  {
   "cell_type": "code",
   "execution_count": 126,
   "metadata": {
    "collapsed": true
   },
   "outputs": [],
   "source": [
    "new=[]"
   ]
  },
  {
   "cell_type": "code",
   "execution_count": 98,
   "metadata": {
    "collapsed": false
   },
   "outputs": [],
   "source": [
    "test = m.pos(sys[0].split(':')[1][1:-2])"
   ]
  },
  {
   "cell_type": "code",
   "execution_count": 127,
   "metadata": {
    "collapsed": true
   },
   "outputs": [],
   "source": [
    "for s in sys:\n",
    "    if s != '\\n':\n",
    "        num_sen = s.split(':')[1].split('|')\n",
    "        these=[]\n",
    "        for n in range(len(num_sen)):\n",
    "            if n == len(num_sen)-1:\n",
    "                test = num_sen[n][1:-2]\n",
    "            else:\n",
    "                test  = num_sen[n][1:-1]\n",
    "            \n",
    "            test = m.pos(test)\n",
    "            recover = [w for w,t in test]\n",
    "            recover = ' '.join(recover)\n",
    "\n",
    "            if '$' in recover:\n",
    "                temp = recover.split('$')\n",
    "                for t in range(len(temp)):\n",
    "                    if temp[t] != '':\n",
    "                        temp[t] = '$' + temp[t].lstrip()\n",
    "\n",
    "       \n",
    "                recover = ''.join(temp)\n",
    "                recover = '\"' + recover + '\"'\n",
    "                these.append(recover)\n",
    "        recover = '|'.join(these)    \n",
    "        new.append(s.split(':')[0] + ':' + recover)\n",
    "    else:\n",
    "        new.append(s)"
   ]
  },
  {
   "cell_type": "code",
   "execution_count": 128,
   "metadata": {
    "collapsed": false
   },
   "outputs": [
    {
     "data": {
      "text/plain": [
       "['Provide(flower=$flower):\"$flower 요\"|\"$flower 있 나요\"|\"$flower 찾 고 있 어요\"|\"$flower 꽃 이 요\"|\"$flower\"',\n",
       " 'Provide(price=$price):\"$price 의 꽃 이 요\"|\"$price 요\"|\"$price\"',\n",
       " 'Provide(pack=$pack):\"$pack 하 고 싶 어요\"|\"$pack 할게요\"',\n",
       " 'Provide(take=$take):\"$take 하 고 싶 어요\"|\"$take 할게요\"',\n",
       " 'Provide(flower=$flower,price=$price):\"$price 의 $flower 찾 고 있 어요\"|\"$price 의 $flower 있 나요\"|\"$price 의 $flower 요\"',\n",
       " 'Provide(flower=$flower,pack=$pack):\"$flower 로 $pack 하 고 싶 어요\"|\"$flower $pack 할게요\"|\"$flower $pack 이 요\"',\n",
       " 'Provide(flower=$flower,take=$take):\"$flower 로 $take 하 고 싶 어요\"|\"$flower $take 할게요\"|\"$flower $take 요\"',\n",
       " 'Provide(price=$price,pack=$pack):\"$price 의 꽃 으로 $pack 하 고 싶 어요\"|\"$price 의 꽃 으로 $pack 할게요\"|\"$price 의 꽃 으로 $pack 이 요\"',\n",
       " 'Provide(price=$price,take=$take):\"$price 의 꽃 으로 $take 하 고 싶 어요\"|\"$price 의 꽃 으로 $take 할게요\"|\"$price 의 꽃 으로 $take 요\"',\n",
       " 'Provide(pack=$pack,take=$take):\"$pack 해서 $take 하 고 싶 어요\"|\"$pack 해서 $take 할게요\"|\"$pack 해서 $take 요\"',\n",
       " 'Provide(flower=$flower,price=$price,pack=$pack):\"$price 의 $flower 로 $pack 하 고 싶 어요\"|\"$price 의 $flower 로 $pack 할게요\"|\"$price 의 $flower 로 $pack 할게요\"|\"$price 의 $flower 로 $pack 하 길 원합니다\"|\"$price 의 $flower 로 $pack 이 요\"',\n",
       " 'Provide(flower=$flower,price=$price,take=$take):\"$price 의 $flower 로 $take 하 고 싶 어요\"|\"$price 의 $flower 로 $take 할게요\"|\"$price 의 $flower 로 $take 할게요\"|\"$price 의 $flower 로 $take 하 길 원합니다\"|\"$price 의 $flower 로 $take 요\"',\n",
       " 'Provide(flower=$flower,pack=$pack,take=$take):\"$flower 로 $pack 해서 $take 하 고 싶 어요\"|\"$flower 로 $pack 해서 $take 할게요\"|\"$flower 로 $pack 해서 $take 할게요\"|\"$flower 로 $pack 해서 $take 하 길 원합니다\"|\"$flower 로 $pack 해서 $take 요\"',\n",
       " 'Provide(price=$price,pack=$pack,take=$take):\"$price 의 꽃 으로 $pack 해서 $take 하 고 싶 어요\"|\"$price 의 꽃 으로 $pack 해서 $take 할게요\"|\"$price 의 꽃 으로 $pack 해서 $take 할게요\"|\"$price 의 꽃 으로 $pack 해서 $take 하 길 원합니다\"|\"$price 의 꽃 으로 $pack 해서 $take 요\"',\n",
       " 'Provide(flower=$flower,price=$price,pack=$pack,take=$take):\"$price 의 $flower 으로 $pack 해서 $take 하 고 싶 어요\"|\"$price 의 $flower 으로 $pack 해서 $take 할게요\"|\"$price 의 $flower 으로 $pack 해서 $take 할게요\"|\"$price 의 $flower 으로 $pack 해서 $take 하 길 원합니다\"|\"$price 의 $flower 으로 $pack 해서 $take 요\"',\n",
       " 'Confirm(more=$more):',\n",
       " 'Confirm(yes):',\n",
       " 'Confirm(no):']"
      ]
     },
     "execution_count": 128,
     "metadata": {},
     "output_type": "execute_result"
    }
   ],
   "source": [
    "new"
   ]
  },
  {
   "cell_type": "code",
   "execution_count": null,
   "metadata": {
    "collapsed": true
   },
   "outputs": [],
   "source": [
    "\"아니오\"\n",
    "Confirm(yes):\"네\"|\"네 그렇게 할게요\"|\"네 맞아요\"\n",
    "Confirm(no):\"아니오\"|\"아뇨\"|\"없어요|없습니다\""
   ]
  },
  {
   "cell_type": "code",
   "execution_count": 116,
   "metadata": {
    "collapsed": false
   },
   "outputs": [
    {
     "data": {
      "text/plain": [
       "[('없', 'VA'), ('습니다', 'EF')]"
      ]
     },
     "execution_count": 116,
     "metadata": {},
     "output_type": "execute_result"
    }
   ],
   "source": [
    "m.pos('없습니다')"
   ]
  },
  {
   "cell_type": "code",
   "execution_count": 137,
   "metadata": {
    "collapsed": false
   },
   "outputs": [],
   "source": [
    "new[-3] =  'Confirm(more=$more):\"아 니오\"'"
   ]
  },
  {
   "cell_type": "code",
   "execution_count": 146,
   "metadata": {
    "collapsed": true
   },
   "outputs": [],
   "source": [
    "old = user[:-18]"
   ]
  },
  {
   "cell_type": "code",
   "execution_count": 147,
   "metadata": {
    "collapsed": true
   },
   "outputs": [],
   "source": [
    "old = [i[:-1] for i in old]"
   ]
  },
  {
   "cell_type": "code",
   "execution_count": 149,
   "metadata": {
    "collapsed": false
   },
   "outputs": [],
   "source": [
    "real = old + new"
   ]
  },
  {
   "cell_type": "code",
   "execution_count": 151,
   "metadata": {
    "collapsed": false
   },
   "outputs": [
    {
     "data": {
      "text/plain": [
       "[('2', 'SN'),\n",
       " ('만', 'NR'),\n",
       " ('대', 'NNBC'),\n",
       " ('장미', 'NNG'),\n",
       " ('꽃', 'NNG'),\n",
       " ('바구니', 'NNG'),\n",
       " ('포장', 'NNG'),\n",
       " ('할', 'VV+ETM'),\n",
       " ('수', 'NNB'),\n",
       " ('있', 'VV'),\n",
       " ('나요', 'EF'),\n",
       " ('?', 'SF')]"
      ]
     },
     "execution_count": 151,
     "metadata": {},
     "output_type": "execute_result"
    }
   ],
   "source": [
    "m.pos('2만대 장미 꽃 바구니포장 할 수 있나요?')"
   ]
  },
  {
   "cell_type": "code",
   "execution_count": 139,
   "metadata": {
    "collapsed": false
   },
   "outputs": [
    {
     "data": {
      "text/plain": [
       "['Provide(flower=$flower):\"$flower 요\"|\"$flower 있 나요\"|\"$flower 찾 고 있 어요\"|\"$flower 꽃 이 요\"|\"$flower\"',\n",
       " 'Provide(price=$price):\"$price 의 꽃 이 요\"|\"$price 요\"|\"$price\"',\n",
       " 'Provide(pack=$pack):\"$pack 하 고 싶 어요\"|\"$pack 할게요\"',\n",
       " 'Provide(take=$take):\"$take 하 고 싶 어요\"|\"$take 할게요\"',\n",
       " 'Provide(flower=$flower,price=$price):\"$price 의 $flower 찾 고 있 어요\"|\"$price 의 $flower 있 나요\"|\"$price 의 $flower 요\"',\n",
       " 'Provide(flower=$flower,pack=$pack):\"$flower 로 $pack 하 고 싶 어요\"|\"$flower $pack 할게요\"|\"$flower $pack 이 요\"',\n",
       " 'Provide(flower=$flower,take=$take):\"$flower 로 $take 하 고 싶 어요\"|\"$flower $take 할게요\"|\"$flower $take 요\"',\n",
       " 'Provide(price=$price,pack=$pack):\"$price 의 꽃 으로 $pack 하 고 싶 어요\"|\"$price 의 꽃 으로 $pack 할게요\"|\"$price 의 꽃 으로 $pack 이 요\"',\n",
       " 'Provide(price=$price,take=$take):\"$price 의 꽃 으로 $take 하 고 싶 어요\"|\"$price 의 꽃 으로 $take 할게요\"|\"$price 의 꽃 으로 $take 요\"',\n",
       " 'Provide(pack=$pack,take=$take):\"$pack 해서 $take 하 고 싶 어요\"|\"$pack 해서 $take 할게요\"|\"$pack 해서 $take 요\"',\n",
       " 'Provide(flower=$flower,price=$price,pack=$pack):\"$price 의 $flower 로 $pack 하 고 싶 어요\"|\"$price 의 $flower 로 $pack 할게요\"|\"$price 의 $flower 로 $pack 할게요\"|\"$price 의 $flower 로 $pack 하 길 원합니다\"|\"$price 의 $flower 로 $pack 이 요\"',\n",
       " 'Provide(flower=$flower,price=$price,take=$take):\"$price 의 $flower 로 $take 하 고 싶 어요\"|\"$price 의 $flower 로 $take 할게요\"|\"$price 의 $flower 로 $take 할게요\"|\"$price 의 $flower 로 $take 하 길 원합니다\"|\"$price 의 $flower 로 $take 요\"',\n",
       " 'Provide(flower=$flower,pack=$pack,take=$take):\"$flower 로 $pack 해서 $take 하 고 싶 어요\"|\"$flower 로 $pack 해서 $take 할게요\"|\"$flower 로 $pack 해서 $take 할게요\"|\"$flower 로 $pack 해서 $take 하 길 원합니다\"|\"$flower 로 $pack 해서 $take 요\"',\n",
       " 'Provide(price=$price,pack=$pack,take=$take):\"$price 의 꽃 으로 $pack 해서 $take 하 고 싶 어요\"|\"$price 의 꽃 으로 $pack 해서 $take 할게요\"|\"$price 의 꽃 으로 $pack 해서 $take 할게요\"|\"$price 의 꽃 으로 $pack 해서 $take 하 길 원합니다\"|\"$price 의 꽃 으로 $pack 해서 $take 요\"',\n",
       " 'Provide(flower=$flower,price=$price,pack=$pack,take=$take):\"$price 의 $flower 으로 $pack 해서 $take 하 고 싶 어요\"|\"$price 의 $flower 으로 $pack 해서 $take 할게요\"|\"$price 의 $flower 으로 $pack 해서 $take 할게요\"|\"$price 의 $flower 으로 $pack 해서 $take 하 길 원합니다\"|\"$price 의 $flower 으로 $pack 해서 $take 요\"',\n",
       " 'Confirm(more=$more):\"아 니오\"',\n",
       " 'Confirm(yes):\"네\"|\"네 그렇게 할게요\"|\"네 맞 아요\"',\n",
       " 'Confirm(no):\"아 니오\"|\"아뇨\"|\"없 어요\"|\"없 습니다\"']"
      ]
     },
     "execution_count": 139,
     "metadata": {},
     "output_type": "execute_result"
    }
   ],
   "source": [
    "new"
   ]
  },
  {
   "cell_type": "code",
   "execution_count": 138,
   "metadata": {
    "collapsed": false
   },
   "outputs": [
    {
     "data": {
      "text/plain": [
       "'Confirm(more=$more):\"아 니오\"'"
      ]
     },
     "execution_count": 138,
     "metadata": {},
     "output_type": "execute_result"
    }
   ],
   "source": [
    "new[-3]"
   ]
  },
  {
   "cell_type": "code",
   "execution_count": 121,
   "metadata": {
    "collapsed": false
   },
   "outputs": [],
   "source": [
    "new[--1] ='Confirm(no):\"아니 오\"|\"아뇨\"|\"없 어요\"|\"없 습니다\"'"
   ]
  },
  {
   "cell_type": "code",
   "execution_count": 20,
   "metadata": {
    "collapsed": false
   },
   "outputs": [],
   "source": [
    "recover = [w for w,t in test]\n",
    "recover = ' '.join(recover)"
   ]
  },
  {
   "cell_type": "code",
   "execution_count": 23,
   "metadata": {
    "collapsed": false
   },
   "outputs": [
    {
     "data": {
      "text/plain": [
       "'안녕 하 세요 !'"
      ]
     },
     "execution_count": 23,
     "metadata": {},
     "output_type": "execute_result"
    }
   ],
   "source": [
    "recover"
   ]
  },
  {
   "cell_type": "code",
   "execution_count": 24,
   "metadata": {
    "collapsed": false
   },
   "outputs": [],
   "source": [
    "test = sys[0].split(':')[0] + ':\"' + recover + '\"'"
   ]
  },
  {
   "cell_type": "code",
   "execution_count": 59,
   "metadata": {
    "collapsed": false
   },
   "outputs": [
    {
     "data": {
      "text/plain": [
       "['\"', ' flower 맞 나요 ?\"']"
      ]
     },
     "execution_count": 59,
     "metadata": {},
     "output_type": "execute_result"
    }
   ],
   "source": [
    "'\"$ flower 맞 나요 ?\"'.split('$')"
   ]
  },
  {
   "cell_type": "code",
   "execution_count": 71,
   "metadata": {
    "collapsed": true
   },
   "outputs": [],
   "source": [
    "new = []"
   ]
  },
  {
   "cell_type": "code",
   "execution_count": 72,
   "metadata": {
    "collapsed": false
   },
   "outputs": [],
   "source": [
    "for s in sys:\n",
    "    if s != '\\n':\n",
    "        test = m.pos(s.split(':')[1][1:-2])\n",
    "        recover = [w for w,t in test]\n",
    "        recover = ' '.join(recover)\n",
    "        \n",
    "        if '$' in recover:\n",
    "            temp = recover.split('$')\n",
    "            for t in range(len(temp)):\n",
    "                if temp[t] != '':\n",
    "                    temp[t] = '$' + temp[t].lstrip()\n",
    "            \n",
    "            recover = ''.join(temp)\n",
    "            \n",
    "        new.append(s.split(':')[0] + ':\"' + recover + '\"')\n",
    "    else:\n",
    "        new.append(s)"
   ]
  },
  {
   "cell_type": "code",
   "execution_count": 150,
   "metadata": {
    "collapsed": false
   },
   "outputs": [],
   "source": [
    "with open(\"UsrResponses.txt\",'w', encoding='utf-8') as f:\n",
    "    for r in real:\n",
    "        f.write(r + '\\n')"
   ]
  },
  {
   "cell_type": "code",
   "execution_count": 145,
   "metadata": {
    "collapsed": false
   },
   "outputs": [
    {
     "data": {
      "text/plain": [
       "['AskFor(more):Confirm(more=$more)\\n',\n",
       " 'Request(hmihy):Provide(flower=$flower,price=$price,take=$take)|Provide(flower=$flower,price=$price)|Provide(price=$price,pack=$pack)|Provide(price=$price,take=$take)\\n',\n",
       " 'Request(flower):Provide(flower=$flower)\\n',\n",
       " 'Request(price):Provide(price=$price)\\n',\n",
       " 'Request(pack):Provide(pack=$pack)\\n',\n",
       " 'Request(take):Provide(take=$take)\\n',\n",
       " 'Request(flower,price):Provide(flower=$flower,price=$price)|Provide(flower=$flower)|Provide(price=$price)\\n',\n",
       " 'Request(flower,pack):Provide(flower=$flower,pack=$pack)|Provide(flower=$flower)|Provide(pack=$pack)\\n',\n",
       " 'Request(flower,take):Provide(flower=$flower,take=$take)|Provide(flower=$flower)|Provide(take=$take)\\n',\n",
       " 'Request(price,pack):Provide(price=$price,pack=$pack)|Provide(price=$price)|Provide(pack=$pack)\\n',\n",
       " 'Request(price,take):Provide(price=$price,take=$take)|Provide(price=$price)|Provide(take=$take)\\n',\n",
       " 'Request(pack,take):Provide(pack=$pack,take=$take)|Provide(pack=$pack)|Provide(take=$take)\\n',\n",
       " 'Request(flower,price,pack):Provide(flower=$flower,price=$price,pack=$pack)|Provide(flower=$flower,price=$price)|Provide(flower=$flower,pack=$pack)||Provide(flower=$flower,pack=$pack)\\n',\n",
       " 'Request(flower,price,take):Provide(flower=$flower,price=$price,take=$take)|Provide(flower=$flower,price=$price)|Provide(flower=$flower,take=$take)|Provide(price=$price,take=$take)\\n',\n",
       " 'Request(flower,pack,take):Provide(flower=$flower,pack=$pack,take=$take)|Provide(flower=$flower,pack=$pack)|Provide(flower=$flower,take=$take)|Provide(price=$price,take=$take)\\n',\n",
       " 'Request(price,pack,take):Provide(price=$price,pack=$pack,take=$take)|Provide(price=$price,pack=$pack)|Provide(price=$price,take=$take)|Provide(pack=$pack,take=$take)\\n',\n",
       " 'Request(flower,price,pack,take):Provide(price=$price,pack=$pack,take=$take)\\n',\n",
       " 'Apology(flower):Provide(flower=$flower)\\n',\n",
       " 'Apology(price):Provide(price=$price)\\n',\n",
       " 'Apology(pack):Provide(pack=$pack)\\n',\n",
       " 'Apology(take):Provide(take=$take)\\n',\n",
       " 'Apology(flower,price):Provide(flower=$flower,price=$price)|Provide(flower=$flower)|Provide(price=$price)\\n',\n",
       " 'Apology(flower,pack):Provide(flower=$flower,pack=$pack)|Provide(flower=$flower)|Provide(pack=$pack)\\n',\n",
       " 'Apology(flower,take):Provide(flower=$flower,take=$take)|Provide(flower=$flower)|Provide(take=$take)\\n',\n",
       " 'Apology(price,pack):Provide(price=$price,pack=$pack)|Provide(price=$price)|Provide(pack=$pack)\\n',\n",
       " 'Apology(price,take):Provide(price=$price,take=$take)|Provide(price=$price)|Provide(take=$take)\\n',\n",
       " 'Apology(pack,take):Provide(pack=$pack,take=$take)|Provide(pack=$pack)|Provide(take=$take)\\n',\n",
       " 'Apology(flower,price,pack):Provide(flower=$flower,price=$price,pack=$pack)|Provide(flower=$flower,price=$price)|Provide(flower=$flower,pack=$pack)||Provide(flower=$flower,pack=$pack)\\n',\n",
       " 'Apology(flower,price,take):Provide(flower=$flower,price=$price,take=$take)|Provide(flower=$flower,price=$price)|Provide(flower=$flower,take=$take)|Provide(price=$price,take=$take)\\n',\n",
       " 'Apology(flower,pack,take):Provide(flower=$flower,pack=$pack,take=$take)|Provide(flower=$flower,pack=$pack)|Provide(flower=$flower,take=$take)|Provide(price=$price,take=$take)\\n',\n",
       " 'Apology(price,pack,take):Provide(price=$price,pack=$pack,take=$take)|Provide(price=$price,pack=$pack)|Provide(price=$price,take=$take)|Provide(pack=$pack,take=$take)\\n',\n",
       " 'Apology(flower,price,pack,take):Provide(price=$price,pack=$pack,take=$take)\\n',\n",
       " 'ExpConfirm(flower=$flower):Confirm($yesno)\\n',\n",
       " 'ExpConfirm(price=$price):Confirm($yesno)\\n',\n",
       " 'ExpConfirm(pack=$pack):Confirm($yesno)\\n',\n",
       " 'ExpConfirm(take=$take):Confirm($yesno)\\n',\n",
       " 'ExpConfirm(flower=$flower,price=$price):Confirm($yesno)\\n',\n",
       " 'ExpConfirm(flower=$flower,pack=$pack):Confirm($yesno)\\n',\n",
       " 'ExpConfirm(flower=$flower,take=$take):Confirm($yesno)\\n',\n",
       " 'ExpConfirm(price=$price,pack=$pack):Confirm($yesno)\\n',\n",
       " 'ExpConfirm(price=$price,take=$take):Confirm($yesno)\\n',\n",
       " 'ExpConfirm(pack=$pack,take=$take):Confirm($yesno)\\n',\n",
       " 'ExpConfirm(flower=$flower,price=$price,pack=$pack):Confirm($yesno)\\n',\n",
       " 'ExpConfirm(flower=$flower,price=$price,take=$take):Confirm($yesno)\\n',\n",
       " 'ExpConfirm(flower=$flower,pack=$pack,take=$take):Confirm($yesno)\\n',\n",
       " 'ExpConfirm(price=$price,pack=$pack,take=$take):Confirm($yesno)\\n',\n",
       " 'ExpConfirm(flower=$flower,price=$price,pack=$pack,take=$take):Confirm($yesno)\\n',\n",
       " '\\n',\n",
       " '\\n',\n",
       " 'Provide(flower=$flower):\"$flower 요\"|\"$flower 있 나요\"|\"$flower 찾 고 있 어요\"|\"$flower 꽃 이 요\"|\"$flower\"',\n",
       " 'Provide(price=$price):\"$price 의 꽃 이 요\"|\"$price 요\"|\"$price\"',\n",
       " 'Provide(pack=$pack):\"$pack 하 고 싶 어요\"|\"$pack 할게요\"',\n",
       " 'Provide(take=$take):\"$take 하 고 싶 어요\"|\"$take 할게요\"',\n",
       " 'Provide(flower=$flower,price=$price):\"$price 의 $flower 찾 고 있 어요\"|\"$price 의 $flower 있 나요\"|\"$price 의 $flower 요\"',\n",
       " 'Provide(flower=$flower,pack=$pack):\"$flower 로 $pack 하 고 싶 어요\"|\"$flower $pack 할게요\"|\"$flower $pack 이 요\"',\n",
       " 'Provide(flower=$flower,take=$take):\"$flower 로 $take 하 고 싶 어요\"|\"$flower $take 할게요\"|\"$flower $take 요\"',\n",
       " 'Provide(price=$price,pack=$pack):\"$price 의 꽃 으로 $pack 하 고 싶 어요\"|\"$price 의 꽃 으로 $pack 할게요\"|\"$price 의 꽃 으로 $pack 이 요\"',\n",
       " 'Provide(price=$price,take=$take):\"$price 의 꽃 으로 $take 하 고 싶 어요\"|\"$price 의 꽃 으로 $take 할게요\"|\"$price 의 꽃 으로 $take 요\"',\n",
       " 'Provide(pack=$pack,take=$take):\"$pack 해서 $take 하 고 싶 어요\"|\"$pack 해서 $take 할게요\"|\"$pack 해서 $take 요\"',\n",
       " 'Provide(flower=$flower,price=$price,pack=$pack):\"$price 의 $flower 로 $pack 하 고 싶 어요\"|\"$price 의 $flower 로 $pack 할게요\"|\"$price 의 $flower 로 $pack 할게요\"|\"$price 의 $flower 로 $pack 하 길 원합니다\"|\"$price 의 $flower 로 $pack 이 요\"',\n",
       " 'Provide(flower=$flower,price=$price,take=$take):\"$price 의 $flower 로 $take 하 고 싶 어요\"|\"$price 의 $flower 로 $take 할게요\"|\"$price 의 $flower 로 $take 할게요\"|\"$price 의 $flower 로 $take 하 길 원합니다\"|\"$price 의 $flower 로 $take 요\"',\n",
       " 'Provide(flower=$flower,pack=$pack,take=$take):\"$flower 로 $pack 해서 $take 하 고 싶 어요\"|\"$flower 로 $pack 해서 $take 할게요\"|\"$flower 로 $pack 해서 $take 할게요\"|\"$flower 로 $pack 해서 $take 하 길 원합니다\"|\"$flower 로 $pack 해서 $take 요\"',\n",
       " 'Provide(price=$price,pack=$pack,take=$take):\"$price 의 꽃 으로 $pack 해서 $take 하 고 싶 어요\"|\"$price 의 꽃 으로 $pack 해서 $take 할게요\"|\"$price 의 꽃 으로 $pack 해서 $take 할게요\"|\"$price 의 꽃 으로 $pack 해서 $take 하 길 원합니다\"|\"$price 의 꽃 으로 $pack 해서 $take 요\"',\n",
       " 'Provide(flower=$flower,price=$price,pack=$pack,take=$take):\"$price 의 $flower 으로 $pack 해서 $take 하 고 싶 어요\"|\"$price 의 $flower 으로 $pack 해서 $take 할게요\"|\"$price 의 $flower 으로 $pack 해서 $take 할게요\"|\"$price 의 $flower 으로 $pack 해서 $take 하 길 원합니다\"|\"$price 의 $flower 으로 $pack 해서 $take 요\"',\n",
       " 'Confirm(more=$more):\"아 니오\"',\n",
       " 'Confirm(yes):\"네\"|\"네 그렇게 할게요\"|\"네 맞 아요\"',\n",
       " 'Confirm(no):\"아 니오\"|\"아뇨\"|\"없 어요\"|\"없 습니다\"']"
      ]
     },
     "execution_count": 145,
     "metadata": {},
     "output_type": "execute_result"
    }
   ],
   "source": [
    "real"
   ]
  },
  {
   "cell_type": "code",
   "execution_count": null,
   "metadata": {
    "collapsed": true
   },
   "outputs": [],
   "source": []
  }
 ],
 "metadata": {
  "kernelspec": {
   "display_name": "Python 3",
   "language": "python",
   "name": "python3"
  },
  "language_info": {
   "codemirror_mode": {
    "name": "ipython",
    "version": 3
   },
   "file_extension": ".py",
   "mimetype": "text/x-python",
   "name": "python",
   "nbconvert_exporter": "python",
   "pygments_lexer": "ipython3",
   "version": "3.4.3"
  }
 },
 "nbformat": 4,
 "nbformat_minor": 0
}
