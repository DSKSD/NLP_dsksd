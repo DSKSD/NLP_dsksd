{
 "cells": [
  {
   "cell_type": "code",
   "execution_count": 1,
   "metadata": {
    "collapsed": false
   },
   "outputs": [],
   "source": [
    "from gensim import corpora, models\n",
    "import gensim"
   ]
  },
  {
   "cell_type": "code",
   "execution_count": 2,
   "metadata": {
    "collapsed": true
   },
   "outputs": [],
   "source": [
    "import csv"
   ]
  },
  {
   "cell_type": "code",
   "execution_count": 3,
   "metadata": {
    "collapsed": true
   },
   "outputs": [],
   "source": [
    "from konlpy.tag import Twitter"
   ]
  },
  {
   "cell_type": "code",
   "execution_count": 4,
   "metadata": {
    "collapsed": true
   },
   "outputs": [],
   "source": [
    "m = Twitter()"
   ]
  },
  {
   "cell_type": "code",
   "execution_count": 5,
   "metadata": {
    "collapsed": false
   },
   "outputs": [],
   "source": [
    "lines=[]"
   ]
  },
  {
   "cell_type": "code",
   "execution_count": 10,
   "metadata": {
    "collapsed": false
   },
   "outputs": [],
   "source": [
    "with open('data/flower.csv', 'r', encoding=\"utf-8\") as csvfile: \n",
    "    reader = csv.reader(csvfile, delimiter=',')\n",
    "    for row in reader:\n",
    "        lines.append(row)"
   ]
  },
  {
   "cell_type": "code",
   "execution_count": 19,
   "metadata": {
    "collapsed": false
   },
   "outputs": [],
   "source": [
    "raws = [l[2] for l in lines]"
   ]
  },
  {
   "cell_type": "code",
   "execution_count": 22,
   "metadata": {
    "collapsed": false
   },
   "outputs": [
    {
     "data": {
      "text/plain": [
       "'확인 후 말씀드릴께요~ 조금만 기다려주세요 ^^ '"
      ]
     },
     "execution_count": 22,
     "metadata": {},
     "output_type": "execute_result"
    }
   ],
   "source": [
    "raws[3]"
   ]
  },
  {
   "cell_type": "code",
   "execution_count": 21,
   "metadata": {
    "collapsed": true
   },
   "outputs": [],
   "source": [
    "raws = [r.strip()[1:-1] for r in raws]"
   ]
  },
  {
   "cell_type": "code",
   "execution_count": 23,
   "metadata": {
    "collapsed": true
   },
   "outputs": [],
   "source": [
    "def pos_tagger(x):\n",
    "    return m.nouns(x)"
   ]
  },
  {
   "cell_type": "code",
   "execution_count": 24,
   "metadata": {
    "collapsed": false
   },
   "outputs": [],
   "source": [
    "pos = [pos_tagger(r) for r in raws]"
   ]
  },
  {
   "cell_type": "code",
   "execution_count": 25,
   "metadata": {
    "collapsed": false
   },
   "outputs": [],
   "source": [
    "pos = [[word for word in sent if len(word)>1] for sent in pos]"
   ]
  },
  {
   "cell_type": "code",
   "execution_count": 26,
   "metadata": {
    "collapsed": false
   },
   "outputs": [
    {
     "data": {
      "text/plain": [
       "['화분', '가요']"
      ]
     },
     "execution_count": 26,
     "metadata": {},
     "output_type": "execute_result"
    }
   ],
   "source": [
    "pos[4]"
   ]
  },
  {
   "cell_type": "code",
   "execution_count": 27,
   "metadata": {
    "collapsed": false
   },
   "outputs": [],
   "source": [
    "dictionary = corpora.Dictionary(pos)"
   ]
  },
  {
   "cell_type": "code",
   "execution_count": 29,
   "metadata": {
    "collapsed": false
   },
   "outputs": [
    {
     "data": {
      "text/plain": [
       "'가요'"
      ]
     },
     "execution_count": 29,
     "metadata": {},
     "output_type": "execute_result"
    }
   ],
   "source": [
    "dictionary[5]"
   ]
  },
  {
   "cell_type": "code",
   "execution_count": 30,
   "metadata": {
    "collapsed": true
   },
   "outputs": [],
   "source": [
    "corpus = [dictionary.doc2bow(po) for po in pos]"
   ]
  },
  {
   "cell_type": "code",
   "execution_count": 31,
   "metadata": {
    "collapsed": true
   },
   "outputs": [],
   "source": [
    "ldamodel = gensim.models.ldamodel.LdaModel(corpus, num_topics=10, id2word = dictionary, passes=20)"
   ]
  },
  {
   "cell_type": "code",
   "execution_count": 32,
   "metadata": {
    "collapsed": false
   },
   "outputs": [],
   "source": [
    "x = ldamodel.print_topics()"
   ]
  },
  {
   "cell_type": "code",
   "execution_count": 33,
   "metadata": {
    "collapsed": false
   },
   "outputs": [],
   "source": [
    "x = sorted(x, key=lambda x:x[0])"
   ]
  },
  {
   "cell_type": "code",
   "execution_count": 34,
   "metadata": {
    "collapsed": false
   },
   "outputs": [
    {
     "data": {
      "text/plain": [
       "[(0,\n",
       "  '0.116*\"배송\" + 0.080*\"완료\" + 0.075*\"주문\" + 0.033*\"입금\" + 0.032*\"시간\" + 0.026*\"요청\" + 0.026*\"바로\" + 0.021*\"화분\" + 0.020*\"다시\" + 0.016*\"되셨습니\"'),\n",
       " (1,\n",
       "  '0.084*\"화환\" + 0.065*\"배달\" + 0.043*\"오전\" + 0.038*\"신지\" + 0.032*\"내일\" + 0.031*\"잠시\" + 0.030*\"배송\" + 0.028*\"케익\" + 0.027*\"이미지\" + 0.025*\"말씀\"'),\n",
       " (2,\n",
       "  '0.100*\"대표\" + 0.045*\"텍스트\" + 0.045*\"팩토리\" + 0.040*\"계좌\" + 0.027*\"컴퍼니\" + 0.027*\"인텍앤\" + 0.019*\"아래\" + 0.019*\"라벤더\" + 0.017*\"입금\" + 0.016*\"하나은행\"'),\n",
       " (3,\n",
       "  '0.192*\"결제\" + 0.081*\"카드\" + 0.060*\"링크\" + 0.054*\"고객\" + 0.038*\"확인\" + 0.036*\"내용\" + 0.035*\"혹시\" + 0.032*\"진행\" + 0.028*\"문자\" + 0.021*\"메시지\"'),\n",
       " (4,\n",
       "  '0.091*\"문구\" + 0.074*\"리본\" + 0.062*\"주소\" + 0.049*\"좌측\" + 0.047*\"우측\" + 0.037*\"연락처\" + 0.028*\"장소\" + 0.018*\"축하\" + 0.018*\"서울\" + 0.017*\"대표이사\"'),\n",
       " (5,\n",
       "  '0.045*\"사진\" + 0.028*\"원장\" + 0.025*\"화환\" + 0.025*\"김지선\" + 0.021*\"전달\" + 0.018*\"부탁\" + 0.017*\"저녁\" + 0.015*\"인수\" + 0.014*\"연락\" + 0.012*\"축하\"'),\n",
       " (6,\n",
       "  '0.045*\"드릴\" + 0.042*\"사람\" + 0.021*\"주소\" + 0.020*\"대리\" + 0.020*\"서울특별시\" + 0.017*\"강남구\" + 0.017*\"고객\" + 0.016*\"예치\" + 0.015*\"무엇\" + 0.014*\"그냥\"'),\n",
       " (7,\n",
       "  '0.162*\"확인\" + 0.062*\"오늘\" + 0.054*\"시간\" + 0.050*\"배송\" + 0.030*\"신청\" + 0.025*\"미소\" + 0.017*\"배달\" + 0.016*\"빼빼로\" + 0.016*\"하루\" + 0.015*\"비서\"'),\n",
       " (8,\n",
       "  '0.102*\"만원\" + 0.056*\"비서\" + 0.049*\"꽃바구니\" + 0.049*\"꽃다발\" + 0.039*\"금액\" + 0.031*\"바구니\" + 0.031*\"화분\" + 0.021*\"과일\" + 0.018*\"장미\" + 0.018*\"상품\"'),\n",
       " (9,\n",
       "  '0.048*\"연락처\" + 0.045*\"장례식\" + 0.029*\"고인\" + 0.026*\"상주\" + 0.025*\"호실\" + 0.022*\"성함\" + 0.021*\"병원\" + 0.020*\"금전\" + 0.018*\"오후\" + 0.017*\"고객\"')]"
      ]
     },
     "execution_count": 34,
     "metadata": {},
     "output_type": "execute_result"
    }
   ],
   "source": [
    "x"
   ]
  },
  {
   "cell_type": "code",
   "execution_count": null,
   "metadata": {
    "collapsed": true
   },
   "outputs": [],
   "source": []
  }
 ],
 "metadata": {
  "kernelspec": {
   "display_name": "Python 3",
   "language": "python",
   "name": "python3"
  },
  "language_info": {
   "codemirror_mode": {
    "name": "ipython",
    "version": 3
   },
   "file_extension": ".py",
   "mimetype": "text/x-python",
   "name": "python",
   "nbconvert_exporter": "python",
   "pygments_lexer": "ipython3",
   "version": "3.4.3"
  }
 },
 "nbformat": 4,
 "nbformat_minor": 0
}
