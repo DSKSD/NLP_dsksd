{
 "cells": [
  {
   "cell_type": "code",
   "execution_count": 1,
   "metadata": {
    "collapsed": false
   },
   "outputs": [],
   "source": [
    "from gensim import corpora, models\n",
    "import gensim"
   ]
  },
  {
   "cell_type": "code",
   "execution_count": 7,
   "metadata": {
    "collapsed": true
   },
   "outputs": [],
   "source": [
    "import csv"
   ]
  },
  {
   "cell_type": "code",
   "execution_count": 3,
   "metadata": {
    "collapsed": true
   },
   "outputs": [],
   "source": [
    "from konlpy.tag import Twitter"
   ]
  },
  {
   "cell_type": "code",
   "execution_count": 4,
   "metadata": {
    "collapsed": true
   },
   "outputs": [],
   "source": [
    "m = Twitter()"
   ]
  },
  {
   "cell_type": "code",
   "execution_count": 12,
   "metadata": {
    "collapsed": false
   },
   "outputs": [],
   "source": [
    "lines=[]"
   ]
  },
  {
   "cell_type": "code",
   "execution_count": 13,
   "metadata": {
    "collapsed": false
   },
   "outputs": [],
   "source": [
    "with open('data/flower.csv', 'r', encoding=\"utf-8\") as csvfile: \n",
    "    reader = csv.reader(csvfile, delimiter=',')\n",
    "    for row in reader:\n",
    "        lines.append(row)"
   ]
  },
  {
   "cell_type": "code",
   "execution_count": 15,
   "metadata": {
    "collapsed": false
   },
   "outputs": [],
   "source": [
    "raws = [l[2] for l in lines]"
   ]
  },
  {
   "cell_type": "code",
   "execution_count": 5,
   "metadata": {
    "collapsed": true
   },
   "outputs": [],
   "source": [
    "f = open('data/all.csv','r',encoding='utf-8')\n",
    "raws = f.readlines()"
   ]
  },
  {
   "cell_type": "code",
   "execution_count": 16,
   "metadata": {
    "collapsed": false
   },
   "outputs": [
    {
     "data": {
      "text/plain": [
       "\" '확인 후 말씀드릴께요~ 조금만 기다려주세요 ^^ '\""
      ]
     },
     "execution_count": 16,
     "metadata": {},
     "output_type": "execute_result"
    }
   ],
   "source": [
    "raws[3]"
   ]
  },
  {
   "cell_type": "code",
   "execution_count": 5,
   "metadata": {
    "collapsed": true
   },
   "outputs": [],
   "source": [
    "raws = [r[:-1] for r in raws]"
   ]
  },
  {
   "cell_type": "code",
   "execution_count": 17,
   "metadata": {
    "collapsed": true
   },
   "outputs": [],
   "source": [
    "def pos_tagger(x):\n",
    "    return m.nouns(x)"
   ]
  },
  {
   "cell_type": "code",
   "execution_count": 18,
   "metadata": {
    "collapsed": false
   },
   "outputs": [],
   "source": [
    "pos = [pos_tagger(r) for r in raws]"
   ]
  },
  {
   "cell_type": "code",
   "execution_count": 26,
   "metadata": {
    "collapsed": false
   },
   "outputs": [],
   "source": [
    "pos = [[word for word in sent if len(word)>1] for sent in pos]"
   ]
  },
  {
   "cell_type": "code",
   "execution_count": 75,
   "metadata": {
    "collapsed": false
   },
   "outputs": [
    {
     "data": {
      "text/plain": [
       "['화분', '가요']"
      ]
     },
     "execution_count": 75,
     "metadata": {},
     "output_type": "execute_result"
    }
   ],
   "source": [
    "pos[4]"
   ]
  },
  {
   "cell_type": "code",
   "execution_count": 28,
   "metadata": {
    "collapsed": false
   },
   "outputs": [],
   "source": [
    "dictionary = corpora.Dictionary(pos)"
   ]
  },
  {
   "cell_type": "code",
   "execution_count": 76,
   "metadata": {
    "collapsed": false
   },
   "outputs": [
    {
     "data": {
      "text/plain": [
       "[(1, 1), (5, 1)]"
      ]
     },
     "execution_count": 76,
     "metadata": {},
     "output_type": "execute_result"
    }
   ],
   "source": [
    "corpus[4]"
   ]
  },
  {
   "cell_type": "code",
   "execution_count": 78,
   "metadata": {
    "collapsed": false
   },
   "outputs": [
    {
     "data": {
      "text/plain": [
       "'가요'"
      ]
     },
     "execution_count": 78,
     "metadata": {},
     "output_type": "execute_result"
    }
   ],
   "source": [
    "dictionary[5]"
   ]
  },
  {
   "cell_type": "code",
   "execution_count": 29,
   "metadata": {
    "collapsed": true
   },
   "outputs": [],
   "source": [
    "corpus = [dictionary.doc2bow(po) for po in pos]"
   ]
  },
  {
   "cell_type": "code",
   "execution_count": 32,
   "metadata": {
    "collapsed": true
   },
   "outputs": [],
   "source": [
    "ldamodel = gensim.models.ldamodel.LdaModel(corpus, num_topics=25, id2word = dictionary, passes=20)"
   ]
  },
  {
   "cell_type": "code",
   "execution_count": 34,
   "metadata": {
    "collapsed": false
   },
   "outputs": [],
   "source": [
    "x = ldamodel.print_topics()"
   ]
  },
  {
   "cell_type": "code",
   "execution_count": 47,
   "metadata": {
    "collapsed": false
   },
   "outputs": [
    {
     "data": {
      "text/plain": [
       "24"
      ]
     },
     "execution_count": 47,
     "metadata": {},
     "output_type": "execute_result"
    }
   ],
   "source": [
    "x[0][0]"
   ]
  },
  {
   "cell_type": "code",
   "execution_count": 49,
   "metadata": {
    "collapsed": false
   },
   "outputs": [],
   "source": [
    "x = sorted(x, key=lambda x:x[0])"
   ]
  },
  {
   "cell_type": "code",
   "execution_count": 50,
   "metadata": {
    "collapsed": false
   },
   "outputs": [
    {
     "data": {
      "text/plain": [
       "[(0,\n",
       "  '0.119*\"오후\" + 0.079*\"메시지\" + 0.060*\"바로\" + 0.057*\"카드\" + 0.052*\"지금\" + 0.039*\"도착\" + 0.037*\"인수\" + 0.030*\"선생님\" + 0.028*\"용산\" + 0.025*\"결재\"'),\n",
       " (2,\n",
       "  '0.162*\"축하\" + 0.126*\"꽃바구니\" + 0.037*\"결혼기념일\" + 0.033*\"감사\" + 0.033*\"이전\" + 0.031*\"사무실\" + 0.019*\"지점\" + 0.018*\"할인\" + 0.016*\"계속\" + 0.014*\"일동\"'),\n",
       " (3,\n",
       "  '0.125*\"연락처\" + 0.116*\"주소\" + 0.068*\"성함\" + 0.059*\"발송\" + 0.043*\"서울\" + 0.034*\"생일\" + 0.032*\"토요일\" + 0.030*\"하루\" + 0.023*\"배송지\" + 0.022*\"저희\"'),\n",
       " (4,\n",
       "  '0.090*\"드릴\" + 0.051*\"원장\" + 0.049*\"상품\" + 0.040*\"김지선\" + 0.037*\"예정\" + 0.036*\"가요\" + 0.030*\"가입\" + 0.028*\"회원\" + 0.026*\"무엇\" + 0.024*\"휴무\"'),\n",
       " (5,\n",
       "  '0.075*\"말씀\" + 0.043*\"장례식\" + 0.041*\"수정\" + 0.035*\"이체\" + 0.030*\"사항\" + 0.027*\"이사\" + 0.027*\"발인\" + 0.026*\"신청\" + 0.026*\"메세지\" + 0.025*\"빈소\"'),\n",
       " (6,\n",
       "  '0.328*\"결제\" + 0.099*\"링크\" + 0.083*\"오전\" + 0.070*\"사람\" + 0.058*\"주시\" + 0.047*\"내일\" + 0.041*\"문자\" + 0.026*\"품목\" + 0.022*\"말씀\" + 0.019*\"바로\"'),\n",
       " (7,\n",
       "  '0.061*\"문구\" + 0.059*\"리본\" + 0.056*\"장례식\" + 0.056*\"상주\" + 0.052*\"고인\" + 0.044*\"장소\" + 0.042*\"좌측\" + 0.041*\"우측\" + 0.035*\"병원\" + 0.035*\"호실\"'),\n",
       " (8,\n",
       "  '0.135*\"문구\" + 0.102*\"리본\" + 0.063*\"좌측\" + 0.060*\"우측\" + 0.059*\"주소\" + 0.046*\"연락처\" + 0.030*\"장소\" + 0.029*\"서울\" + 0.027*\"대표이사\" + 0.025*\"일시\"'),\n",
       " (9,\n",
       "  '0.169*\"대표\" + 0.070*\"블러\" + 0.052*\"컴퍼니\" + 0.052*\"인텍앤\" + 0.041*\"그냥\" + 0.039*\"라벤더\" + 0.031*\"용산구\" + 0.028*\"김점\" + 0.019*\"양해\" + 0.013*\"충북\"'),\n",
       " (11,\n",
       "  '0.181*\"금액\" + 0.152*\"신랑\" + 0.036*\"최대한\" + 0.031*\"연락\" + 0.031*\"경우\" + 0.028*\"어느측\" + 0.021*\"비용\" + 0.017*\"주신\" + 0.013*\"일시\" + 0.010*\"지난번\"'),\n",
       " (12,\n",
       "  '0.089*\"진행\" + 0.049*\"금전\" + 0.039*\"강남구\" + 0.028*\"주소\" + 0.028*\"이구\" + 0.025*\"아파트\" + 0.024*\"로비\" + 0.024*\"강서\" + 0.024*\"계산서\" + 0.023*\"테헤란로\"'),\n",
       " (13,\n",
       "  '0.135*\"입금\" + 0.095*\"계좌\" + 0.087*\"텍스트\" + 0.087*\"팩토리\" + 0.038*\"해주시\" + 0.037*\"하나은행\" + 0.035*\"번호\" + 0.034*\"오로라\" + 0.029*\"국민은행\" + 0.025*\"신한은행\"'),\n",
       " (14,\n",
       "  '0.105*\"혹시\" + 0.086*\"바구니\" + 0.046*\"등록\" + 0.040*\"자동\" + 0.037*\"카드\" + 0.036*\"과일\" + 0.035*\"현대\" + 0.029*\"금요일\" + 0.026*\"화이트\" + 0.024*\"매리어트\"'),\n",
       " (15,\n",
       "  '0.123*\"내용\" + 0.101*\"변호사\" + 0.049*\"법무\" + 0.044*\"문의\" + 0.044*\"서울특별시\" + 0.036*\"오승준\" + 0.035*\"원일\" + 0.034*\"해당\" + 0.023*\"먼저\" + 0.022*\"배송비\"'),\n",
       " (16,\n",
       "  '0.189*\"화분\" + 0.132*\"배달\" + 0.070*\"법인\" + 0.053*\"개업\" + 0.030*\"여기\" + 0.027*\"추천\" + 0.027*\"마포구\" + 0.024*\"부탁\" + 0.023*\"최고\" + 0.021*\"진성\"'),\n",
       " (17,\n",
       "  '0.109*\"케익\" + 0.095*\"신청\" + 0.075*\"잠시\" + 0.029*\"가지\" + 0.024*\"설정\" + 0.020*\"아직\" + 0.019*\"다른\" + 0.019*\"달라\" + 0.017*\"신용카드\" + 0.017*\"가족\"'),\n",
       " (18,\n",
       "  '0.229*\"배송\" + 0.139*\"주문\" + 0.137*\"완료\" + 0.071*\"오늘\" + 0.043*\"화환\" + 0.026*\"해피\" + 0.026*\"트리\" + 0.021*\"플레이\" + 0.020*\"사진\" + 0.018*\"일찍\"'),\n",
       " (20,\n",
       "  '0.247*\"비서\" + 0.178*\"고객\" + 0.046*\"시간\" + 0.034*\"꽃집\" + 0.025*\"예치\" + 0.020*\"회장\" + 0.020*\"코리아\" + 0.020*\"이상\" + 0.019*\"드릴\" + 0.018*\"예약\"'),\n",
       " (21,\n",
       "  '0.048*\"변경\" + 0.043*\"주말\" + 0.041*\"업무\" + 0.035*\"전달\" + 0.034*\"사업자\" + 0.032*\"가격\" + 0.029*\"처리\" + 0.024*\"데스크\" + 0.023*\"참고\" + 0.023*\"방법\"'),\n",
       " (24,\n",
       "  '0.131*\"배송\" + 0.113*\"시간\" + 0.061*\"신지\" + 0.039*\"저녁\" + 0.035*\"배달\" + 0.034*\"금일\" + 0.034*\"업체\" + 0.029*\"어디\" + 0.025*\"조금\" + 0.025*\"예식\"')]"
      ]
     },
     "execution_count": 50,
     "metadata": {},
     "output_type": "execute_result"
    }
   ],
   "source": [
    "x"
   ]
  },
  {
   "cell_type": "code",
   "execution_count": null,
   "metadata": {
    "collapsed": true
   },
   "outputs": [],
   "source": []
  }
 ],
 "metadata": {
  "kernelspec": {
   "display_name": "Python 3",
   "language": "python",
   "name": "python3"
  },
  "language_info": {
   "codemirror_mode": {
    "name": "ipython",
    "version": 3
   },
   "file_extension": ".py",
   "mimetype": "text/x-python",
   "name": "python",
   "nbconvert_exporter": "python",
   "pygments_lexer": "ipython3",
   "version": "3.4.3"
  }
 },
 "nbformat": 4,
 "nbformat_minor": 0
}
