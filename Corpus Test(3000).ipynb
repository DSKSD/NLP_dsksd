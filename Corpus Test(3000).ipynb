{
 "cells": [
  {
   "cell_type": "markdown",
   "metadata": {},
   "source": [
    "# 코퍼스 테스트 (메뉴판닷컴 + 만개100p) 3303 "
   ]
  },
  {
   "cell_type": "code",
   "execution_count": 1,
   "metadata": {
    "collapsed": true
   },
   "outputs": [],
   "source": [
    "# coding: utf-8\n",
    "from __future__ import unicode_literals\n",
    "import os\n",
    "from konlpy.tag import Twitter\n",
    "import codecs\n",
    "import pickle"
   ]
  },
  {
   "cell_type": "code",
   "execution_count": 2,
   "metadata": {
    "collapsed": true
   },
   "outputs": [],
   "source": [
    "from matplotlib import pyplot as plt\n",
    "%matplotlib inline"
   ]
  },
  {
   "cell_type": "code",
   "execution_count": 3,
   "metadata": {
    "collapsed": false
   },
   "outputs": [
    {
     "data": {
      "text/plain": [
       "'/root/nlp'"
      ]
     },
     "execution_count": 3,
     "metadata": {},
     "output_type": "execute_result"
    }
   ],
   "source": [
    "os.getcwd()"
   ]
  },
  {
   "cell_type": "code",
   "execution_count": 4,
   "metadata": {
    "collapsed": true
   },
   "outputs": [],
   "source": [
    "def read_data(filename):\n",
    "    with codecs.open(filename,'r',encoding='utf8') as f:\n",
    "        data = [line.split('\\t') for line in f.read().splitlines()]\n",
    "      #  data = data[1:]   # header 제외\n",
    "    return data"
   ]
  },
  {
   "cell_type": "code",
   "execution_count": 5,
   "metadata": {
    "collapsed": true
   },
   "outputs": [],
   "source": [
    "filename = 'recipeCorpus2.txt'\n",
    "train_data = read_data(filename)\n"
   ]
  },
  {
   "cell_type": "code",
   "execution_count": 6,
   "metadata": {
    "collapsed": false
   },
   "outputs": [
    {
     "name": "stdout",
     "output_type": "stream",
     "text": [
      "11704\n",
      "3\n"
     ]
    }
   ],
   "source": [
    "print len(train_data)      # nrows: 150000\n",
    "print len(train_data[0])   # ncols: 3"
   ]
  },
  {
   "cell_type": "code",
   "execution_count": 7,
   "metadata": {
    "collapsed": true
   },
   "outputs": [],
   "source": [
    "pos_tagger = Twitter()"
   ]
  },
  {
   "cell_type": "code",
   "execution_count": 8,
   "metadata": {
    "collapsed": true
   },
   "outputs": [],
   "source": [
    "def tokenize(doc):\n",
    "    # norm, stem은 optional\n",
    "    return ['/'.join(t) for t in pos_tagger.pos(doc, norm=True, stem=True)]"
   ]
  },
  {
   "cell_type": "code",
   "execution_count": null,
   "metadata": {
    "collapsed": true
   },
   "outputs": [],
   "source": [
    "train_docs = [(tokenize(row[1])) for row in train_data]"
   ]
  },
  {
   "cell_type": "code",
   "execution_count": 15,
   "metadata": {
    "collapsed": true
   },
   "outputs": [],
   "source": [
    "from konlpy.utils import pprint"
   ]
  },
  {
   "cell_type": "code",
   "execution_count": 16,
   "metadata": {
    "collapsed": false
   },
   "outputs": [
    {
     "name": "stdout",
     "output_type": "stream",
     "text": [
      "[쌀/Noun,\n",
      " 을/Josa,\n",
      " 씻다/Verb,\n",
      " 분/Noun,\n",
      " 정도/Noun,\n",
      " 물/Noun,\n",
      " 에/Josa,\n",
      " 불다/Verb,\n",
      " 두다/Verb,\n",
      " 멥쌀/Noun,\n",
      " 과/Josa,\n",
      " 찹쌀/Noun,\n",
      " 을/Josa,\n",
      " 의/Noun,\n",
      " 비율/Noun,\n",
      " 로/Josa,\n",
      " 사용/Noun,\n",
      " 하다/Verb,\n",
      " 좋다/Adjective,\n",
      " 뚱이랑뚱/Noun,\n",
      " 현미/Noun,\n",
      " 랑/Josa,\n",
      " 적미/Noun,\n",
      " 랑/Josa,\n",
      " 흑/Adverb,\n",
      " 밉다/Adjective,\n",
      " 섞다/Verb,\n",
      " 더/Noun,\n",
      " 예쁘다/Adjective,\n",
      " 작다/Adjective,\n",
      " 뭉치/Noun,\n",
      " 쌀/Noun,\n",
      " 을/Josa,\n",
      " 씻다/Verb,\n",
      " 분/Noun,\n",
      " 정도/Noun,\n",
      " 물/Noun,\n",
      " 에/Josa,\n",
      " 불다/Verb,\n",
      " 두다/Verb,\n",
      " 개/Noun,\n",
      " 은행/Noun,\n",
      " 은/Josa,\n",
      " 볶다/Verb,\n",
      " 껍질/Noun,\n",
      " 을/Josa,\n",
      " 벗기다/Verb,\n",
      " 불/Noun,\n",
      " 을/Josa,\n",
      " 중약/Noun,\n",
      " 불로/Noun,\n",
      " 줄이다/Verb,\n",
      " 물엿/Noun,\n",
      " 이나/Josa,\n",
      " 올리고당/Noun,\n",
      " 을/Josa,\n",
      " 수저/Noun,\n",
      " 넣다/Verb,\n",
      " 같이/Josa,\n",
      " 볶다/Verb,\n",
      " 껍질/Noun,\n",
      " 이/Josa,\n",
      " 쉬다/Verb,\n",
      " 벗기다/Verb,\n",
      " 지다/Verb,\n",
      " 그린/Noun,\n",
      " 씨엘/Noun,\n",
      " 끓다/Verb,\n",
      " 물/Noun,\n",
      " 에/Josa,\n",
      " 데/Noun,\n",
      " 치다/Verb,\n",
      " 국자/Noun,\n",
      " 를/Josa,\n",
      " 둥글다/Adjective,\n",
      " 밀다/Verb,\n",
      " 껍질/Noun,\n",
      " 이/Josa,\n",
      " 벗기다/Verb,\n",
      " 기름기/Noun,\n",
      " 없다/Adjective,\n",
      " 은행/Noun,\n",
      " 이/Josa,\n",
      " 되다/Verb,\n",
      " 밥/Noun,\n",
      " 심다/Verb,\n",
      " 국력/Noun,\n",
      " 볶다/Verb,\n",
      " 물엿/Noun,\n",
      " 을/Josa,\n",
      " 조금/Noun,\n",
      " 넣다/Verb,\n",
      " 주걱/Noun,\n",
      " 이나/Josa,\n",
      " 숫/Noun,\n",
      " 가락/Noun,\n",
      " 등/Noun,\n",
      " 으로/Josa,\n",
      " 저/Determiner,\n",
      " 어/Noun,\n",
      " 주다/Verb,\n",
      " 자다/Verb,\n",
      " 벗기다/Verb,\n",
      " 지다/Verb,\n",
      " 그린/Noun,\n",
      " 씨엘/Noun,\n",
      " 개/Noun,\n",
      " 밤/Noun,\n",
      " 은/Josa,\n",
      " 껍질/Noun,\n",
      " 을/Josa,\n",
      " 벗기다/Verb,\n",
      " 대추/Noun,\n",
      " 는/Josa,\n",
      " 깨끗이/Adverb,\n",
      " 씻다/Verb,\n",
      " 두다/Verb,\n",
      " 밤/Noun,\n",
      " 은/Josa,\n",
      " 미리/Noun,\n",
      " 껍질/Noun,\n",
      " 을/Josa,\n",
      " 벗기다/Verb,\n",
      " 색/Noun,\n",
      " 이/Josa,\n",
      " 변하다/Adjective,\n",
      " 물/Noun,\n",
      " 에/Josa,\n",
      " 담그다/Verb,\n",
      " 두다/Verb,\n",
      " 애/Noun,\n",
      " 빼다/Verb,\n",
      " 대추/Noun,\n",
      " 는/Josa,\n",
      " 나중/Noun,\n",
      " 에/Josa,\n",
      " 이/Noun,\n",
      " 상/Noun,\n",
      " 하다/Verb,\n",
      " 않다/Verb,\n",
      " 씨/Noun,\n",
      " 를/Josa,\n",
      " 빼놓다/Verb,\n",
      " 생강/Noun,\n",
      " 대추/Noun,\n",
      " 는/Josa,\n",
      " 솔로/Noun,\n",
      " 구석/Noun,\n",
      " 구석/Noun,\n",
      " 닦다/Verb,\n",
      " 하다/Verb,\n",
      " 개/Noun,\n",
      " 쌀/Noun,\n",
      " 과/Josa,\n",
      " 밤/Noun,\n",
      " 을/Josa,\n",
      " 넣다/Verb,\n",
      " 밥/Noun,\n",
      " 을/Josa,\n",
      " 짓다/Verb,\n",
      " 한소끔/Adverb,\n",
      " 끓다/Verb,\n",
      " 오르다/Verb,\n",
      " 대추/Noun,\n",
      " 은행/Noun,\n",
      " 잣/Noun,\n",
      " 을/Josa,\n",
      " 넣다/Verb,\n",
      " 약하다/Adjective,\n",
      " 불로/Noun,\n",
      " 뜸/Noun,\n",
      " 을/Josa,\n",
      " 들이다/Verb,\n",
      " 압력밥솥/Noun,\n",
      " 등/Noun,\n",
      " 을/Josa,\n",
      " 사용/Noun,\n",
      " 하다/Verb,\n",
      " 은행/Noun,\n",
      " 잣/Noun,\n",
      " 은/Josa,\n",
      " 같이/Josa,\n",
      " 넣다/Verb,\n",
      " 밥/Noun,\n",
      " 을/Josa,\n",
      " 지다/Verb,\n",
      " 괜찮다/Adjective,\n",
      " 뚱이랑뚱/Noun,\n",
      " 다시마/Noun,\n",
      " 한/Determiner,\n",
      " 조각/Noun,\n",
      " 을/Josa,\n",
      " 넣다/Verb,\n",
      " 같이/Josa,\n",
      " 밥/Noun,\n",
      " 을/Josa,\n",
      " 지다/Verb,\n",
      " 좋다/Adjective,\n",
      " 곰택/Noun,\n",
      " 대추/Noun,\n",
      " 는/Josa,\n",
      " 먹기/Noun,\n",
      " 좋다/Adjective,\n",
      " 씨/Noun,\n",
      " 를/Josa,\n",
      " 제거/Noun,\n",
      " 하다/Verb,\n",
      " 뒤/Noun,\n",
      " 에/Josa,\n",
      " 넣다/Verb,\n",
      " 피안화/Noun,\n",
      " 개/Noun,\n",
      " 쓰기/Noun,\n",
      " 레시피/Noun,\n",
      " 출처/Noun,\n",
      " 월간/Noun,\n",
      " 헬스/Noun,\n",
      " 조선/Noun,\n",
      " 대추/Noun,\n",
      " 나/Josa,\n",
      " 잣/Noun,\n",
      " 호두/Noun,\n",
      " 등/Noun,\n",
      " 의/Josa,\n",
      " 견과류/Noun,\n",
      " 는/Josa,\n",
      " 오랫동안/Noun,\n",
      " 익히다/Verb,\n",
      " 필요/Noun,\n",
      " 가/Josa,\n",
      " 없다/Adjective,\n",
      " 대추/Noun,\n",
      " 는/Josa,\n",
      " 무르거/Noun,\n",
      " 나/Josa,\n",
      " 퍼지다/Verb,\n",
      " 수/Noun,\n",
      " 있다/Adjective,\n",
      " 밥/Noun,\n",
      " 을/Josa,\n",
      " 다/Adverb,\n",
      " 하다/Verb,\n",
      " 뒤/Noun,\n",
      " 뜸/Noun,\n",
      " 들이다/Verb,\n",
      " 때/Noun,\n",
      " 넣다/Verb]\n"
     ]
    }
   ],
   "source": [
    "pprint(train_docs[0])"
   ]
  },
  {
   "cell_type": "code",
   "execution_count": 17,
   "metadata": {
    "collapsed": false
   },
   "outputs": [
    {
     "name": "stdout",
     "output_type": "stream",
     "text": [
      "26085\n"
     ]
    }
   ],
   "source": [
    "tokens = [t for d in train_docs for t in d[0]]\n",
    "print len(tokens)"
   ]
  },
  {
   "cell_type": "code",
   "execution_count": 18,
   "metadata": {
    "collapsed": false
   },
   "outputs": [
    {
     "name": "stdout",
     "output_type": "stream",
     "text": [
      "<Text: NMSC>\n"
     ]
    }
   ],
   "source": [
    "import nltk\n",
    "text = nltk.Text(tokens, name='NMSC')\n",
    "print text"
   ]
  },
  {
   "cell_type": "code",
   "execution_count": 65,
   "metadata": {
    "collapsed": false
   },
   "outputs": [
    {
     "name": "stdout",
     "output_type": "stream",
     "text": [
      "어\n"
     ]
    }
   ],
   "source": [
    "pprint(text.tokens[500])"
   ]
  },
  {
   "cell_type": "code",
   "execution_count": 19,
   "metadata": {
    "collapsed": false
   },
   "outputs": [
    {
     "name": "stdout",
     "output_type": "stream",
     "text": [
      "26085\n"
     ]
    }
   ],
   "source": [
    "print len(text.tokens)                 # returns number of tokens"
   ]
  },
  {
   "cell_type": "code",
   "execution_count": 20,
   "metadata": {
    "collapsed": false
   },
   "outputs": [
    {
     "name": "stdout",
     "output_type": "stream",
     "text": [
      "542\n"
     ]
    }
   ],
   "source": [
    "print len(set(text.tokens))         # returns number of unique tokens"
   ]
  },
  {
   "cell_type": "code",
   "execution_count": 21,
   "metadata": {
    "collapsed": false
   },
   "outputs": [
    {
     "name": "stdout",
     "output_type": "stream",
     "text": [
      "[(/, 3401),\n",
      " (n, 3085),\n",
      " (o, 3070),\n",
      " (N, 3057),\n",
      " (u, 3057),\n",
      " (e, 497),\n",
      " (다, 332),\n",
      " (고, 290),\n",
      " (기, 227),\n",
      " (r, 213)]\n"
     ]
    }
   ],
   "source": [
    "pprint(text.vocab().most_common(10))    # returns frequency distribution"
   ]
  },
  {
   "cell_type": "code",
   "execution_count": 23,
   "metadata": {
    "collapsed": false
   },
   "outputs": [
    {
     "data": {
      "image/png": "[encoded data removed]",
      "text/plain": [
       "<matplotlib.figure.Figure at 0x7fdba2240410>"
      ]
     },
     "metadata": {},
     "output_type": "display_data"
    }
   ],
   "source": [
    "text.plot(50)     # Plot sorted frequency of top 50 tokens"
   ]
  },
  {
   "cell_type": "code",
   "execution_count": 28,
   "metadata": {
    "collapsed": true
   },
   "outputs": [],
   "source": [
    "from gensim.models import Word2Vec"
   ]
  },
  {
   "cell_type": "code",
   "execution_count": 35,
   "metadata": {
    "collapsed": false
   },
   "outputs": [],
   "source": [
    "word_model = Word2Vec(train_docs, size=100, window=5, min_count=5, workers=4)\n",
    "word_model.init_sims(replace=True)\n",
    "word_model.save('test1.model')"
   ]
  },
  {
   "cell_type": "code",
   "execution_count": 66,
   "metadata": {
    "collapsed": false
   },
   "outputs": [
    {
     "name": "stdout",
     "output_type": "stream",
     "text": [
      "[다시마/Noun,\n",
      " 는/Josa,\n",
      " 마르다/Adjective,\n",
      " 행주/Noun,\n",
      " 로/Josa,\n",
      " 닦다/Verb,\n",
      " 후/Noun,\n",
      " 냄비/Noun,\n",
      " 바닥/Noun,\n",
      " 에/Josa,\n",
      " 까다/Verb,\n",
      " 쌀/Noun,\n",
      " 을/Josa,\n",
      " 넣다/Verb,\n",
      " 고/Noun,\n",
      " 슬하/Noun,\n",
      " 게/Josa,\n",
      " 밥/Noun,\n",
      " 을/Josa,\n",
      " 짓다/Verb,\n",
      " 다시마/Noun,\n",
      " 를/Josa,\n",
      " 빼/Noun,\n",
      " 내다/Verb,\n",
      " 후/Noun,\n",
      " 분량/Noun,\n",
      " 의/Josa,\n",
      " 배합/Noun,\n",
      " 초/Noun,\n",
      " 를/Josa,\n",
      " 넣다/Verb,\n",
      " 버/Noun,\n",
      " 무려/Noun,\n",
      " 식히다/Verb,\n",
      " 묵다/Verb,\n",
      " 쌀/Noun,\n",
      " 로/Josa,\n",
      " 하다/Verb,\n",
      " 때/Noun,\n",
      " 는/Josa,\n",
      " 식초/Noun,\n",
      " 몇/NounPrefix,\n",
      " 방울/Noun,\n",
      " 을/Josa,\n",
      " 떨어트려/Noun,\n",
      " 넣다/Verb,\n",
      " 잡/Noun,\n",
      " 냄새/Noun,\n",
      " 가/Josa,\n",
      " 없다/Adjective,\n",
      " 밥맛/Noun,\n",
      " 이/Josa,\n",
      " 좋다/Adjective,\n",
      " 수빵/Noun,\n",
      " 방방/Adverb,\n",
      " 다시다/Noun,\n",
      " 를/Josa,\n",
      " 넣다/Verb,\n",
      " 이유/Noun,\n",
      " 는/Josa,\n",
      " 향/Noun,\n",
      " 때문/Noun,\n",
      " 인가/Josa,\n",
      " 암튼/Adverb,\n",
      " 뭐/Noun,\n",
      " 든/Josa,\n",
      " 밥/Noun,\n",
      " 이/Josa,\n",
      " 맛있다/Adjective,\n",
      " 되다/Verb,\n",
      " 대동/Noun,\n",
      " 최고/Noun,\n",
      " 다시마/Noun,\n",
      " 는/Josa,\n",
      " 마른행주/Noun,\n",
      " 로/Josa,\n",
      " 닦다/Verb,\n",
      " 표면/Noun,\n",
      " 에/Josa,\n",
      " 먼지/Noun,\n",
      " 가/Josa,\n",
      " 제거/Noun,\n",
      " 가/Josa,\n",
      " 돼다/Verb,\n",
      " 싶다/Verb,\n",
      " 정도/Noun,\n",
      " 로/Josa,\n",
      " 닦다/Verb,\n",
      " 신/Noun,\n",
      " 승순/Noun,\n",
      " 개/Noun,\n",
      " 볼/Noun,\n",
      " 에/Josa,\n",
      " 계란/Noun,\n",
      " 을/Josa,\n",
      " 풀/Noun,\n",
      " 고/Josa,\n",
      " 소금/Noun,\n",
      " 간/Suffix,\n",
      " 을/Josa,\n",
      " 하다/Verb,\n",
      " 뒤/Noun,\n",
      " 프라이팬/Noun,\n",
      " 에/Josa,\n",
      " 식용유/Noun,\n",
      " 를/Josa,\n",
      " 두르다/Verb,\n",
      " 계란/Noun,\n",
      " 지단/Noun,\n",
      " 을/Josa,\n",
      " 부친/Noun,\n",
      " 다/Josa,\n",
      " 혼합/Noun,\n",
      " 하다/Verb,\n",
      " 때/Noun,\n",
      " 냉장고/Noun,\n",
      " 를/Josa,\n",
      " 한번/Noun,\n",
      " 확인/Noun,\n",
      " 해보다/Verb,\n",
      " 맛살/Noun,\n",
      " 을/Josa,\n",
      " 잘르다/Verb,\n",
      " 넣다/Verb,\n",
      " 다지다/Verb,\n",
      " 정도/Noun,\n",
      " 멸치/Noun,\n",
      " 를/Josa,\n",
      " 넣다/Verb,\n",
      " 맛있다/Adjective,\n",
      " 양말/Noun,\n",
      " 속/Noun,\n",
      " 무좀/Noun,\n",
      " 설탕/Noun,\n",
      " 이/Noun,\n",
      " 녹/Noun,\n",
      " 을/Josa,\n",
      " 정도/Noun,\n",
      " 까지/Josa,\n",
      " 끓이다/Verb,\n",
      " 식히다/Verb,\n",
      " 밥/Noun,\n",
      " 이/Josa,\n",
      " 뜨겁다/Adjective,\n",
      " 때/Noun,\n",
      " 살살/Noun,\n",
      " 나무/Noun,\n",
      " 주걱/Noun,\n",
      " 으로/Josa,\n",
      " 자르다/Verb,\n",
      " 섞다/Verb,\n",
      " 배합/Noun,\n",
      " 초/Noun,\n",
      " 는/Josa,\n",
      " 밥/Noun,\n",
      " 과/Josa,\n",
      " 섞이다/Verb,\n",
      " 식다/Verb,\n",
      " 간이/Noun,\n",
      " 약해지다/Verb,\n",
      " 때문/Noun,\n",
      " 에/Josa,\n",
      " 처음/Noun,\n",
      " 에/Josa,\n",
      " 약간/Noun,\n",
      " 간이/Noun,\n",
      " 세다/Verb,\n",
      " 하다/Verb,\n",
      " 맛있다/Adjective,\n",
      " 필승/Noun,\n",
      " 개/Noun,\n",
      " 지단/Noun,\n",
      " 이/Josa,\n",
      " 식다/Verb,\n",
      " 가로/Noun,\n",
      " 세로/Noun,\n",
      " 가/Josa,\n",
      " 정도/Noun,\n",
      " 가/Josa,\n",
      " 되다/Verb,\n",
      " 자르다/Verb,\n",
      " 배합/Noun,\n",
      " 초/Noun,\n",
      " 를/Josa,\n",
      " 섞다/Verb,\n",
      " 땐/Noun,\n",
      " 따뜻하다/Adjective,\n",
      " 밥/Noun,\n",
      " 에서/Josa,\n",
      " 하다/Verb,\n",
      " 하다/Verb,\n",
      " 이/Determiner,\n",
      " 때/Noun,\n",
      " 한/Determiner,\n",
      " 손/Noun,\n",
      " 으로/Josa,\n",
      " 밥/Noun,\n",
      " 을/Josa,\n",
      " 섞다/Verb,\n",
      " 한/Determiner,\n",
      " 손/Noun,\n",
      " 으로/Josa,\n",
      " 부채질/Noun,\n",
      " 을/Josa,\n",
      " 하다/Verb,\n",
      " 식히다/Verb,\n",
      " 언제나/Adverb,\n",
      " 웃음/Noun,\n",
      " 버무릴때/Noun,\n",
      " 으/Adverb,\n",
      " 깨다/Verb,\n",
      " 버무리/Noun,\n",
      " 지/Josa,\n",
      " 말고/Josa,\n",
      " 부채/Noun,\n",
      " 나/Josa,\n",
      " 선풍기/Noun,\n",
      " 로/Josa,\n",
      " 식히다/Verb,\n",
      " 세로/Noun,\n",
      " 로/Josa,\n",
      " 주걱/Noun,\n",
      " 질/Noun,\n",
      " 을/Josa,\n",
      " 해주다/Verb,\n",
      " 시용앤령/Noun,\n",
      " 이/Josa,\n",
      " 너무/Noun,\n",
      " 뜨겁다/Adjective,\n",
      " 때/Noun,\n",
      " 뭉치/Noun,\n",
      " 면/Josa,\n",
      " 자다/Verb,\n",
      " 안/Noun,\n",
      " 되다/Verb,\n",
      " 약간/Noun,\n",
      " 식다/Verb,\n",
      " 하다/Verb,\n",
      " 서로/Noun,\n",
      " 달라/Noun,\n",
      " 붙다/Verb,\n",
      " 요리/Noun,\n",
      " 하다/Verb,\n",
      " 좋다/Adjective,\n",
      " 필승/Noun,\n",
      " 개/Noun,\n",
      " 표고버섯/Noun,\n",
      " 을/Josa,\n",
      " 불리다/Verb,\n",
      " 다음/Noun,\n",
      " 얇다/Adjective,\n",
      " 채/Noun,\n",
      " 썰다/Verb,\n",
      " 오이/Noun,\n",
      " 는/Josa,\n",
      " 돌리다/Verb,\n",
      " 깎다/Verb,\n",
      " 후/Noun,\n",
      " 껍질/Noun,\n",
      " 부분/Noun,\n",
      " 만/Josa,\n",
      " 채/Noun,\n",
      " 를/Josa,\n",
      " 썰다/Verb,\n",
      " 당근/Noun,\n",
      " 은/Josa,\n",
      " 곱/Noun,\n",
      " 게/Josa,\n",
      " 채/Noun,\n",
      " 썰다/Verb,\n",
      " 각각/Noun,\n",
      " 볶다/Verb,\n",
      " 후/Noun,\n",
      " 소금/Noun,\n",
      " 으로/Josa,\n",
      " 간/Noun,\n",
      " 을/Josa,\n",
      " 하다/Verb,\n",
      " 달걀/Noun,\n",
      " 물/Noun,\n",
      " 을/Josa,\n",
      " 만들다/Verb,\n",
      " 후/Noun,\n",
      " 체/Noun,\n",
      " 에/Josa,\n",
      " 한번/Noun,\n",
      " 걸다/Verb,\n",
      " 주다/Verb,\n",
      " 알끈/Noun,\n",
      " 등/Noun,\n",
      " 이/Josa,\n",
      " 제거/Noun,\n",
      " 되어다/Verb,\n",
      " 전체/Noun,\n",
      " 적/Suffix,\n",
      " 으로/Josa,\n",
      " 노란색/Noun,\n",
      " 의/Josa,\n",
      " 지단/Noun,\n",
      " 이/Josa,\n",
      " 만들어지다/Verb,\n",
      " 언제나/Adverb,\n",
      " 웃음/Noun,\n",
      " 개인/Noun,\n",
      " 취향/Noun,\n",
      " 에/Josa,\n",
      " 맛/Noun,\n",
      " 게/Josa,\n",
      " 맵다/Adjective,\n",
      " 고추/Noun,\n",
      " 라든지/Josa,\n",
      " 파/Noun,\n",
      " 같다/Adjective,\n",
      " 자다/Verb,\n",
      " 썷어/Noun,\n",
      " 서/Josa,\n",
      " 넣다/Verb,\n",
      " 좋다/Adjective,\n",
      " 대동/Noun,\n",
      " 최고/Noun,\n",
      " 우유/Noun,\n",
      " 를/Josa,\n",
      " 넣다/Verb,\n",
      " 부드럽다/Adjective,\n",
      " 고소하다/Adjective,\n",
      " 좋다/Adjective,\n",
      " 기다/Verb,\n",
      " 지단/Noun,\n",
      " 만들다/Verb,\n",
      " 때/Noun,\n",
      " 자다/Verb,\n",
      " 부서지다/Verb,\n",
      " 용/Noun,\n",
      " 각산/Noun,\n",
      " 개/Noun,\n",
      " 미나리/Noun,\n",
      " 는/Josa,\n",
      " 잎/Noun,\n",
      " 을/Josa,\n",
      " 떼다/Verb,\n",
      " 끓다/Verb,\n",
      " 소금물/Noun,\n",
      " 에/Josa,\n",
      " 데친/Noun,\n",
      " 다/Josa,\n",
      " 기름/Noun,\n",
      " 은/Josa,\n",
      " 키친/Noun,\n",
      " 타월/Noun,\n",
      " 에/Josa,\n",
      " 묻히다/Verb,\n",
      " 후/Noun,\n",
      " 라/Josa,\n",
      " 이/Determiner,\n",
      " 핸/Noun,\n",
      " 에/Josa,\n",
      " 닦다/Verb,\n",
      " 정도/Noun,\n",
      " 로/Josa,\n",
      " 하다/Verb,\n",
      " 약하다/Adjective,\n",
      " 불/Noun,\n",
      " 에서/Josa,\n",
      " 계란/Noun,\n",
      " 을/Josa,\n",
      " 조금씩/Adverb,\n",
      " 부워/Noun,\n",
      " 서/Josa,\n",
      " 얇다/Adjective,\n",
      " 만들다/Verb,\n",
      " 좋다/Adjective,\n",
      " 탱자/Noun,\n",
      " 열매/Noun,\n",
      " 팬/Noun,\n",
      " 에/Josa,\n",
      " 기름/Noun,\n",
      " 을/Josa,\n",
      " 넣다/Verb,\n",
      " 살짝/Noun,\n",
      " 코핑/Noun,\n",
      " 만/Josa,\n",
      " 하듯/Josa,\n",
      " 이/Determiner,\n",
      " 하다/Verb,\n",
      " 기름/Noun,\n",
      " 을/Josa,\n",
      " 닦다/Verb,\n",
      " 지단/Noun,\n",
      " 이/Josa,\n",
      " 한결/Noun,\n",
      " 매끄럽/Noun,\n",
      " 게/Josa,\n",
      " 만들어지다/Verb,\n",
      " 후라이팬/Noun,\n",
      " 을/Josa,\n",
      " 먼저/Noun,\n",
      " 달다/Verb,\n",
      " 다음/Noun,\n",
      " 에/Josa,\n",
      " 약간/Noun,\n",
      " 식히다/Verb,\n",
      " 달걀/Noun,\n",
      " 을/Josa,\n",
      " 푸다/Verb,\n",
      " 달걀/Noun,\n",
      " 이/Josa,\n",
      " 후라이팬/Noun,\n",
      " 에/Josa,\n",
      " 안/Noun,\n",
      " 달라/Noun,\n",
      " 붙다/Verb,\n",
      " 개/Noun,\n",
      " 계란/Noun,\n",
      " 지단/Noun,\n",
      " 위/Noun,\n",
      " 에/Josa,\n",
      " 밥/Noun,\n",
      " 을/Josa,\n",
      " 펴다/Verb,\n",
      " 볶다/Verb,\n",
      " 두다/Verb,\n",
      " 표고버섯/Noun,\n",
      " 오이/Noun,\n",
      " 당근/Noun,\n",
      " 을/Josa,\n",
      " 올리다/Verb,\n",
      " 김밥/Noun,\n",
      " 말다/Verb,\n",
      " 말/Noun,\n",
      " 아/Josa,\n",
      " 준/Noun,\n",
      " 후/Noun,\n",
      " 데친/Noun,\n",
      " 미나리/Noun,\n",
      " 로/Josa,\n",
      " 한/Determiner,\n",
      " 입/Noun,\n",
      " 크기/Noun,\n",
      " 마다/Noun,\n",
      " 묶다/Verb,\n",
      " 썬/Noun,\n",
      " 다/Josa,\n",
      " 계란/Noun,\n",
      " 을/Josa,\n",
      " 풀때/Noun,\n",
      " 녹말/Noun,\n",
      " 이나/Josa,\n",
      " 밀가루/Noun,\n",
      " 를/Josa,\n",
      " 약간/Noun,\n",
      " 넣다/Verb,\n",
      " 자다/Verb,\n",
      " 안/Noun,\n",
      " 찢어지다/Verb,\n",
      " 하다/Verb,\n",
      " 푸우/Noun,\n",
      " 미술관/Noun,\n",
      " 가다/Verb,\n",
      " 팬/Noun,\n",
      " 에/Josa,\n",
      " 기름/Noun,\n",
      " 두르다/Verb,\n",
      " 키친/Noun,\n",
      " 타/Noun,\n",
      " 올로/Noun,\n",
      " 닦다/Verb,\n",
      " 내다/Verb,\n",
      " 후/Noun,\n",
      " 지단/Noun,\n",
      " 을/Josa,\n",
      " 부치다/Verb,\n",
      " 좋다/Adjective,\n",
      " 읍니/Noun,\n",
      " 다/Josa,\n",
      " 오르간/Noun,\n",
      " 얇다/Adjective,\n",
      " 조금/Noun,\n",
      " 만/Josa,\n",
      " 부어/Noun,\n",
      " 서/Josa,\n",
      " 약하다/Adjective,\n",
      " 불/Noun,\n",
      " 에/Josa,\n",
      " 두시/Noun,\n",
      " 면/Josa,\n",
      " 뒤지다/Verb,\n",
      " 않다/Verb,\n",
      " 양쪽/Noun,\n",
      " 다/Adverb,\n",
      " 익다/Verb,\n",
      " 개/Noun,\n",
      " 미씽/Noun,\n",
      " 개/Noun]\n"
     ]
    }
   ],
   "source": [
    "pprint(train_docs[1])"
   ]
  },
  {
   "cell_type": "code",
   "execution_count": 71,
   "metadata": {
    "collapsed": false
   },
   "outputs": [
    {
     "name": "stdout",
     "output_type": "stream",
     "text": [
      "[(당/Noun, 0.8050065040588379),\n",
      " (레몬쥬스/Noun, 0.8030404448509216),\n",
      " (원/Suffix, 0.7921150326728821),\n",
      " (멸치액젓/Noun, 0.7812657952308655),\n",
      " (오미자/Noun, 0.7683328986167908),\n",
      " (까나리/Noun, 0.7666820287704468),\n",
      " (쥬스/Noun, 0.7637406587600708),\n",
      " (자신감/Noun, 0.7601253986358643),\n",
      " (매운탕/Noun, 0.757141649723053),\n",
      " (탄산수/Noun, 0.7565250992774963)]\n"
     ]
    }
   ],
   "source": [
    "pprint(model.most_similar('사이다/Noun'))"
   ]
  },
  {
   "cell_type": "code",
   "execution_count": 55,
   "metadata": {
    "collapsed": false
   },
   "outputs": [
    {
     "data": {
      "text/plain": [
       "array([-0.52882451, -0.31584057, -1.53171444,  0.31637236, -0.8896156 ,\n",
       "       -0.74884295,  0.90856367, -0.9935959 , -0.36992064, -0.17746501,\n",
       "       -1.15707505, -0.08172133, -0.21895579, -0.9379732 ,  1.61794138,\n",
       "       -0.62538892,  1.21244645,  1.27052057,  1.03638637,  2.4698441 ,\n",
       "       -1.56574047, -0.70262021, -0.0109958 ,  0.70686501, -1.41213787,\n",
       "        0.42041582, -0.4588919 , -0.09952041,  0.34152344,  0.22312112,\n",
       "       -1.13519502,  0.56443173, -0.51184899,  0.7961207 ,  0.07986227,\n",
       "        1.3644594 ,  1.16530514, -1.01315224,  0.35221642, -0.50739288,\n",
       "       -0.50289994, -0.01515391, -0.74946594,  1.63668001, -0.87670475,\n",
       "        1.56522536,  0.31227812,  0.92214471,  0.40564302,  0.23607698,\n",
       "        0.41683674,  0.63558227, -0.02958273,  0.78238028, -0.51369739,\n",
       "       -1.12873995,  0.17478849, -0.39533615, -0.77111322,  0.2596125 ,\n",
       "       -0.41353616, -1.00086653, -1.02964485,  2.04160905, -0.40819407,\n",
       "       -0.15278411,  1.25621295,  1.14618301,  0.38268837, -0.05426082,\n",
       "        0.48763129,  0.37772128,  0.56094325, -0.09770885, -0.55880451,\n",
       "       -0.79060632,  0.16839734, -1.36217105,  0.53121924, -0.83447897,\n",
       "        0.25125915,  0.32599238,  2.29939747,  0.71748292,  0.57220769,\n",
       "        0.10663582,  0.64024645, -0.68962663,  0.22557536,  0.71621174,\n",
       "        0.89909536, -1.32350159, -0.09863508,  0.6519379 , -0.72724742,\n",
       "       -0.05568419,  0.37185156,  0.41922152,  1.35330498, -0.25483245], dtype=float32)"
      ]
     },
     "execution_count": 55,
     "metadata": {},
     "output_type": "execute_result"
    }
   ],
   "source": [
    "model['멸치/Noun']"
   ]
  },
  {
   "cell_type": "code",
   "execution_count": 73,
   "metadata": {
    "collapsed": false
   },
   "outputs": [],
   "source": [
    "word_vectorizer = Word2Vec.load('test1.model')"
   ]
  },
  {
   "cell_type": "code",
   "execution_count": 74,
   "metadata": {
    "collapsed": false
   },
   "outputs": [
    {
     "data": {
      "text/plain": [
       "<gensim.models.word2vec.Word2Vec at 0x7fdb7e180690>"
      ]
     },
     "execution_count": 74,
     "metadata": {},
     "output_type": "execute_result"
    }
   ],
   "source": [
    "word_vectorizer"
   ]
  },
  {
   "cell_type": "code",
   "execution_count": null,
   "metadata": {
    "collapsed": true
   },
   "outputs": [],
   "source": []
  }
 ],
 "metadata": {
  "kernelspec": {
   "display_name": "Python 2",
   "language": "python",
   "name": "python2"
  },
  "language_info": {
   "codemirror_mode": {
    "name": "ipython",
    "version": 2
   },
   "file_extension": ".py",
   "mimetype": "text/x-python",
   "name": "python",
   "nbconvert_exporter": "python",
   "pygments_lexer": "ipython2",
   "version": "2.7.6"
  }
 },
 "nbformat": 4,
 "nbformat_minor": 0
}
